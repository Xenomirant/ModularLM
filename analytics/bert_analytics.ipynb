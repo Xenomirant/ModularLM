{
 "cells": [
  {
   "cell_type": "markdown",
   "metadata": {
    "id": "SkRjTgTvHt0C"
   },
   "source": [
    "# Bert Analytics"
   ]
  },
  {
   "cell_type": "markdown",
   "metadata": {
    "id": "jESjuwfQHw8c"
   },
   "source": [
    "## Imports"
   ]
  },
  {
   "cell_type": "code",
   "execution_count": 1,
   "metadata": {
    "colab": {
     "base_uri": "https://localhost:8080/"
    },
    "id": "SSzfVu-SnBOl",
    "outputId": "18ce16b2-eeed-406e-f909-4c05a2e7e000"
   },
   "outputs": [],
   "source": [
    "!pip install transformers datasets evaluate wandb umap-learn hdbscan minicons seaborn"
   ]
  },
  {
   "cell_type": "code",
   "execution_count": 1,
   "metadata": {
    "id": "K8_hHVCNnBOq"
   },
   "outputs": [],
   "source": [
    "import datasets\n",
    "import transformers\n",
    "\n",
    "from transformers import (\n",
    "    AutoTokenizer,\n",
    "    DataCollatorForLanguageModeling,\n",
    "    AutoModelForMaskedLM,\n",
    ")\n",
    "\n",
    "import torch\n",
    "from torch.utils.data import Dataset, DataLoader\n",
    "\n",
    "from tqdm.auto import trange, tqdm\n",
    "import pandas as pd\n",
    "import numpy as np\n",
    "import minicons.scorer\n",
    "from mlm_scoring import ppl_mlm_score\n",
    "from functools import partial, partialmethod\n",
    "import pickle\n",
    "import pathlib\n",
    "\n",
    "\n",
    "import umap\n",
    "from matplotlib import pyplot as plt\n",
    "import hdbscan\n",
    "import seaborn as sns"
   ]
  },
  {
   "cell_type": "code",
   "execution_count": 51,
   "metadata": {},
   "outputs": [],
   "source": [
    "import sys\n",
    "from pathlib import Path\n",
    "sys.path.append(str(Path('.').absolute().parent))\n",
    "\n",
    "from MinioHandler import MinioHandler\n",
    "from PairsDataset import PairsDataset"
   ]
  },
  {
   "cell_type": "code",
   "execution_count": null,
   "metadata": {},
   "outputs": [],
   "source": []
  },
  {
   "cell_type": "code",
   "execution_count": 3,
   "metadata": {},
   "outputs": [],
   "source": [
    "minio = MinioHandler()"
   ]
  },
  {
   "cell_type": "code",
   "execution_count": 3,
   "metadata": {
    "colab": {
     "base_uri": "https://localhost:8080/"
    },
    "id": "MMZUfmdLEBnR",
    "outputId": "42a96da5-94f4-4ca5-d0e5-d2203d84c378"
   },
   "outputs": [],
   "source": [
    "# from google.colab import drive\n",
    "# drive.mount('/content/drive')"
   ]
  },
  {
   "cell_type": "markdown",
   "metadata": {
    "id": "fF-ss42aIADq"
   },
   "source": [
    "## Parameters"
   ]
  },
  {
   "cell_type": "code",
   "execution_count": 4,
   "metadata": {
    "colab": {
     "base_uri": "https://localhost:8080/"
    },
    "id": "zi_u2NiL0mgC",
    "outputId": "77c0bebd-c853-4cc1-89e2-2d4ba18ae76d"
   },
   "outputs": [
    {
     "data": {
      "text/plain": [
       "device(type='cuda')"
      ]
     },
     "execution_count": 4,
     "metadata": {},
     "output_type": "execute_result"
    }
   ],
   "source": [
    "device = torch.device(\"cuda\") if torch.cuda.is_available() else torch.device(\"cpu\")\n",
    "device"
   ]
  },
  {
   "cell_type": "code",
   "execution_count": 37,
   "metadata": {
    "id": "KTpeEhBwIBdl"
   },
   "outputs": [],
   "source": [
    "SEQ_LEN = 64\n",
    "BATCH_SIZE = 16\n",
    "\n",
    "DATA_PATH = '../data/test_dataset.csv'\n",
    "MODEL_NAME = 'DeepPavlov/rubert-base-cased'\n",
    "WEIGHTS_PATH = \"ckpt/naive_cosine_with_pretrained_bert_high_lr/model.pt\""
   ]
  },
  {
   "cell_type": "markdown",
   "metadata": {
    "id": "Zdbf_sj8Hy_9"
   },
   "source": [
    "## Data Preparation"
   ]
  },
  {
   "cell_type": "code",
   "execution_count": null,
   "metadata": {},
   "outputs": [],
   "source": []
  },
  {
   "cell_type": "code",
   "execution_count": 6,
   "metadata": {
    "id": "njT26l8Vn1ZM"
   },
   "outputs": [],
   "source": [
    "df = pd.read_csv(DATA_PATH, index_col=0)\n",
    "df.drop(columns=[\"was_changed\"], inplace=True)\n",
    "data = datasets.Dataset.from_pandas(df, preserve_index=False)\n",
    "\n",
    "# data = data.train_test_split(test_size=TEST_SIZE)"
   ]
  },
  {
   "cell_type": "code",
   "execution_count": 7,
   "metadata": {},
   "outputs": [
    {
     "data": {
      "text/plain": [
       "Dataset({\n",
       "    features: ['base', 'polypers'],\n",
       "    num_rows: 229849\n",
       "})"
      ]
     },
     "execution_count": 7,
     "metadata": {},
     "output_type": "execute_result"
    }
   ],
   "source": [
    "data"
   ]
  },
  {
   "cell_type": "code",
   "execution_count": 8,
   "metadata": {
    "colab": {
     "base_uri": "https://localhost:8080/",
     "height": 269,
     "referenced_widgets": [
      "74c2552f3f8e4607ac882ec0006d3f3d",
      "7f3a518214fb4d1b9cff2fd5748bebbc",
      "6e207cacebf3408c8e9bad17a9c233ff",
      "44057177f7c1485db145a9a6ab1444bf",
      "c12b6288f31b4feca74dc8b81d02b4de",
      "bcb1329f66d3456785fb6ef0c17bfe97",
      "5dedd75089dd4302b42d634ec97dfc9c",
      "96d820d0ed924f719f51ad35303aa1bd",
      "9936d4e2de00417c8719102f9c527fbb",
      "129a0bf46a7e4139867290529876bf77",
      "259e2f25b000431e9dae5589503d6fd4",
      "3cfbad5fdadc4bdbba1b9e9ad27a4f8f",
      "81559391094742f0aa43cd0b97a8c738",
      "a4973e00592f4cf6a758a678ebf7b623",
      "d4fee055d24e4baf8e61a02e6c899d58",
      "319f218130c94de28486f264e17f8329",
      "c8ffedc001804d6d9a3bb006dca3406f",
      "65983e8a88ff4753b6a7551aaa841c8a",
      "1bfa5444227f4c4b9d9155ba3117e997",
      "972a8a7a941b4041934a1ed6aa8dfd62",
      "ab1d5080467446459ed6e06e7ea791e2",
      "0e6c564fff594d92b7ab4d92033e620c",
      "0c755ca7b53d4311b338428621899152",
      "3194f094945c400aad937db30b7cf206",
      "0cf98ff3317e4c5bafe838b6687475dc",
      "dbf03bcb65e546e5a9a9afd2f44c8820",
      "c0f5064a469d4c4c971f639dd43a3f16",
      "0187facb90d443d8adbaeccd018b2646",
      "a93414cabf614bfeb2f426aa9374a1ed",
      "cba28c82f46f445096063c91e291622a",
      "58a7d9a245bb4fe2a4db6f55e3ec20d5",
      "edd0aa3ecfab4156bba58c2b797a5418",
      "1877c701ad154443a986bc5d53bdb73b",
      "f87527476d1e4d4798f49263ab8c5ac4",
      "cf9f386a9c284e08b265065f901d8241",
      "c1bbed4bdc5947ceb8ab1997d002d67c",
      "42b3a0bb4c214ede8937ad548c8b0fb2",
      "2637057ac1c345fd81e98388e559b978",
      "d0ad0bfebaaf4b309d80c455504632b3",
      "73b0448f69e74cfb86fa9d1254455db8",
      "a81bfee03361465983ee8e7af7145c85",
      "2149d37136634599aff94a579eafb13c",
      "7736c14b5ae3411b81e11eb77a3d7059",
      "80e1a2a19cc04e049a2b3c84d58ce172"
     ]
    },
    "id": "Oiiq0h3tnBOr",
    "outputId": "50673434-5fe4-402c-9ef8-73ce2f952ea4"
   },
   "outputs": [],
   "source": [
    "tokenizer = AutoTokenizer.from_pretrained(MODEL_NAME)"
   ]
  },
  {
   "cell_type": "code",
   "execution_count": 33,
   "metadata": {
    "id": "UAYYJ5h7J7xM"
   },
   "outputs": [],
   "source": [
    "dt = PairsDataset(mlm_model.tokenizer, data=df, SEQ_LEN=SEQ_LEN)"
   ]
  },
  {
   "cell_type": "code",
   "execution_count": null,
   "metadata": {
    "id": "yA_9IgK1nBOs"
   },
   "outputs": [],
   "source": [
    "# tokenizer.pad_token = '[SEP]'\n",
    "# tokenizer.eos_token = '[SEP]'\n",
    "# data_collator = DataCollatorForLanguageModeling(tokenizer=tokenizer, mlm_probability=MLM_PROB)"
   ]
  },
  {
   "cell_type": "markdown",
   "metadata": {
    "id": "P8nu5cYyIxDd"
   },
   "source": [
    "## Model"
   ]
  },
  {
   "cell_type": "code",
   "execution_count": null,
   "metadata": {
    "id": "3I3B8JUjnBOs"
   },
   "outputs": [],
   "source": [
    "model = AutoModelForMaskedLM.from_pretrained(MODEL_NAME)\n",
    "model.to(device)\n",
    "pass"
   ]
  },
  {
   "cell_type": "code",
   "execution_count": 38,
   "metadata": {
    "id": "i1jKf5qdTF0K"
   },
   "outputs": [],
   "source": [
    "dt = PairsDataset(data, mlm_model.tokenizer)\n",
    "dl = DataLoader(dt,\n",
    "                batch_size=BATCH_SIZE,\n",
    "                shuffle=False)"
   ]
  },
  {
   "cell_type": "code",
   "execution_count": null,
   "metadata": {},
   "outputs": [],
   "source": [
    "  "
   ]
  },
  {
   "cell_type": "markdown",
   "metadata": {},
   "source": [
    "### MLM scoring"
   ]
  },
  {
   "cell_type": "code",
   "execution_count": 8,
   "metadata": {},
   "outputs": [],
   "source": [
    "BATCH_SIZE = 3\n",
    "# note : this is the sequence length in terms of words, \n",
    "SEQ_LEN = 64"
   ]
  },
  {
   "cell_type": "code",
   "execution_count": 8,
   "metadata": {},
   "outputs": [],
   "source": [
    "# not needed anymore\n",
    "# data_cut = data.map(lambda x: {k: \" \".join(v.split()[:SEQ_LEN]) for k, v in x.items()})"
   ]
  },
  {
   "cell_type": "code",
   "execution_count": 9,
   "metadata": {},
   "outputs": [],
   "source": [
    "token_dl = DataLoader(data,\n",
    "                batch_size=BATCH_SIZE,\n",
    "                shuffle=False)"
   ]
  },
  {
   "cell_type": "code",
   "execution_count": 10,
   "metadata": {},
   "outputs": [],
   "source": [
    "mlm_model = minicons.scorer.MaskedLMScorer(\n",
    "    MODEL_NAME, 'cuda', torch_dtype=torch.float32, )"
   ]
  },
  {
   "cell_type": "code",
   "execution_count": 11,
   "metadata": {},
   "outputs": [
    {
     "data": {
      "text/plain": [
       "transformers.models.bert.tokenization_bert_fast.BertTokenizerFast"
      ]
     },
     "execution_count": 11,
     "metadata": {},
     "output_type": "execute_result"
    }
   ],
   "source": [
    "type(mlm_model.tokenizer)"
   ]
  },
  {
   "cell_type": "code",
   "execution_count": 12,
   "metadata": {},
   "outputs": [],
   "source": [
    "def override_padding(func):\n",
    "    def wrapper(*args, **kwargs):\n",
    "        try:\n",
    "            del kwargs[\"max_length\"]\n",
    "            del kwargs[\"truncation\"]\n",
    "        except:\n",
    "            pass\n",
    "        return func(*args, \n",
    "                max_length=SEQ_LEN+2,\n",
    "                truncation=True,\n",
    "                **kwargs)\n",
    "    return wrapper"
   ]
  },
  {
   "cell_type": "code",
   "execution_count": 13,
   "metadata": {},
   "outputs": [],
   "source": [
    "# this step is crusial as otherwise kernel crashes with OOM in case long sentence is passed\n",
    "\n",
    "SEQ_LEN_tokenizer = type('SEQ_LEN_tokenizer', (type(mlm_model.tokenizer), ), \n",
    "                         {\"__call__\": override_padding(type(mlm_model.tokenizer).__call__,),\n",
    "                         \"encode\": override_padding(type(mlm_model.tokenizer).encode),\n",
    "                         \"batch_encode_plus\": override_padding(type(mlm_model.tokenizer).batch_encode_plus),\n",
    "                         })\n",
    "\n",
    "mlm_model.tokenizer.__class__ = SEQ_LEN_tokenizer\n",
    "\n",
    "# mlm_model.tokenizer.encode = types.MethodType(partial(mlm_model.tokenizer.encode, max_length=SEQ_LEN), mlm_model.tokenizer, type(mlm_model.tokenizer))\n",
    "# mlm_model.tokenizer.batch_encode_plus = types.MethodType(partial(mlm_model.tokenizer.batch_encode_plus, max_length=SEQ_LEN), mlm_model.tokenizer, type(mlm_model.tokenizer))"
   ]
  },
  {
   "cell_type": "code",
   "execution_count": null,
   "metadata": {},
   "outputs": [],
   "source": []
  },
  {
   "cell_type": "code",
   "execution_count": 14,
   "metadata": {},
   "outputs": [],
   "source": [
    "ckpt = minio.get_object(WEIGHTS_PATH, type=\"model\")\n",
    "model_dict = torch.load(ckpt)\n",
    "\n",
    "# necessary for averaged models\n",
    "model_dict[\"model_state_dict\"] = {\".\".join(k.split(\".\")[1:]): v for k, v in model_dict[\"model_state_dict\"].items() if \".\".join(k.split(\".\")[1:])}"
   ]
  },
  {
   "cell_type": "code",
   "execution_count": 15,
   "metadata": {},
   "outputs": [],
   "source": [
    "mlm_model.model.load_state_dict(model_dict[\"model_state_dict\"])\n",
    "mlm_model.model.eval();"
   ]
  },
  {
   "cell_type": "code",
   "execution_count": null,
   "metadata": {},
   "outputs": [],
   "source": []
  },
  {
   "cell_type": "markdown",
   "metadata": {
    "jp-MarkdownHeadingCollapsed": true
   },
   "source": [
    "#### Examples"
   ]
  },
  {
   "cell_type": "code",
   "execution_count": 78,
   "metadata": {},
   "outputs": [],
   "source": [
    "stimuli = ['Маша переигрываетют команду галактических велоцирапторов на их же бурлящем магмой поле.']"
   ]
  },
  {
   "cell_type": "code",
   "execution_count": 86,
   "metadata": {},
   "outputs": [
    {
     "name": "stdout",
     "output_type": "stream",
     "text": [
      "[148.0287103652954]\n"
     ]
    }
   ],
   "source": [
    "# un-normalized sequence score\n",
    "print(mlm_model.sequence_score(stimuli, reduction = lambda x: -x.sum(0).item(), PLL_metric='within_word_l2r'))"
   ]
  },
  {
   "cell_type": "code",
   "execution_count": 87,
   "metadata": {},
   "outputs": [
    {
     "name": "stdout",
     "output_type": "stream",
     "text": [
      "[-7.04898620787121]\n"
     ]
    }
   ],
   "source": [
    "# un-normalized sequence score\n",
    "print(mlm_model.sequence_score(stimuli,  PLL_metric='within_word_l2r'))"
   ]
  },
  {
   "cell_type": "code",
   "execution_count": 88,
   "metadata": {},
   "outputs": [
    {
     "name": "stdout",
     "output_type": "stream",
     "text": [
      "[123.32754421234131]\n"
     ]
    }
   ],
   "source": [
    "# original metric, for comparison:\n",
    "print(mlm_model.sequence_score(stimuli, reduction = lambda x: -x.sum(0).item(), PLL_metric='original'))"
   ]
  },
  {
   "cell_type": "code",
   "execution_count": 89,
   "metadata": {},
   "outputs": [
    {
     "name": "stdout",
     "output_type": "stream",
     "text": [
      "[[('Маша', -14.733255386352539), ('переиг', -12.894548416137695), ('##рывает', -1.5674495697021484), ('##ют', -12.331448554992676), ('команду', -10.329864501953125), ('галакт', -9.798038482666016), ('##ических', -0.016702651977539062), ('вело', -13.687272071838379), ('##цир', -6.7924394607543945), ('##апт', -7.651939392089844), ('##оров', -6.568037986755371), ('на', -1.355173110961914), ('их', -7.46560001373291), ('же', -5.223512649536133), ('бур', -9.791799545288086), ('##лящ', -0.029567718505859375), ('##ем', -0.15289306640625), ('маг', -10.546503067016602), ('##мой', -15.570703506469727), ('поле', -1.4538021087646484), ('.', -0.06815910339355469)]]\n"
     ]
    }
   ],
   "source": [
    "# per token mlm score\n",
    "print(mlm_model.token_score(stimuli, PLL_metric='within_word_l2r'))"
   ]
  },
  {
   "cell_type": "code",
   "execution_count": 90,
   "metadata": {},
   "outputs": [
    {
     "name": "stdout",
     "output_type": "stream",
     "text": [
      "[[('Маша', -14.733255386352539), ('переиг', -11.954214096069336), ('##рывает', -8.466730117797852), ('##ют', -12.331448554992676), ('команду', -10.329864501953125), ('галакт', -3.4973182678222656), ('##ических', -0.016702651977539062), ('вело', -5.904531478881836), ('##цир', -5.439380645751953), ('##апт', -9.758092880249023), ('##оров', -6.568037986755371), ('на', -1.355173110961914), ('их', -7.46560001373291), ('же', -5.223512649536133), ('бур', -0.0006656646728515625), ('##лящ', -4.9591064453125e-05), ('##ем', -0.15289306640625), ('маг', -3.0374088287353516), ('##мой', -15.570703506469727), ('поле', -1.4538021087646484), ('.', -0.06815910339355469)]]\n"
     ]
    }
   ],
   "source": [
    "# original values, for comparison (notice the 'souvenir' tokens):\n",
    "print(mlm_model.token_score(stimuli, PLL_metric='original'))"
   ]
  },
  {
   "cell_type": "code",
   "execution_count": null,
   "metadata": {},
   "outputs": [],
   "source": []
  },
  {
   "cell_type": "markdown",
   "metadata": {},
   "source": [
    "Test dataset scoring"
   ]
  },
  {
   "cell_type": "code",
   "execution_count": 65,
   "metadata": {},
   "outputs": [
    {
     "data": {
      "text/plain": [
       "[('Штурман доложил , что расстояние от « Каймана » до « Колумба » в семь раз короче расстояния от шхуны до эсминца .',\n",
       "  23.059691429138184),\n",
       " ('Я смотрел на топчанчик и не сразу заметил доктора Грейсона , который надевал халат .',\n",
       "  28.70303773880005),\n",
       " ('Пришлось зачеркнуть и \" во-первых \" и \" во-вторых \" и написать просто : \" потому что каникулы \" .',\n",
       "  41.376718521118164),\n",
       " ('Будем растить мастеров своего дела .', 25.77302837371826),\n",
       " ('Вам , думается , тоже , а мне-то ведь есть что терять .',\n",
       "  31.656872272491455),\n",
       " ('А каково командиру ?', 14.959938049316406),\n",
       " ('Глубина здесь была не столь велика , но течение необыкновенно сильное , вода ледяная и скользкое , покатое дно .',\n",
       "  47.39584922790527),\n",
       " ('Не правда ли , вы заставите , штурмбаннфюрер ?', 26.777738571166992),\n",
       " ('Записали о нем в вахтенный журнал .', 12.138683319091797),\n",
       " ('А вы — в Трое .', 18.4355411529541),\n",
       " ('Очнувшись , я увидел , что Гюнтер яростно тащит свой аппарат к завалу .',\n",
       "  36.330440521240234),\n",
       " ('« Колумб » могли узнать и подойти к нему хотя бы для того , чтобы перекинуться несколькими словами со знакомыми .',\n",
       "  26.67226219177246),\n",
       " ('И у всех — чтоб их чорт драл ! — друзей-приятелей по пьянке не сочтешь .',\n",
       "  60.56895351409912),\n",
       " ('Неужели у вас , Ресьинь , нет никаких средств спасти их ?',\n",
       "  18.730777740478516),\n",
       " ('Смотреть страшно .', 11.977997779846191),\n",
       " ('Но он перекрывал свою слабость развитым слухом и обонянием .',\n",
       "  25.637609481811523),\n",
       " ('– Подождите , ребята !', 10.62349796295166),\n",
       " ('Виталька пятился назад , не сводя взгляда с мяча .', 31.908437728881836),\n",
       " ('В этом случае тотчас же должен был включиться второй , резервный .',\n",
       "  8.628828048706055),\n",
       " ('Он внимательно слушал канонаду , этот « бывалый артиллерист » , много бед видавший ленинградский мальчик .',\n",
       "  60.350069999694824)]"
      ]
     },
     "execution_count": 65,
     "metadata": {},
     "output_type": "execute_result"
    }
   ],
   "source": [
    "list(\n",
    "    zip(\n",
    "    data[\"base\"][:20], \n",
    "         mlm_model.sequence_score(data[\"base\"][:20], reduction = lambda x: -x.sum(0).item(), PLL_metric='within_word_l2r')\n",
    "    )\n",
    ")"
   ]
  },
  {
   "cell_type": "code",
   "execution_count": 66,
   "metadata": {},
   "outputs": [
    {
     "data": {
      "text/plain": [
       "[('Штурман доложил , что расстояние от « Каймана » до « Колумба » в семь раз короче расстояния от шхуны до эсминца .',\n",
       "  23.059691429138184),\n",
       " ('Я смотрел на топчанчик и не сразу заметилет доктора Грейсона , который надевалет халат .',\n",
       "  70.1815733909607),\n",
       " ('Пришлось зачеркнуть и \" во-первых \" и \" во-вторых \" и написать просто : \" потому что каникулы \" .',\n",
       "  41.37671756744385),\n",
       " ('Будем растить мастеров своего дела .', 25.773029327392578),\n",
       " ('Вам , думается , тоже , а мне-то ведь есть что терять .',\n",
       "  31.656872272491455),\n",
       " ('А каково командиру ?', 14.959938049316406),\n",
       " ('Глубина здесь была не столь велика , но течение необыкновенно сильное , вода ледяная и скользкое , покатое дно .',\n",
       "  47.39584922790527),\n",
       " ('Не правда ли , вы заставите , штурмбаннфюрер ?', 26.777738571166992),\n",
       " ('Записали о нем в вахтенный журнал .', 12.13868522644043),\n",
       " ('А вы — в Трое .', 18.4355411529541),\n",
       " ('Очнувшись , я увидел , что Гюнтер яростно тащитет свой аппарат к завалу .',\n",
       "  65.51657295227051),\n",
       " ('« Колумб » могли узнать и подойти к нему хотя бы для того , чтобы перекинуться несколькими словами со знакомыми .',\n",
       "  26.67226219177246),\n",
       " ('И у всех — чтоб их чорт дралете ! — друзей-приятелей по пьянке не сочтешь .',\n",
       "  83.22423458099365),\n",
       " ('Неужели у вас , Ресьинь , нет никаких средств спасти их ?',\n",
       "  18.730777740478516),\n",
       " ('Смотреть страшно .', 11.977997779846191),\n",
       " ('Но он перекрывалет свою слабость развитым слухом и обонянием .',\n",
       "  46.76348114013672),\n",
       " ('– Подождите , ребята !', 10.62349796295166),\n",
       " ('Виталька пятился назад , не сводя взгляда с мяча .', 31.908437728881836),\n",
       " ('В этом случае тотчас же должен был включиться второй , резервный .',\n",
       "  8.628828048706055),\n",
       " ('Он внимательно слушалет канонаду , этот « бывалый артиллерист » , много бед видавший ленинградский мальчик .',\n",
       "  74.28886318206787)]"
      ]
     },
     "execution_count": 66,
     "metadata": {},
     "output_type": "execute_result"
    }
   ],
   "source": [
    "list(\n",
    "    zip(\n",
    "    data[\"polypers\"][:20], \n",
    "         mlm_model.sequence_score(data[\"polypers\"][:20], reduction = lambda x: -x.sum(0).item(), PLL_metric='within_word_l2r')\n",
    "    )\n",
    ")"
   ]
  },
  {
   "cell_type": "markdown",
   "metadata": {},
   "source": [
    "#### Tests"
   ]
  },
  {
   "cell_type": "code",
   "execution_count": 15,
   "metadata": {},
   "outputs": [],
   "source": [
    "# def print_tokens(func):\n",
    "#     def wrapper(*args, **kwargs):\n",
    "#         print([item.shape for item in list(args[0])[0]])\n",
    "#         print()\n",
    "#         print(kwargs)\n",
    "#         return func(*args, **kwargs)\n",
    "#     return wrapper\n",
    "\n",
    "# mlm_model.compute_stats = print_tokens(mlm_model.compute_stats)"
   ]
  },
  {
   "cell_type": "code",
   "execution_count": 19,
   "metadata": {},
   "outputs": [
    {
     "data": {
      "text/plain": [
       "66"
      ]
     },
     "execution_count": 19,
     "metadata": {},
     "output_type": "execute_result"
    }
   ],
   "source": [
    "# len(mlm_model.tokenizer.batch_encode_plus([data[\"base\"][170621]])[\"input_ids\"][0])"
   ]
  },
  {
   "cell_type": "code",
   "execution_count": 17,
   "metadata": {},
   "outputs": [
    {
     "data": {
      "text/plain": [
       "torch.Size([1, 298])"
      ]
     },
     "execution_count": 17,
     "metadata": {},
     "output_type": "execute_result"
    }
   ],
   "source": [
    "# mlm_model.tokenizer.batch_encode_plus([data[\"base\"][170621]],\n",
    "#                     add_special_tokens=False,\n",
    "#                     padding=\"longest\",\n",
    "#                     return_attention_mask=True,\n",
    "#                     return_tensors=\"pt\",\n",
    "#                 )[\"input_ids\"].shape"
   ]
  },
  {
   "cell_type": "code",
   "execution_count": null,
   "metadata": {},
   "outputs": [],
   "source": []
  },
  {
   "cell_type": "markdown",
   "metadata": {},
   "source": [
    "#### Score test dataset"
   ]
  },
  {
   "cell_type": "code",
   "execution_count": 16,
   "metadata": {},
   "outputs": [],
   "source": [
    "path = pathlib.Path(f\"../logs/{WEIGHTS_PATH}\").parent"
   ]
  },
  {
   "cell_type": "code",
   "execution_count": 17,
   "metadata": {},
   "outputs": [],
   "source": [
    "path = pathlib.Path(*path.parts[:2], path.name)\n",
    "path.mkdir(exist_ok=True)"
   ]
  },
  {
   "cell_type": "code",
   "execution_count": 24,
   "metadata": {},
   "outputs": [
    {
     "data": {
      "text/plain": [
       "PosixPath('../logs/naive_cosine_with_pretrained_bert_EMA_updated_masks')"
      ]
     },
     "execution_count": 24,
     "metadata": {},
     "output_type": "execute_result"
    }
   ],
   "source": [
    "path"
   ]
  },
  {
   "cell_type": "code",
   "execution_count": 22,
   "metadata": {},
   "outputs": [],
   "source": [
    "def score_and_save(model, df, token_dl, top_k, path):\n",
    "\n",
    "    base_scores, poly_scores, tkn_dict_base, tkn_dict_poly = \\\n",
    "        ppl_mlm_score(mlm_model, token_dl, top_k=top_k)\n",
    "\n",
    "    df[\"base_score\"] = base_scores\n",
    "    df[\"poly_score\"] = poly_scores\n",
    "    df.to_csv(path.joinpath(\"mlm_score.csv\"),)\n",
    "    \n",
    "    with open(path.joinpath(\"token_scores.pkl\"), \"wb\") as f:\n",
    "        pickle.dump((base_scores, poly_scores, tkn_dict_base, tkn_dict_poly), f)\n",
    "\n",
    "    minio.fput_object(object_name=f\"ModularLM/ckpt/{path.name}/mlm_score.csv\", file_path=path.joinpath(\"mlm_score.csv\"))\n",
    "    minio.fput_object(object_name=f\"ModularLM/ckpt/{path.name}/token_scores.pkl\", file_path=path.joinpath(\"token_scores.pkl\"))\n",
    "\n",
    "    return df, base_scores, poly_scores, tkn_dict_base, tkn_dict_poly"
   ]
  },
  {
   "cell_type": "code",
   "execution_count": 25,
   "metadata": {},
   "outputs": [
    {
     "name": "stderr",
     "output_type": "stream",
     "text": [
      "100%|██████████| 76617/76617 [4:20:41<00:00,  4.90it/s]  \n"
     ]
    }
   ],
   "source": [
    "res = score_and_save(model=mlm_model,\n",
    "                     df=df, \n",
    "                     token_dl=token_dl,\n",
    "                     top_k=5,\n",
    "                     path=path)"
   ]
  },
  {
   "cell_type": "code",
   "execution_count": 26,
   "metadata": {},
   "outputs": [
    {
     "data": {
      "text/html": [
       "<div>\n",
       "<style scoped>\n",
       "    .dataframe tbody tr th:only-of-type {\n",
       "        vertical-align: middle;\n",
       "    }\n",
       "\n",
       "    .dataframe tbody tr th {\n",
       "        vertical-align: top;\n",
       "    }\n",
       "\n",
       "    .dataframe thead th {\n",
       "        text-align: right;\n",
       "    }\n",
       "</style>\n",
       "<table border=\"1\" class=\"dataframe\">\n",
       "  <thead>\n",
       "    <tr style=\"text-align: right;\">\n",
       "      <th></th>\n",
       "      <th>base</th>\n",
       "      <th>polypers</th>\n",
       "      <th>base_score</th>\n",
       "      <th>poly_score</th>\n",
       "    </tr>\n",
       "  </thead>\n",
       "  <tbody>\n",
       "    <tr>\n",
       "      <th>171320</th>\n",
       "      <td>Штурман доложил , что расстояние от « Каймана ...</td>\n",
       "      <td>Штурман доложил , что расстояние от « Каймана ...</td>\n",
       "      <td>-0.922386</td>\n",
       "      <td>-0.922386</td>\n",
       "    </tr>\n",
       "    <tr>\n",
       "      <th>1816728</th>\n",
       "      <td>Я смотрел на топчанчик и не сразу заметил докт...</td>\n",
       "      <td>Я смотрел на топчанчик и не сразу заметилет до...</td>\n",
       "      <td>-1.510688</td>\n",
       "      <td>-3.509078</td>\n",
       "    </tr>\n",
       "    <tr>\n",
       "      <th>1583931</th>\n",
       "      <td>Пришлось зачеркнуть и \" во-первых \" и \" во-вто...</td>\n",
       "      <td>Пришлось зачеркнуть и \" во-первых \" и \" во-вто...</td>\n",
       "      <td>-1.591412</td>\n",
       "      <td>-1.591411</td>\n",
       "    </tr>\n",
       "    <tr>\n",
       "      <th>2031451</th>\n",
       "      <td>Будем растить мастеров своего дела .</td>\n",
       "      <td>Будем растить мастеров своего дела .</td>\n",
       "      <td>-3.681862</td>\n",
       "      <td>-3.681862</td>\n",
       "    </tr>\n",
       "    <tr>\n",
       "      <th>2246917</th>\n",
       "      <td>Вам , думается , тоже , а мне-то ведь есть что...</td>\n",
       "      <td>Вам , думается , тоже , а мне-то ведь есть что...</td>\n",
       "      <td>-1.978554</td>\n",
       "      <td>-1.978554</td>\n",
       "    </tr>\n",
       "    <tr>\n",
       "      <th>...</th>\n",
       "      <td>...</td>\n",
       "      <td>...</td>\n",
       "      <td>...</td>\n",
       "      <td>...</td>\n",
       "    </tr>\n",
       "    <tr>\n",
       "      <th>1146158</th>\n",
       "      <td>А у геолога были черты Львова .</td>\n",
       "      <td>А у геолога были черты Львова .</td>\n",
       "      <td>-5.845582</td>\n",
       "      <td>-5.845582</td>\n",
       "    </tr>\n",
       "    <tr>\n",
       "      <th>1063167</th>\n",
       "      <td>— Ну и головы !..</td>\n",
       "      <td>— Ну и головы !..</td>\n",
       "      <td>-1.776179</td>\n",
       "      <td>-1.776178</td>\n",
       "    </tr>\n",
       "    <tr>\n",
       "      <th>784613</th>\n",
       "      <td>Инки испугались .</td>\n",
       "      <td>Инки испугались .</td>\n",
       "      <td>-3.218121</td>\n",
       "      <td>-3.218120</td>\n",
       "    </tr>\n",
       "    <tr>\n",
       "      <th>978846</th>\n",
       "      <td>Он услышал одобрительный ропот за спиной .</td>\n",
       "      <td>Он услышалет одобрительный ропот за спиной .</td>\n",
       "      <td>-1.565430</td>\n",
       "      <td>-2.991309</td>\n",
       "    </tr>\n",
       "    <tr>\n",
       "      <th>1754581</th>\n",
       "      <td>— Принимаю ваше замечание , — сказал Рут .</td>\n",
       "      <td>— Принимаюет ваше замечание , — сказал Рут .</td>\n",
       "      <td>-1.809484</td>\n",
       "      <td>-3.555221</td>\n",
       "    </tr>\n",
       "  </tbody>\n",
       "</table>\n",
       "<p>229849 rows × 4 columns</p>\n",
       "</div>"
      ],
      "text/plain": [
       "                                                      base  \\\n",
       "171320   Штурман доложил , что расстояние от « Каймана ...   \n",
       "1816728  Я смотрел на топчанчик и не сразу заметил докт...   \n",
       "1583931  Пришлось зачеркнуть и \" во-первых \" и \" во-вто...   \n",
       "2031451               Будем растить мастеров своего дела .   \n",
       "2246917  Вам , думается , тоже , а мне-то ведь есть что...   \n",
       "...                                                    ...   \n",
       "1146158                    А у геолога были черты Львова .   \n",
       "1063167                                  — Ну и головы !..   \n",
       "784613                                   Инки испугались .   \n",
       "978846          Он услышал одобрительный ропот за спиной .   \n",
       "1754581         — Принимаю ваше замечание , — сказал Рут .   \n",
       "\n",
       "                                                  polypers  base_score  \\\n",
       "171320   Штурман доложил , что расстояние от « Каймана ...   -0.922386   \n",
       "1816728  Я смотрел на топчанчик и не сразу заметилет до...   -1.510688   \n",
       "1583931  Пришлось зачеркнуть и \" во-первых \" и \" во-вто...   -1.591412   \n",
       "2031451               Будем растить мастеров своего дела .   -3.681862   \n",
       "2246917  Вам , думается , тоже , а мне-то ведь есть что...   -1.978554   \n",
       "...                                                    ...         ...   \n",
       "1146158                    А у геолога были черты Львова .   -5.845582   \n",
       "1063167                                  — Ну и головы !..   -1.776179   \n",
       "784613                                   Инки испугались .   -3.218121   \n",
       "978846        Он услышалет одобрительный ропот за спиной .   -1.565430   \n",
       "1754581       — Принимаюет ваше замечание , — сказал Рут .   -1.809484   \n",
       "\n",
       "         poly_score  \n",
       "171320    -0.922386  \n",
       "1816728   -3.509078  \n",
       "1583931   -1.591411  \n",
       "2031451   -3.681862  \n",
       "2246917   -1.978554  \n",
       "...             ...  \n",
       "1146158   -5.845582  \n",
       "1063167   -1.776178  \n",
       "784613    -3.218120  \n",
       "978846    -2.991309  \n",
       "1754581   -3.555221  \n",
       "\n",
       "[229849 rows x 4 columns]"
      ]
     },
     "execution_count": 26,
     "metadata": {},
     "output_type": "execute_result"
    }
   ],
   "source": [
    "res[0]"
   ]
  },
  {
   "cell_type": "code",
   "execution_count": null,
   "metadata": {},
   "outputs": [],
   "source": []
  },
  {
   "cell_type": "markdown",
   "metadata": {
    "id": "-7bha8jgqWoQ"
   },
   "source": [
    "Метрики:\n",
    "- Норма вектора разницы\n",
    "- Евклид\n",
    "-"
   ]
  },
  {
   "cell_type": "code",
   "execution_count": 27,
   "metadata": {
    "id": "dsCXrfYeO-ml"
   },
   "outputs": [],
   "source": [
    "def vectorize(model, data, metric, division_layer=3):\n",
    "    model.eval()\n",
    "\n",
    "    res = []\n",
    "\n",
    "    with torch.no_grad():\n",
    "        for batch in tqdm(data):\n",
    "            ref = model(**{k: v.to(model.device).squeeze() for k, v in batch[0].items()},\n",
    "                         output_hidden_states=True)\n",
    "            cur = model(**{k: v.to(model.device).squeeze() for k, v in batch[1].items()},\n",
    "                         output_hidden_states=True)\n",
    "\n",
    "            ref = torch.mean(ref.hidden_states[division_layer], dim=1)\n",
    "            cur = torch.mean(cur.hidden_states[division_layer], dim=1)\n",
    "\n",
    "            dist = metric(ref, cur)\n",
    "\n",
    "            res.append(dist)\n",
    "\n",
    "    return torch.vstack(res)"
   ]
  },
  {
   "cell_type": "code",
   "execution_count": 28,
   "metadata": {
    "id": "O48t9N1K8XCF"
   },
   "outputs": [],
   "source": [
    "metric = lambda x, y: abs(x - y)"
   ]
  },
  {
   "cell_type": "code",
   "execution_count": 39,
   "metadata": {
    "colab": {
     "base_uri": "https://localhost:8080/",
     "height": 66,
     "referenced_widgets": [
      "675aacb9f92f4ad88264548160e0fe3a",
      "3fe13144518545f8bf927497c4ad223c",
      "01c3dc13f5de40fc8f4900f071882b32",
      "94d0af649cc44bf2bf153cda1986e8ad",
      "dc4e173f254543ffb1f20b4d6a11aca8",
      "007f773c93bf4b1ba7692faf90ec5d4d",
      "f237da2e8ee245258a1965f04ef35267",
      "0452e3a94f3c4711b2e847eedf0494cd",
      "17a44fc9efbf46e5ab5986dfccfc622b",
      "43e5ae924e9e42c4b95fb54c9d6e7fe3",
      "99af3341b76c4873bfb896ace2e6294d"
     ]
    },
    "id": "DkJ_DSkxUBvf",
    "outputId": "d7aaf136-52b2-47e4-f8cd-2f1b94c3b38b"
   },
   "outputs": [
    {
     "data": {
      "application/vnd.jupyter.widget-view+json": {
       "model_id": "2a24fa0bd84f4fad8595be2c8871ecab",
       "version_major": 2,
       "version_minor": 0
      },
      "text/plain": [
       "  0%|          | 0/14366 [00:00<?, ?it/s]"
      ]
     },
     "metadata": {},
     "output_type": "display_data"
    }
   ],
   "source": [
    "vecs = vectorize(mlm_model.model, dl, metric, division_layer=4)\n"
   ]
  },
  {
   "cell_type": "code",
   "execution_count": 40,
   "metadata": {
    "colab": {
     "base_uri": "https://localhost:8080/",
     "height": 447
    },
    "id": "X9N2Q4E2vXfd",
    "outputId": "bcb1b896-8b5d-4d1e-921d-e14511225ee8"
   },
   "outputs": [
    {
     "data": {
      "text/plain": [
       "<Axes: ylabel='Count'>"
      ]
     },
     "execution_count": 40,
     "metadata": {},
     "output_type": "execute_result"
    },
    {
     "data": {
      "image/png": "[encoded data removed]",
      "text/plain": [
       "<Figure size 640x480 with 1 Axes>"
      ]
     },
     "metadata": {},
     "output_type": "display_data"
    }
   ],
   "source": [
    "sns.histplot(torch.linalg.vector_norm(vecs, ord=2, dim=1).cpu(), bins=10)"
   ]
  },
  {
   "cell_type": "code",
   "execution_count": 41,
   "metadata": {
    "colab": {
     "base_uri": "https://localhost:8080/"
    },
    "id": "ePv_dGKFrHce",
    "outputId": "446be9a1-3664-4259-e2d0-9f8e94d6ce0c"
   },
   "outputs": [
    {
     "data": {
      "text/plain": [
       "torch.Size([59745])"
      ]
     },
     "execution_count": 41,
     "metadata": {},
     "output_type": "execute_result"
    }
   ],
   "source": [
    "torch.where(vecs.sum(dim=1) != 0)[0].shape"
   ]
  },
  {
   "cell_type": "code",
   "execution_count": 42,
   "metadata": {
    "id": "BmNpNIHYUInw"
   },
   "outputs": [],
   "source": [
    "reducer = umap.UMAP(n_neighbors=15,\n",
    "                    min_dist=0.2,\n",
    "                    n_components=2,\n",
    "                    metric='euclidean',\n",
    "                    random_state=40)"
   ]
  },
  {
   "cell_type": "code",
   "execution_count": 43,
   "metadata": {
    "colab": {
     "base_uri": "https://localhost:8080/"
    },
    "id": "DXPYv8q9Vxbr",
    "outputId": "5598fe52-7095-48c7-d137-92b5ec216e5e"
   },
   "outputs": [
    {
     "name": "stderr",
     "output_type": "stream",
     "text": [
      "/usr/local/lib/python3.10/dist-packages/umap/umap_.py:1945: UserWarning: n_jobs value 1 overridden to 1 by setting random_state. Use no seed for parallelism.\n",
      "  warn(f\"n_jobs value {self.n_jobs} overridden to 1 by setting random_state. Use no seed for parallelism.\")\n",
      "/usr/local/lib/python3.10/dist-packages/numba/np/ufunc/parallel.py:371: NumbaWarning: \u001b[1mThe TBB threading layer requires TBB version 2021 update 6 or later i.e., TBB_INTERFACE_VERSION >= 12060. Found TBB_INTERFACE_VERSION = 12050. The TBB threading layer is disabled.\u001b[0m\n",
      "  warnings.warn(problem)\n"
     ]
    }
   ],
   "source": [
    "embedding = reducer.fit_transform(vecs.cpu().numpy())"
   ]
  },
  {
   "cell_type": "code",
   "execution_count": 59,
   "metadata": {},
   "outputs": [
    {
     "data": {
      "text/plain": [
       "'naive_cosine_with_pretrained_bert_EMA_updated_masks'"
      ]
     },
     "execution_count": 59,
     "metadata": {},
     "output_type": "execute_result"
    }
   ],
   "source": []
  },
  {
   "cell_type": "code",
   "execution_count": 62,
   "metadata": {
    "colab": {
     "base_uri": "https://localhost:8080/",
     "height": 449
    },
    "id": "kUoWcu_NXMid",
    "outputId": "29279600-78a1-4b01-be50-58aa5c2578a9"
   },
   "outputs": [
    {
     "data": {
      "image/png": "[encoded data removed]",
      "text/plain": [
       "<Figure size 640x480 with 1 Axes>"
      ]
     },
     "metadata": {},
     "output_type": "display_data"
    }
   ],
   "source": [
    "plt.scatter(embedding[:, 0], embedding[:, 1])\n",
    "plt.title(f\"{path.parts[-1]}_umap_vecdiff\")\n",
    "plt.savefig(path.joinpath(\"umap_vecdiff.png\"), format=\"png\")"
   ]
  },
  {
   "cell_type": "code",
   "execution_count": 45,
   "metadata": {
    "id": "a2EROEfoyC68"
   },
   "outputs": [],
   "source": [
    "vecs_diff = vecs[torch.where(vecs.sum(dim=1) != 0)[0]].cpu()\n",
    "mn_vec = vecs_diff.mean(dim=0).cpu()"
   ]
  },
  {
   "cell_type": "code",
   "execution_count": 46,
   "metadata": {
    "id": "5e1CSyRNyxNe"
   },
   "outputs": [],
   "source": [
    "cos = torch.nn.functional.cosine_similarity(vecs_diff, mn_vec.view(1, -1), dim=1)\n",
    "norm = torch.linalg.vector_norm(vecs_diff, ord=2, dim=1).cpu()"
   ]
  },
  {
   "cell_type": "code",
   "execution_count": 50,
   "metadata": {
    "colab": {
     "base_uri": "https://localhost:8080/",
     "height": 452
    },
    "id": "naZ_GJZ10CtX",
    "outputId": "a1ad444d-1a08-4566-f457-1f82c832e1aa"
   },
   "outputs": [
    {
     "data": {
      "text/plain": [
       "<matplotlib.collections.PathCollection at 0x7388c93e2440>"
      ]
     },
     "execution_count": 50,
     "metadata": {},
     "output_type": "execute_result"
    },
    {
     "data": {
      "image/png": "[encoded data removed]",
      "text/plain": [
       "<Figure size 640x480 with 1 Axes>"
      ]
     },
     "metadata": {},
     "output_type": "display_data"
    }
   ],
   "source": [
    "plt.scatter(cos, norm)\n",
    "plt.xlabel(\"C)\n",
    "plt.title(f\"{path.parts[-1]}\")\n",
    "plt.savefig(path.joinpath(\"umap_vecdiff.png\"), format=\"png\")"
   ]
  },
  {
   "cell_type": "code",
   "execution_count": null,
   "metadata": {
    "id": "UloTU3DUWpsl"
   },
   "outputs": [],
   "source": [
    "clusterer = hdbscan.HDBSCAN()"
   ]
  },
  {
   "cell_type": "code",
   "execution_count": null,
   "metadata": {
    "id": "HBpcPr58XL6m"
   },
   "outputs": [],
   "source": [
    "clusterer.fit(blobs)"
   ]
  }
 ],
 "metadata": {
  "accelerator": "GPU",
  "colab": {
   "gpuType": "T4",
   "provenance": []
  },
  "kernelspec": {
   "display_name": "Python 3 (ipykernel)",
   "language": "python",
   "name": "python3"
  },
  "language_info": {
   "codemirror_mode": {
    "name": "ipython",
    "version": 3
   },
   "file_extension": ".py",
   "mimetype": "text/x-python",
   "name": "python",
   "nbconvert_exporter": "python",
   "pygments_lexer": "ipython3",
   "version": "3.10.12"
  },
  "widgets": {
   "application/vnd.jupyter.widget-state+json": {
    "007f773c93bf4b1ba7692faf90ec5d4d": {
     "model_module": "@jupyter-widgets/base",
     "model_module_version": "1.2.0",
     "model_name": "LayoutModel",
     "state": {
      "_model_module": "@jupyter-widgets/base",
      "_model_module_version": "1.2.0",
      "_model_name": "LayoutModel",
      "_view_count": null,
      "_view_module": "@jupyter-widgets/base",
      "_view_module_version": "1.2.0",
      "_view_name": "LayoutView",
      "align_content": null,
      "align_items": null,
      "align_self": null,
      "border": null,
      "bottom": null,
      "display": null,
      "flex": null,
      "flex_flow": null,
      "grid_area": null,
      "grid_auto_columns": null,
      "grid_auto_flow": null,
      "grid_auto_rows": null,
      "grid_column": null,
      "grid_gap": null,
      "grid_row": null,
      "grid_template_areas": null,
      "grid_template_columns": null,
      "grid_template_rows": null,
      "height": null,
      "justify_content": null,
      "justify_items": null,
      "left": null,
      "margin": null,
      "max_height": null,
      "max_width": null,
      "min_height": null,
      "min_width": null,
      "object_fit": null,
      "object_position": null,
      "order": null,
      "overflow": null,
      "overflow_x": null,
      "overflow_y": null,
      "padding": null,
      "right": null,
      "top": null,
      "visibility": null,
      "width": null
     }
    },
    "0187facb90d443d8adbaeccd018b2646": {
     "model_module": "@jupyter-widgets/base",
     "model_module_version": "1.2.0",
     "model_name": "LayoutModel",
     "state": {
      "_model_module": "@jupyter-widgets/base",
      "_model_module_version": "1.2.0",
      "_model_name": "LayoutModel",
      "_view_count": null,
      "_view_module": "@jupyter-widgets/base",
      "_view_module_version": "1.2.0",
      "_view_name": "LayoutView",
      "align_content": null,
      "align_items": null,
      "align_self": null,
      "border": null,
      "bottom": null,
      "display": null,
      "flex": null,
      "flex_flow": null,
      "grid_area": null,
      "grid_auto_columns": null,
      "grid_auto_flow": null,
      "grid_auto_rows": null,
      "grid_column": null,
      "grid_gap": null,
      "grid_row": null,
      "grid_template_areas": null,
      "grid_template_columns": null,
      "grid_template_rows": null,
      "height": null,
      "justify_content": null,
      "justify_items": null,
      "left": null,
      "margin": null,
      "max_height": null,
      "max_width": null,
      "min_height": null,
      "min_width": null,
      "object_fit": null,
      "object_position": null,
      "order": null,
      "overflow": null,
      "overflow_x": null,
      "overflow_y": null,
      "padding": null,
      "right": null,
      "top": null,
      "visibility": null,
      "width": null
     }
    },
    "01c3dc13f5de40fc8f4900f071882b32": {
     "model_module": "@jupyter-widgets/controls",
     "model_module_version": "1.5.0",
     "model_name": "FloatProgressModel",
     "state": {
      "_dom_classes": [],
      "_model_module": "@jupyter-widgets/controls",
      "_model_module_version": "1.5.0",
      "_model_name": "FloatProgressModel",
      "_view_count": null,
      "_view_module": "@jupyter-widgets/controls",
      "_view_module_version": "1.5.0",
      "_view_name": "ProgressView",
      "bar_style": "success",
      "description": "",
      "description_tooltip": null,
      "layout": "IPY_MODEL_0452e3a94f3c4711b2e847eedf0494cd",
      "max": 313,
      "min": 0,
      "orientation": "horizontal",
      "style": "IPY_MODEL_17a44fc9efbf46e5ab5986dfccfc622b",
      "value": 313
     }
    },
    "0452e3a94f3c4711b2e847eedf0494cd": {
     "model_module": "@jupyter-widgets/base",
     "model_module_version": "1.2.0",
     "model_name": "LayoutModel",
     "state": {
      "_model_module": "@jupyter-widgets/base",
      "_model_module_version": "1.2.0",
      "_model_name": "LayoutModel",
      "_view_count": null,
      "_view_module": "@jupyter-widgets/base",
      "_view_module_version": "1.2.0",
      "_view_name": "LayoutView",
      "align_content": null,
      "align_items": null,
      "align_self": null,
      "border": null,
      "bottom": null,
      "display": null,
      "flex": null,
      "flex_flow": null,
      "grid_area": null,
      "grid_auto_columns": null,
      "grid_auto_flow": null,
      "grid_auto_rows": null,
      "grid_column": null,
      "grid_gap": null,
      "grid_row": null,
      "grid_template_areas": null,
      "grid_template_columns": null,
      "grid_template_rows": null,
      "height": null,
      "justify_content": null,
      "justify_items": null,
      "left": null,
      "margin": null,
      "max_height": null,
      "max_width": null,
      "min_height": null,
      "min_width": null,
      "object_fit": null,
      "object_position": null,
      "order": null,
      "overflow": null,
      "overflow_x": null,
      "overflow_y": null,
      "padding": null,
      "right": null,
      "top": null,
      "visibility": null,
      "width": null
     }
    },
    "0c755ca7b53d4311b338428621899152": {
     "model_module": "@jupyter-widgets/controls",
     "model_module_version": "1.5.0",
     "model_name": "HBoxModel",
     "state": {
      "_dom_classes": [],
      "_model_module": "@jupyter-widgets/controls",
      "_model_module_version": "1.5.0",
      "_model_name": "HBoxModel",
      "_view_count": null,
      "_view_module": "@jupyter-widgets/controls",
      "_view_module_version": "1.5.0",
      "_view_name": "HBoxView",
      "box_style": "",
      "children": [
       "IPY_MODEL_3194f094945c400aad937db30b7cf206",
       "IPY_MODEL_0cf98ff3317e4c5bafe838b6687475dc",
       "IPY_MODEL_dbf03bcb65e546e5a9a9afd2f44c8820"
      ],
      "layout": "IPY_MODEL_c0f5064a469d4c4c971f639dd43a3f16"
     }
    },
    "0cf98ff3317e4c5bafe838b6687475dc": {
     "model_module": "@jupyter-widgets/controls",
     "model_module_version": "1.5.0",
     "model_name": "FloatProgressModel",
     "state": {
      "_dom_classes": [],
      "_model_module": "@jupyter-widgets/controls",
      "_model_module_version": "1.5.0",
      "_model_name": "FloatProgressModel",
      "_view_count": null,
      "_view_module": "@jupyter-widgets/controls",
      "_view_module_version": "1.5.0",
      "_view_name": "ProgressView",
      "bar_style": "success",
      "description": "",
      "description_tooltip": null,
      "layout": "IPY_MODEL_cba28c82f46f445096063c91e291622a",
      "max": 1649718,
      "min": 0,
      "orientation": "horizontal",
      "style": "IPY_MODEL_58a7d9a245bb4fe2a4db6f55e3ec20d5",
      "value": 1649718
     }
    },
    "0e6c564fff594d92b7ab4d92033e620c": {
     "model_module": "@jupyter-widgets/controls",
     "model_module_version": "1.5.0",
     "model_name": "DescriptionStyleModel",
     "state": {
      "_model_module": "@jupyter-widgets/controls",
      "_model_module_version": "1.5.0",
      "_model_name": "DescriptionStyleModel",
      "_view_count": null,
      "_view_module": "@jupyter-widgets/base",
      "_view_module_version": "1.2.0",
      "_view_name": "StyleView",
      "description_width": ""
     }
    },
    "129a0bf46a7e4139867290529876bf77": {
     "model_module": "@jupyter-widgets/base",
     "model_module_version": "1.2.0",
     "model_name": "LayoutModel",
     "state": {
      "_model_module": "@jupyter-widgets/base",
      "_model_module_version": "1.2.0",
      "_model_name": "LayoutModel",
      "_view_count": null,
      "_view_module": "@jupyter-widgets/base",
      "_view_module_version": "1.2.0",
      "_view_name": "LayoutView",
      "align_content": null,
      "align_items": null,
      "align_self": null,
      "border": null,
      "bottom": null,
      "display": null,
      "flex": null,
      "flex_flow": null,
      "grid_area": null,
      "grid_auto_columns": null,
      "grid_auto_flow": null,
      "grid_auto_rows": null,
      "grid_column": null,
      "grid_gap": null,
      "grid_row": null,
      "grid_template_areas": null,
      "grid_template_columns": null,
      "grid_template_rows": null,
      "height": null,
      "justify_content": null,
      "justify_items": null,
      "left": null,
      "margin": null,
      "max_height": null,
      "max_width": null,
      "min_height": null,
      "min_width": null,
      "object_fit": null,
      "object_position": null,
      "order": null,
      "overflow": null,
      "overflow_x": null,
      "overflow_y": null,
      "padding": null,
      "right": null,
      "top": null,
      "visibility": null,
      "width": null
     }
    },
    "17a44fc9efbf46e5ab5986dfccfc622b": {
     "model_module": "@jupyter-widgets/controls",
     "model_module_version": "1.5.0",
     "model_name": "ProgressStyleModel",
     "state": {
      "_model_module": "@jupyter-widgets/controls",
      "_model_module_version": "1.5.0",
      "_model_name": "ProgressStyleModel",
      "_view_count": null,
      "_view_module": "@jupyter-widgets/base",
      "_view_module_version": "1.2.0",
      "_view_name": "StyleView",
      "bar_color": null,
      "description_width": ""
     }
    },
    "1877c701ad154443a986bc5d53bdb73b": {
     "model_module": "@jupyter-widgets/controls",
     "model_module_version": "1.5.0",
     "model_name": "DescriptionStyleModel",
     "state": {
      "_model_module": "@jupyter-widgets/controls",
      "_model_module_version": "1.5.0",
      "_model_name": "DescriptionStyleModel",
      "_view_count": null,
      "_view_module": "@jupyter-widgets/base",
      "_view_module_version": "1.2.0",
      "_view_name": "StyleView",
      "description_width": ""
     }
    },
    "1bfa5444227f4c4b9d9155ba3117e997": {
     "model_module": "@jupyter-widgets/base",
     "model_module_version": "1.2.0",
     "model_name": "LayoutModel",
     "state": {
      "_model_module": "@jupyter-widgets/base",
      "_model_module_version": "1.2.0",
      "_model_name": "LayoutModel",
      "_view_count": null,
      "_view_module": "@jupyter-widgets/base",
      "_view_module_version": "1.2.0",
      "_view_name": "LayoutView",
      "align_content": null,
      "align_items": null,
      "align_self": null,
      "border": null,
      "bottom": null,
      "display": null,
      "flex": null,
      "flex_flow": null,
      "grid_area": null,
      "grid_auto_columns": null,
      "grid_auto_flow": null,
      "grid_auto_rows": null,
      "grid_column": null,
      "grid_gap": null,
      "grid_row": null,
      "grid_template_areas": null,
      "grid_template_columns": null,
      "grid_template_rows": null,
      "height": null,
      "justify_content": null,
      "justify_items": null,
      "left": null,
      "margin": null,
      "max_height": null,
      "max_width": null,
      "min_height": null,
      "min_width": null,
      "object_fit": null,
      "object_position": null,
      "order": null,
      "overflow": null,
      "overflow_x": null,
      "overflow_y": null,
      "padding": null,
      "right": null,
      "top": null,
      "visibility": null,
      "width": null
     }
    },
    "2149d37136634599aff94a579eafb13c": {
     "model_module": "@jupyter-widgets/controls",
     "model_module_version": "1.5.0",
     "model_name": "ProgressStyleModel",
     "state": {
      "_model_module": "@jupyter-widgets/controls",
      "_model_module_version": "1.5.0",
      "_model_name": "ProgressStyleModel",
      "_view_count": null,
      "_view_module": "@jupyter-widgets/base",
      "_view_module_version": "1.2.0",
      "_view_name": "StyleView",
      "bar_color": null,
      "description_width": ""
     }
    },
    "259e2f25b000431e9dae5589503d6fd4": {
     "model_module": "@jupyter-widgets/controls",
     "model_module_version": "1.5.0",
     "model_name": "DescriptionStyleModel",
     "state": {
      "_model_module": "@jupyter-widgets/controls",
      "_model_module_version": "1.5.0",
      "_model_name": "DescriptionStyleModel",
      "_view_count": null,
      "_view_module": "@jupyter-widgets/base",
      "_view_module_version": "1.2.0",
      "_view_name": "StyleView",
      "description_width": ""
     }
    },
    "2637057ac1c345fd81e98388e559b978": {
     "model_module": "@jupyter-widgets/base",
     "model_module_version": "1.2.0",
     "model_name": "LayoutModel",
     "state": {
      "_model_module": "@jupyter-widgets/base",
      "_model_module_version": "1.2.0",
      "_model_name": "LayoutModel",
      "_view_count": null,
      "_view_module": "@jupyter-widgets/base",
      "_view_module_version": "1.2.0",
      "_view_name": "LayoutView",
      "align_content": null,
      "align_items": null,
      "align_self": null,
      "border": null,
      "bottom": null,
      "display": null,
      "flex": null,
      "flex_flow": null,
      "grid_area": null,
      "grid_auto_columns": null,
      "grid_auto_flow": null,
      "grid_auto_rows": null,
      "grid_column": null,
      "grid_gap": null,
      "grid_row": null,
      "grid_template_areas": null,
      "grid_template_columns": null,
      "grid_template_rows": null,
      "height": null,
      "justify_content": null,
      "justify_items": null,
      "left": null,
      "margin": null,
      "max_height": null,
      "max_width": null,
      "min_height": null,
      "min_width": null,
      "object_fit": null,
      "object_position": null,
      "order": null,
      "overflow": null,
      "overflow_x": null,
      "overflow_y": null,
      "padding": null,
      "right": null,
      "top": null,
      "visibility": null,
      "width": null
     }
    },
    "3194f094945c400aad937db30b7cf206": {
     "model_module": "@jupyter-widgets/controls",
     "model_module_version": "1.5.0",
     "model_name": "HTMLModel",
     "state": {
      "_dom_classes": [],
      "_model_module": "@jupyter-widgets/controls",
      "_model_module_version": "1.5.0",
      "_model_name": "HTMLModel",
      "_view_count": null,
      "_view_module": "@jupyter-widgets/controls",
      "_view_module_version": "1.5.0",
      "_view_name": "HTMLView",
      "description": "",
      "description_tooltip": null,
      "layout": "IPY_MODEL_0187facb90d443d8adbaeccd018b2646",
      "placeholder": "​",
      "style": "IPY_MODEL_a93414cabf614bfeb2f426aa9374a1ed",
      "value": "vocab.txt: 100%"
     }
    },
    "319f218130c94de28486f264e17f8329": {
     "model_module": "@jupyter-widgets/base",
     "model_module_version": "1.2.0",
     "model_name": "LayoutModel",
     "state": {
      "_model_module": "@jupyter-widgets/base",
      "_model_module_version": "1.2.0",
      "_model_name": "LayoutModel",
      "_view_count": null,
      "_view_module": "@jupyter-widgets/base",
      "_view_module_version": "1.2.0",
      "_view_name": "LayoutView",
      "align_content": null,
      "align_items": null,
      "align_self": null,
      "border": null,
      "bottom": null,
      "display": null,
      "flex": null,
      "flex_flow": null,
      "grid_area": null,
      "grid_auto_columns": null,
      "grid_auto_flow": null,
      "grid_auto_rows": null,
      "grid_column": null,
      "grid_gap": null,
      "grid_row": null,
      "grid_template_areas": null,
      "grid_template_columns": null,
      "grid_template_rows": null,
      "height": null,
      "justify_content": null,
      "justify_items": null,
      "left": null,
      "margin": null,
      "max_height": null,
      "max_width": null,
      "min_height": null,
      "min_width": null,
      "object_fit": null,
      "object_position": null,
      "order": null,
      "overflow": null,
      "overflow_x": null,
      "overflow_y": null,
      "padding": null,
      "right": null,
      "top": null,
      "visibility": null,
      "width": null
     }
    },
    "3cfbad5fdadc4bdbba1b9e9ad27a4f8f": {
     "model_module": "@jupyter-widgets/controls",
     "model_module_version": "1.5.0",
     "model_name": "HBoxModel",
     "state": {
      "_dom_classes": [],
      "_model_module": "@jupyter-widgets/controls",
      "_model_module_version": "1.5.0",
      "_model_name": "HBoxModel",
      "_view_count": null,
      "_view_module": "@jupyter-widgets/controls",
      "_view_module_version": "1.5.0",
      "_view_name": "HBoxView",
      "box_style": "",
      "children": [
       "IPY_MODEL_81559391094742f0aa43cd0b97a8c738",
       "IPY_MODEL_a4973e00592f4cf6a758a678ebf7b623",
       "IPY_MODEL_d4fee055d24e4baf8e61a02e6c899d58"
      ],
      "layout": "IPY_MODEL_319f218130c94de28486f264e17f8329"
     }
    },
    "3fe13144518545f8bf927497c4ad223c": {
     "model_module": "@jupyter-widgets/controls",
     "model_module_version": "1.5.0",
     "model_name": "HTMLModel",
     "state": {
      "_dom_classes": [],
      "_model_module": "@jupyter-widgets/controls",
      "_model_module_version": "1.5.0",
      "_model_name": "HTMLModel",
      "_view_count": null,
      "_view_module": "@jupyter-widgets/controls",
      "_view_module_version": "1.5.0",
      "_view_name": "HTMLView",
      "description": "",
      "description_tooltip": null,
      "layout": "IPY_MODEL_007f773c93bf4b1ba7692faf90ec5d4d",
      "placeholder": "​",
      "style": "IPY_MODEL_f237da2e8ee245258a1965f04ef35267",
      "value": "100%"
     }
    },
    "42b3a0bb4c214ede8937ad548c8b0fb2": {
     "model_module": "@jupyter-widgets/controls",
     "model_module_version": "1.5.0",
     "model_name": "HTMLModel",
     "state": {
      "_dom_classes": [],
      "_model_module": "@jupyter-widgets/controls",
      "_model_module_version": "1.5.0",
      "_model_name": "HTMLModel",
      "_view_count": null,
      "_view_module": "@jupyter-widgets/controls",
      "_view_module_version": "1.5.0",
      "_view_name": "HTMLView",
      "description": "",
      "description_tooltip": null,
      "layout": "IPY_MODEL_7736c14b5ae3411b81e11eb77a3d7059",
      "placeholder": "​",
      "style": "IPY_MODEL_80e1a2a19cc04e049a2b3c84d58ce172",
      "value": " 112/112 [00:00&lt;00:00, 8.93kB/s]"
     }
    },
    "43e5ae924e9e42c4b95fb54c9d6e7fe3": {
     "model_module": "@jupyter-widgets/base",
     "model_module_version": "1.2.0",
     "model_name": "LayoutModel",
     "state": {
      "_model_module": "@jupyter-widgets/base",
      "_model_module_version": "1.2.0",
      "_model_name": "LayoutModel",
      "_view_count": null,
      "_view_module": "@jupyter-widgets/base",
      "_view_module_version": "1.2.0",
      "_view_name": "LayoutView",
      "align_content": null,
      "align_items": null,
      "align_self": null,
      "border": null,
      "bottom": null,
      "display": null,
      "flex": null,
      "flex_flow": null,
      "grid_area": null,
      "grid_auto_columns": null,
      "grid_auto_flow": null,
      "grid_auto_rows": null,
      "grid_column": null,
      "grid_gap": null,
      "grid_row": null,
      "grid_template_areas": null,
      "grid_template_columns": null,
      "grid_template_rows": null,
      "height": null,
      "justify_content": null,
      "justify_items": null,
      "left": null,
      "margin": null,
      "max_height": null,
      "max_width": null,
      "min_height": null,
      "min_width": null,
      "object_fit": null,
      "object_position": null,
      "order": null,
      "overflow": null,
      "overflow_x": null,
      "overflow_y": null,
      "padding": null,
      "right": null,
      "top": null,
      "visibility": null,
      "width": null
     }
    },
    "44057177f7c1485db145a9a6ab1444bf": {
     "model_module": "@jupyter-widgets/controls",
     "model_module_version": "1.5.0",
     "model_name": "HTMLModel",
     "state": {
      "_dom_classes": [],
      "_model_module": "@jupyter-widgets/controls",
      "_model_module_version": "1.5.0",
      "_model_name": "HTMLModel",
      "_view_count": null,
      "_view_module": "@jupyter-widgets/controls",
      "_view_module_version": "1.5.0",
      "_view_name": "HTMLView",
      "description": "",
      "description_tooltip": null,
      "layout": "IPY_MODEL_129a0bf46a7e4139867290529876bf77",
      "placeholder": "​",
      "style": "IPY_MODEL_259e2f25b000431e9dae5589503d6fd4",
      "value": " 24.0/24.0 [00:00&lt;00:00, 1.69kB/s]"
     }
    },
    "58a7d9a245bb4fe2a4db6f55e3ec20d5": {
     "model_module": "@jupyter-widgets/controls",
     "model_module_version": "1.5.0",
     "model_name": "ProgressStyleModel",
     "state": {
      "_model_module": "@jupyter-widgets/controls",
      "_model_module_version": "1.5.0",
      "_model_name": "ProgressStyleModel",
      "_view_count": null,
      "_view_module": "@jupyter-widgets/base",
      "_view_module_version": "1.2.0",
      "_view_name": "StyleView",
      "bar_color": null,
      "description_width": ""
     }
    },
    "5dedd75089dd4302b42d634ec97dfc9c": {
     "model_module": "@jupyter-widgets/controls",
     "model_module_version": "1.5.0",
     "model_name": "DescriptionStyleModel",
     "state": {
      "_model_module": "@jupyter-widgets/controls",
      "_model_module_version": "1.5.0",
      "_model_name": "DescriptionStyleModel",
      "_view_count": null,
      "_view_module": "@jupyter-widgets/base",
      "_view_module_version": "1.2.0",
      "_view_name": "StyleView",
      "description_width": ""
     }
    },
    "65983e8a88ff4753b6a7551aaa841c8a": {
     "model_module": "@jupyter-widgets/controls",
     "model_module_version": "1.5.0",
     "model_name": "DescriptionStyleModel",
     "state": {
      "_model_module": "@jupyter-widgets/controls",
      "_model_module_version": "1.5.0",
      "_model_name": "DescriptionStyleModel",
      "_view_count": null,
      "_view_module": "@jupyter-widgets/base",
      "_view_module_version": "1.2.0",
      "_view_name": "StyleView",
      "description_width": ""
     }
    },
    "675aacb9f92f4ad88264548160e0fe3a": {
     "model_module": "@jupyter-widgets/controls",
     "model_module_version": "1.5.0",
     "model_name": "HBoxModel",
     "state": {
      "_dom_classes": [],
      "_model_module": "@jupyter-widgets/controls",
      "_model_module_version": "1.5.0",
      "_model_name": "HBoxModel",
      "_view_count": null,
      "_view_module": "@jupyter-widgets/controls",
      "_view_module_version": "1.5.0",
      "_view_name": "HBoxView",
      "box_style": "",
      "children": [
       "IPY_MODEL_3fe13144518545f8bf927497c4ad223c",
       "IPY_MODEL_01c3dc13f5de40fc8f4900f071882b32",
       "IPY_MODEL_94d0af649cc44bf2bf153cda1986e8ad"
      ],
      "layout": "IPY_MODEL_dc4e173f254543ffb1f20b4d6a11aca8"
     }
    },
    "6e207cacebf3408c8e9bad17a9c233ff": {
     "model_module": "@jupyter-widgets/controls",
     "model_module_version": "1.5.0",
     "model_name": "FloatProgressModel",
     "state": {
      "_dom_classes": [],
      "_model_module": "@jupyter-widgets/controls",
      "_model_module_version": "1.5.0",
      "_model_name": "FloatProgressModel",
      "_view_count": null,
      "_view_module": "@jupyter-widgets/controls",
      "_view_module_version": "1.5.0",
      "_view_name": "ProgressView",
      "bar_style": "success",
      "description": "",
      "description_tooltip": null,
      "layout": "IPY_MODEL_96d820d0ed924f719f51ad35303aa1bd",
      "max": 24,
      "min": 0,
      "orientation": "horizontal",
      "style": "IPY_MODEL_9936d4e2de00417c8719102f9c527fbb",
      "value": 24
     }
    },
    "73b0448f69e74cfb86fa9d1254455db8": {
     "model_module": "@jupyter-widgets/controls",
     "model_module_version": "1.5.0",
     "model_name": "DescriptionStyleModel",
     "state": {
      "_model_module": "@jupyter-widgets/controls",
      "_model_module_version": "1.5.0",
      "_model_name": "DescriptionStyleModel",
      "_view_count": null,
      "_view_module": "@jupyter-widgets/base",
      "_view_module_version": "1.2.0",
      "_view_name": "StyleView",
      "description_width": ""
     }
    },
    "74c2552f3f8e4607ac882ec0006d3f3d": {
     "model_module": "@jupyter-widgets/controls",
     "model_module_version": "1.5.0",
     "model_name": "HBoxModel",
     "state": {
      "_dom_classes": [],
      "_model_module": "@jupyter-widgets/controls",
      "_model_module_version": "1.5.0",
      "_model_name": "HBoxModel",
      "_view_count": null,
      "_view_module": "@jupyter-widgets/controls",
      "_view_module_version": "1.5.0",
      "_view_name": "HBoxView",
      "box_style": "",
      "children": [
       "IPY_MODEL_7f3a518214fb4d1b9cff2fd5748bebbc",
       "IPY_MODEL_6e207cacebf3408c8e9bad17a9c233ff",
       "IPY_MODEL_44057177f7c1485db145a9a6ab1444bf"
      ],
      "layout": "IPY_MODEL_c12b6288f31b4feca74dc8b81d02b4de"
     }
    },
    "7736c14b5ae3411b81e11eb77a3d7059": {
     "model_module": "@jupyter-widgets/base",
     "model_module_version": "1.2.0",
     "model_name": "LayoutModel",
     "state": {
      "_model_module": "@jupyter-widgets/base",
      "_model_module_version": "1.2.0",
      "_model_name": "LayoutModel",
      "_view_count": null,
      "_view_module": "@jupyter-widgets/base",
      "_view_module_version": "1.2.0",
      "_view_name": "LayoutView",
      "align_content": null,
      "align_items": null,
      "align_self": null,
      "border": null,
      "bottom": null,
      "display": null,
      "flex": null,
      "flex_flow": null,
      "grid_area": null,
      "grid_auto_columns": null,
      "grid_auto_flow": null,
      "grid_auto_rows": null,
      "grid_column": null,
      "grid_gap": null,
      "grid_row": null,
      "grid_template_areas": null,
      "grid_template_columns": null,
      "grid_template_rows": null,
      "height": null,
      "justify_content": null,
      "justify_items": null,
      "left": null,
      "margin": null,
      "max_height": null,
      "max_width": null,
      "min_height": null,
      "min_width": null,
      "object_fit": null,
      "object_position": null,
      "order": null,
      "overflow": null,
      "overflow_x": null,
      "overflow_y": null,
      "padding": null,
      "right": null,
      "top": null,
      "visibility": null,
      "width": null
     }
    },
    "7f3a518214fb4d1b9cff2fd5748bebbc": {
     "model_module": "@jupyter-widgets/controls",
     "model_module_version": "1.5.0",
     "model_name": "HTMLModel",
     "state": {
      "_dom_classes": [],
      "_model_module": "@jupyter-widgets/controls",
      "_model_module_version": "1.5.0",
      "_model_name": "HTMLModel",
      "_view_count": null,
      "_view_module": "@jupyter-widgets/controls",
      "_view_module_version": "1.5.0",
      "_view_name": "HTMLView",
      "description": "",
      "description_tooltip": null,
      "layout": "IPY_MODEL_bcb1329f66d3456785fb6ef0c17bfe97",
      "placeholder": "​",
      "style": "IPY_MODEL_5dedd75089dd4302b42d634ec97dfc9c",
      "value": "tokenizer_config.json: 100%"
     }
    },
    "80e1a2a19cc04e049a2b3c84d58ce172": {
     "model_module": "@jupyter-widgets/controls",
     "model_module_version": "1.5.0",
     "model_name": "DescriptionStyleModel",
     "state": {
      "_model_module": "@jupyter-widgets/controls",
      "_model_module_version": "1.5.0",
      "_model_name": "DescriptionStyleModel",
      "_view_count": null,
      "_view_module": "@jupyter-widgets/base",
      "_view_module_version": "1.2.0",
      "_view_name": "StyleView",
      "description_width": ""
     }
    },
    "81559391094742f0aa43cd0b97a8c738": {
     "model_module": "@jupyter-widgets/controls",
     "model_module_version": "1.5.0",
     "model_name": "HTMLModel",
     "state": {
      "_dom_classes": [],
      "_model_module": "@jupyter-widgets/controls",
      "_model_module_version": "1.5.0",
      "_model_name": "HTMLModel",
      "_view_count": null,
      "_view_module": "@jupyter-widgets/controls",
      "_view_module_version": "1.5.0",
      "_view_name": "HTMLView",
      "description": "",
      "description_tooltip": null,
      "layout": "IPY_MODEL_c8ffedc001804d6d9a3bb006dca3406f",
      "placeholder": "​",
      "style": "IPY_MODEL_65983e8a88ff4753b6a7551aaa841c8a",
      "value": "config.json: 100%"
     }
    },
    "94d0af649cc44bf2bf153cda1986e8ad": {
     "model_module": "@jupyter-widgets/controls",
     "model_module_version": "1.5.0",
     "model_name": "HTMLModel",
     "state": {
      "_dom_classes": [],
      "_model_module": "@jupyter-widgets/controls",
      "_model_module_version": "1.5.0",
      "_model_name": "HTMLModel",
      "_view_count": null,
      "_view_module": "@jupyter-widgets/controls",
      "_view_module_version": "1.5.0",
      "_view_name": "HTMLView",
      "description": "",
      "description_tooltip": null,
      "layout": "IPY_MODEL_43e5ae924e9e42c4b95fb54c9d6e7fe3",
      "placeholder": "​",
      "style": "IPY_MODEL_99af3341b76c4873bfb896ace2e6294d",
      "value": " 313/313 [02:28&lt;00:00,  2.29it/s]"
     }
    },
    "96d820d0ed924f719f51ad35303aa1bd": {
     "model_module": "@jupyter-widgets/base",
     "model_module_version": "1.2.0",
     "model_name": "LayoutModel",
     "state": {
      "_model_module": "@jupyter-widgets/base",
      "_model_module_version": "1.2.0",
      "_model_name": "LayoutModel",
      "_view_count": null,
      "_view_module": "@jupyter-widgets/base",
      "_view_module_version": "1.2.0",
      "_view_name": "LayoutView",
      "align_content": null,
      "align_items": null,
      "align_self": null,
      "border": null,
      "bottom": null,
      "display": null,
      "flex": null,
      "flex_flow": null,
      "grid_area": null,
      "grid_auto_columns": null,
      "grid_auto_flow": null,
      "grid_auto_rows": null,
      "grid_column": null,
      "grid_gap": null,
      "grid_row": null,
      "grid_template_areas": null,
      "grid_template_columns": null,
      "grid_template_rows": null,
      "height": null,
      "justify_content": null,
      "justify_items": null,
      "left": null,
      "margin": null,
      "max_height": null,
      "max_width": null,
      "min_height": null,
      "min_width": null,
      "object_fit": null,
      "object_position": null,
      "order": null,
      "overflow": null,
      "overflow_x": null,
      "overflow_y": null,
      "padding": null,
      "right": null,
      "top": null,
      "visibility": null,
      "width": null
     }
    },
    "972a8a7a941b4041934a1ed6aa8dfd62": {
     "model_module": "@jupyter-widgets/controls",
     "model_module_version": "1.5.0",
     "model_name": "ProgressStyleModel",
     "state": {
      "_model_module": "@jupyter-widgets/controls",
      "_model_module_version": "1.5.0",
      "_model_name": "ProgressStyleModel",
      "_view_count": null,
      "_view_module": "@jupyter-widgets/base",
      "_view_module_version": "1.2.0",
      "_view_name": "StyleView",
      "bar_color": null,
      "description_width": ""
     }
    },
    "9936d4e2de00417c8719102f9c527fbb": {
     "model_module": "@jupyter-widgets/controls",
     "model_module_version": "1.5.0",
     "model_name": "ProgressStyleModel",
     "state": {
      "_model_module": "@jupyter-widgets/controls",
      "_model_module_version": "1.5.0",
      "_model_name": "ProgressStyleModel",
      "_view_count": null,
      "_view_module": "@jupyter-widgets/base",
      "_view_module_version": "1.2.0",
      "_view_name": "StyleView",
      "bar_color": null,
      "description_width": ""
     }
    },
    "99af3341b76c4873bfb896ace2e6294d": {
     "model_module": "@jupyter-widgets/controls",
     "model_module_version": "1.5.0",
     "model_name": "DescriptionStyleModel",
     "state": {
      "_model_module": "@jupyter-widgets/controls",
      "_model_module_version": "1.5.0",
      "_model_name": "DescriptionStyleModel",
      "_view_count": null,
      "_view_module": "@jupyter-widgets/base",
      "_view_module_version": "1.2.0",
      "_view_name": "StyleView",
      "description_width": ""
     }
    },
    "a4973e00592f4cf6a758a678ebf7b623": {
     "model_module": "@jupyter-widgets/controls",
     "model_module_version": "1.5.0",
     "model_name": "FloatProgressModel",
     "state": {
      "_dom_classes": [],
      "_model_module": "@jupyter-widgets/controls",
      "_model_module_version": "1.5.0",
      "_model_name": "FloatProgressModel",
      "_view_count": null,
      "_view_module": "@jupyter-widgets/controls",
      "_view_module_version": "1.5.0",
      "_view_name": "ProgressView",
      "bar_style": "success",
      "description": "",
      "description_tooltip": null,
      "layout": "IPY_MODEL_1bfa5444227f4c4b9d9155ba3117e997",
      "max": 642,
      "min": 0,
      "orientation": "horizontal",
      "style": "IPY_MODEL_972a8a7a941b4041934a1ed6aa8dfd62",
      "value": 642
     }
    },
    "a81bfee03361465983ee8e7af7145c85": {
     "model_module": "@jupyter-widgets/base",
     "model_module_version": "1.2.0",
     "model_name": "LayoutModel",
     "state": {
      "_model_module": "@jupyter-widgets/base",
      "_model_module_version": "1.2.0",
      "_model_name": "LayoutModel",
      "_view_count": null,
      "_view_module": "@jupyter-widgets/base",
      "_view_module_version": "1.2.0",
      "_view_name": "LayoutView",
      "align_content": null,
      "align_items": null,
      "align_self": null,
      "border": null,
      "bottom": null,
      "display": null,
      "flex": null,
      "flex_flow": null,
      "grid_area": null,
      "grid_auto_columns": null,
      "grid_auto_flow": null,
      "grid_auto_rows": null,
      "grid_column": null,
      "grid_gap": null,
      "grid_row": null,
      "grid_template_areas": null,
      "grid_template_columns": null,
      "grid_template_rows": null,
      "height": null,
      "justify_content": null,
      "justify_items": null,
      "left": null,
      "margin": null,
      "max_height": null,
      "max_width": null,
      "min_height": null,
      "min_width": null,
      "object_fit": null,
      "object_position": null,
      "order": null,
      "overflow": null,
      "overflow_x": null,
      "overflow_y": null,
      "padding": null,
      "right": null,
      "top": null,
      "visibility": null,
      "width": null
     }
    },
    "a93414cabf614bfeb2f426aa9374a1ed": {
     "model_module": "@jupyter-widgets/controls",
     "model_module_version": "1.5.0",
     "model_name": "DescriptionStyleModel",
     "state": {
      "_model_module": "@jupyter-widgets/controls",
      "_model_module_version": "1.5.0",
      "_model_name": "DescriptionStyleModel",
      "_view_count": null,
      "_view_module": "@jupyter-widgets/base",
      "_view_module_version": "1.2.0",
      "_view_name": "StyleView",
      "description_width": ""
     }
    },
    "ab1d5080467446459ed6e06e7ea791e2": {
     "model_module": "@jupyter-widgets/base",
     "model_module_version": "1.2.0",
     "model_name": "LayoutModel",
     "state": {
      "_model_module": "@jupyter-widgets/base",
      "_model_module_version": "1.2.0",
      "_model_name": "LayoutModel",
      "_view_count": null,
      "_view_module": "@jupyter-widgets/base",
      "_view_module_version": "1.2.0",
      "_view_name": "LayoutView",
      "align_content": null,
      "align_items": null,
      "align_self": null,
      "border": null,
      "bottom": null,
      "display": null,
      "flex": null,
      "flex_flow": null,
      "grid_area": null,
      "grid_auto_columns": null,
      "grid_auto_flow": null,
      "grid_auto_rows": null,
      "grid_column": null,
      "grid_gap": null,
      "grid_row": null,
      "grid_template_areas": null,
      "grid_template_columns": null,
      "grid_template_rows": null,
      "height": null,
      "justify_content": null,
      "justify_items": null,
      "left": null,
      "margin": null,
      "max_height": null,
      "max_width": null,
      "min_height": null,
      "min_width": null,
      "object_fit": null,
      "object_position": null,
      "order": null,
      "overflow": null,
      "overflow_x": null,
      "overflow_y": null,
      "padding": null,
      "right": null,
      "top": null,
      "visibility": null,
      "width": null
     }
    },
    "bcb1329f66d3456785fb6ef0c17bfe97": {
     "model_module": "@jupyter-widgets/base",
     "model_module_version": "1.2.0",
     "model_name": "LayoutModel",
     "state": {
      "_model_module": "@jupyter-widgets/base",
      "_model_module_version": "1.2.0",
      "_model_name": "LayoutModel",
      "_view_count": null,
      "_view_module": "@jupyter-widgets/base",
      "_view_module_version": "1.2.0",
      "_view_name": "LayoutView",
      "align_content": null,
      "align_items": null,
      "align_self": null,
      "border": null,
      "bottom": null,
      "display": null,
      "flex": null,
      "flex_flow": null,
      "grid_area": null,
      "grid_auto_columns": null,
      "grid_auto_flow": null,
      "grid_auto_rows": null,
      "grid_column": null,
      "grid_gap": null,
      "grid_row": null,
      "grid_template_areas": null,
      "grid_template_columns": null,
      "grid_template_rows": null,
      "height": null,
      "justify_content": null,
      "justify_items": null,
      "left": null,
      "margin": null,
      "max_height": null,
      "max_width": null,
      "min_height": null,
      "min_width": null,
      "object_fit": null,
      "object_position": null,
      "order": null,
      "overflow": null,
      "overflow_x": null,
      "overflow_y": null,
      "padding": null,
      "right": null,
      "top": null,
      "visibility": null,
      "width": null
     }
    },
    "c0f5064a469d4c4c971f639dd43a3f16": {
     "model_module": "@jupyter-widgets/base",
     "model_module_version": "1.2.0",
     "model_name": "LayoutModel",
     "state": {
      "_model_module": "@jupyter-widgets/base",
      "_model_module_version": "1.2.0",
      "_model_name": "LayoutModel",
      "_view_count": null,
      "_view_module": "@jupyter-widgets/base",
      "_view_module_version": "1.2.0",
      "_view_name": "LayoutView",
      "align_content": null,
      "align_items": null,
      "align_self": null,
      "border": null,
      "bottom": null,
      "display": null,
      "flex": null,
      "flex_flow": null,
      "grid_area": null,
      "grid_auto_columns": null,
      "grid_auto_flow": null,
      "grid_auto_rows": null,
      "grid_column": null,
      "grid_gap": null,
      "grid_row": null,
      "grid_template_areas": null,
      "grid_template_columns": null,
      "grid_template_rows": null,
      "height": null,
      "justify_content": null,
      "justify_items": null,
      "left": null,
      "margin": null,
      "max_height": null,
      "max_width": null,
      "min_height": null,
      "min_width": null,
      "object_fit": null,
      "object_position": null,
      "order": null,
      "overflow": null,
      "overflow_x": null,
      "overflow_y": null,
      "padding": null,
      "right": null,
      "top": null,
      "visibility": null,
      "width": null
     }
    },
    "c12b6288f31b4feca74dc8b81d02b4de": {
     "model_module": "@jupyter-widgets/base",
     "model_module_version": "1.2.0",
     "model_name": "LayoutModel",
     "state": {
      "_model_module": "@jupyter-widgets/base",
      "_model_module_version": "1.2.0",
      "_model_name": "LayoutModel",
      "_view_count": null,
      "_view_module": "@jupyter-widgets/base",
      "_view_module_version": "1.2.0",
      "_view_name": "LayoutView",
      "align_content": null,
      "align_items": null,
      "align_self": null,
      "border": null,
      "bottom": null,
      "display": null,
      "flex": null,
      "flex_flow": null,
      "grid_area": null,
      "grid_auto_columns": null,
      "grid_auto_flow": null,
      "grid_auto_rows": null,
      "grid_column": null,
      "grid_gap": null,
      "grid_row": null,
      "grid_template_areas": null,
      "grid_template_columns": null,
      "grid_template_rows": null,
      "height": null,
      "justify_content": null,
      "justify_items": null,
      "left": null,
      "margin": null,
      "max_height": null,
      "max_width": null,
      "min_height": null,
      "min_width": null,
      "object_fit": null,
      "object_position": null,
      "order": null,
      "overflow": null,
      "overflow_x": null,
      "overflow_y": null,
      "padding": null,
      "right": null,
      "top": null,
      "visibility": null,
      "width": null
     }
    },
    "c1bbed4bdc5947ceb8ab1997d002d67c": {
     "model_module": "@jupyter-widgets/controls",
     "model_module_version": "1.5.0",
     "model_name": "FloatProgressModel",
     "state": {
      "_dom_classes": [],
      "_model_module": "@jupyter-widgets/controls",
      "_model_module_version": "1.5.0",
      "_model_name": "FloatProgressModel",
      "_view_count": null,
      "_view_module": "@jupyter-widgets/controls",
      "_view_module_version": "1.5.0",
      "_view_name": "ProgressView",
      "bar_style": "success",
      "description": "",
      "description_tooltip": null,
      "layout": "IPY_MODEL_a81bfee03361465983ee8e7af7145c85",
      "max": 112,
      "min": 0,
      "orientation": "horizontal",
      "style": "IPY_MODEL_2149d37136634599aff94a579eafb13c",
      "value": 112
     }
    },
    "c8ffedc001804d6d9a3bb006dca3406f": {
     "model_module": "@jupyter-widgets/base",
     "model_module_version": "1.2.0",
     "model_name": "LayoutModel",
     "state": {
      "_model_module": "@jupyter-widgets/base",
      "_model_module_version": "1.2.0",
      "_model_name": "LayoutModel",
      "_view_count": null,
      "_view_module": "@jupyter-widgets/base",
      "_view_module_version": "1.2.0",
      "_view_name": "LayoutView",
      "align_content": null,
      "align_items": null,
      "align_self": null,
      "border": null,
      "bottom": null,
      "display": null,
      "flex": null,
      "flex_flow": null,
      "grid_area": null,
      "grid_auto_columns": null,
      "grid_auto_flow": null,
      "grid_auto_rows": null,
      "grid_column": null,
      "grid_gap": null,
      "grid_row": null,
      "grid_template_areas": null,
      "grid_template_columns": null,
      "grid_template_rows": null,
      "height": null,
      "justify_content": null,
      "justify_items": null,
      "left": null,
      "margin": null,
      "max_height": null,
      "max_width": null,
      "min_height": null,
      "min_width": null,
      "object_fit": null,
      "object_position": null,
      "order": null,
      "overflow": null,
      "overflow_x": null,
      "overflow_y": null,
      "padding": null,
      "right": null,
      "top": null,
      "visibility": null,
      "width": null
     }
    },
    "cba28c82f46f445096063c91e291622a": {
     "model_module": "@jupyter-widgets/base",
     "model_module_version": "1.2.0",
     "model_name": "LayoutModel",
     "state": {
      "_model_module": "@jupyter-widgets/base",
      "_model_module_version": "1.2.0",
      "_model_name": "LayoutModel",
      "_view_count": null,
      "_view_module": "@jupyter-widgets/base",
      "_view_module_version": "1.2.0",
      "_view_name": "LayoutView",
      "align_content": null,
      "align_items": null,
      "align_self": null,
      "border": null,
      "bottom": null,
      "display": null,
      "flex": null,
      "flex_flow": null,
      "grid_area": null,
      "grid_auto_columns": null,
      "grid_auto_flow": null,
      "grid_auto_rows": null,
      "grid_column": null,
      "grid_gap": null,
      "grid_row": null,
      "grid_template_areas": null,
      "grid_template_columns": null,
      "grid_template_rows": null,
      "height": null,
      "justify_content": null,
      "justify_items": null,
      "left": null,
      "margin": null,
      "max_height": null,
      "max_width": null,
      "min_height": null,
      "min_width": null,
      "object_fit": null,
      "object_position": null,
      "order": null,
      "overflow": null,
      "overflow_x": null,
      "overflow_y": null,
      "padding": null,
      "right": null,
      "top": null,
      "visibility": null,
      "width": null
     }
    },
    "cf9f386a9c284e08b265065f901d8241": {
     "model_module": "@jupyter-widgets/controls",
     "model_module_version": "1.5.0",
     "model_name": "HTMLModel",
     "state": {
      "_dom_classes": [],
      "_model_module": "@jupyter-widgets/controls",
      "_model_module_version": "1.5.0",
      "_model_name": "HTMLModel",
      "_view_count": null,
      "_view_module": "@jupyter-widgets/controls",
      "_view_module_version": "1.5.0",
      "_view_name": "HTMLView",
      "description": "",
      "description_tooltip": null,
      "layout": "IPY_MODEL_d0ad0bfebaaf4b309d80c455504632b3",
      "placeholder": "​",
      "style": "IPY_MODEL_73b0448f69e74cfb86fa9d1254455db8",
      "value": "special_tokens_map.json: 100%"
     }
    },
    "d0ad0bfebaaf4b309d80c455504632b3": {
     "model_module": "@jupyter-widgets/base",
     "model_module_version": "1.2.0",
     "model_name": "LayoutModel",
     "state": {
      "_model_module": "@jupyter-widgets/base",
      "_model_module_version": "1.2.0",
      "_model_name": "LayoutModel",
      "_view_count": null,
      "_view_module": "@jupyter-widgets/base",
      "_view_module_version": "1.2.0",
      "_view_name": "LayoutView",
      "align_content": null,
      "align_items": null,
      "align_self": null,
      "border": null,
      "bottom": null,
      "display": null,
      "flex": null,
      "flex_flow": null,
      "grid_area": null,
      "grid_auto_columns": null,
      "grid_auto_flow": null,
      "grid_auto_rows": null,
      "grid_column": null,
      "grid_gap": null,
      "grid_row": null,
      "grid_template_areas": null,
      "grid_template_columns": null,
      "grid_template_rows": null,
      "height": null,
      "justify_content": null,
      "justify_items": null,
      "left": null,
      "margin": null,
      "max_height": null,
      "max_width": null,
      "min_height": null,
      "min_width": null,
      "object_fit": null,
      "object_position": null,
      "order": null,
      "overflow": null,
      "overflow_x": null,
      "overflow_y": null,
      "padding": null,
      "right": null,
      "top": null,
      "visibility": null,
      "width": null
     }
    },
    "d4fee055d24e4baf8e61a02e6c899d58": {
     "model_module": "@jupyter-widgets/controls",
     "model_module_version": "1.5.0",
     "model_name": "HTMLModel",
     "state": {
      "_dom_classes": [],
      "_model_module": "@jupyter-widgets/controls",
      "_model_module_version": "1.5.0",
      "_model_name": "HTMLModel",
      "_view_count": null,
      "_view_module": "@jupyter-widgets/controls",
      "_view_module_version": "1.5.0",
      "_view_name": "HTMLView",
      "description": "",
      "description_tooltip": null,
      "layout": "IPY_MODEL_ab1d5080467446459ed6e06e7ea791e2",
      "placeholder": "​",
      "style": "IPY_MODEL_0e6c564fff594d92b7ab4d92033e620c",
      "value": " 642/642 [00:00&lt;00:00, 50.1kB/s]"
     }
    },
    "dbf03bcb65e546e5a9a9afd2f44c8820": {
     "model_module": "@jupyter-widgets/controls",
     "model_module_version": "1.5.0",
     "model_name": "HTMLModel",
     "state": {
      "_dom_classes": [],
      "_model_module": "@jupyter-widgets/controls",
      "_model_module_version": "1.5.0",
      "_model_name": "HTMLModel",
      "_view_count": null,
      "_view_module": "@jupyter-widgets/controls",
      "_view_module_version": "1.5.0",
      "_view_name": "HTMLView",
      "description": "",
      "description_tooltip": null,
      "layout": "IPY_MODEL_edd0aa3ecfab4156bba58c2b797a5418",
      "placeholder": "​",
      "style": "IPY_MODEL_1877c701ad154443a986bc5d53bdb73b",
      "value": " 1.65M/1.65M [00:00&lt;00:00, 8.34MB/s]"
     }
    },
    "dc4e173f254543ffb1f20b4d6a11aca8": {
     "model_module": "@jupyter-widgets/base",
     "model_module_version": "1.2.0",
     "model_name": "LayoutModel",
     "state": {
      "_model_module": "@jupyter-widgets/base",
      "_model_module_version": "1.2.0",
      "_model_name": "LayoutModel",
      "_view_count": null,
      "_view_module": "@jupyter-widgets/base",
      "_view_module_version": "1.2.0",
      "_view_name": "LayoutView",
      "align_content": null,
      "align_items": null,
      "align_self": null,
      "border": null,
      "bottom": null,
      "display": null,
      "flex": null,
      "flex_flow": null,
      "grid_area": null,
      "grid_auto_columns": null,
      "grid_auto_flow": null,
      "grid_auto_rows": null,
      "grid_column": null,
      "grid_gap": null,
      "grid_row": null,
      "grid_template_areas": null,
      "grid_template_columns": null,
      "grid_template_rows": null,
      "height": null,
      "justify_content": null,
      "justify_items": null,
      "left": null,
      "margin": null,
      "max_height": null,
      "max_width": null,
      "min_height": null,
      "min_width": null,
      "object_fit": null,
      "object_position": null,
      "order": null,
      "overflow": null,
      "overflow_x": null,
      "overflow_y": null,
      "padding": null,
      "right": null,
      "top": null,
      "visibility": null,
      "width": null
     }
    },
    "edd0aa3ecfab4156bba58c2b797a5418": {
     "model_module": "@jupyter-widgets/base",
     "model_module_version": "1.2.0",
     "model_name": "LayoutModel",
     "state": {
      "_model_module": "@jupyter-widgets/base",
      "_model_module_version": "1.2.0",
      "_model_name": "LayoutModel",
      "_view_count": null,
      "_view_module": "@jupyter-widgets/base",
      "_view_module_version": "1.2.0",
      "_view_name": "LayoutView",
      "align_content": null,
      "align_items": null,
      "align_self": null,
      "border": null,
      "bottom": null,
      "display": null,
      "flex": null,
      "flex_flow": null,
      "grid_area": null,
      "grid_auto_columns": null,
      "grid_auto_flow": null,
      "grid_auto_rows": null,
      "grid_column": null,
      "grid_gap": null,
      "grid_row": null,
      "grid_template_areas": null,
      "grid_template_columns": null,
      "grid_template_rows": null,
      "height": null,
      "justify_content": null,
      "justify_items": null,
      "left": null,
      "margin": null,
      "max_height": null,
      "max_width": null,
      "min_height": null,
      "min_width": null,
      "object_fit": null,
      "object_position": null,
      "order": null,
      "overflow": null,
      "overflow_x": null,
      "overflow_y": null,
      "padding": null,
      "right": null,
      "top": null,
      "visibility": null,
      "width": null
     }
    },
    "f237da2e8ee245258a1965f04ef35267": {
     "model_module": "@jupyter-widgets/controls",
     "model_module_version": "1.5.0",
     "model_name": "DescriptionStyleModel",
     "state": {
      "_model_module": "@jupyter-widgets/controls",
      "_model_module_version": "1.5.0",
      "_model_name": "DescriptionStyleModel",
      "_view_count": null,
      "_view_module": "@jupyter-widgets/base",
      "_view_module_version": "1.2.0",
      "_view_name": "StyleView",
      "description_width": ""
     }
    },
    "f87527476d1e4d4798f49263ab8c5ac4": {
     "model_module": "@jupyter-widgets/controls",
     "model_module_version": "1.5.0",
     "model_name": "HBoxModel",
     "state": {
      "_dom_classes": [],
      "_model_module": "@jupyter-widgets/controls",
      "_model_module_version": "1.5.0",
      "_model_name": "HBoxModel",
      "_view_count": null,
      "_view_module": "@jupyter-widgets/controls",
      "_view_module_version": "1.5.0",
      "_view_name": "HBoxView",
      "box_style": "",
      "children": [
       "IPY_MODEL_cf9f386a9c284e08b265065f901d8241",
       "IPY_MODEL_c1bbed4bdc5947ceb8ab1997d002d67c",
       "IPY_MODEL_42b3a0bb4c214ede8937ad548c8b0fb2"
      ],
      "layout": "IPY_MODEL_2637057ac1c345fd81e98388e559b978"
     }
    }
   }
  }
 },
 "nbformat": 4,
 "nbformat_minor": 4
}
