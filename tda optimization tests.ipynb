{
 "cells": [
  {
   "cell_type": "code",
   "execution_count": 13,
   "id": "94999666-1a45-419b-b274-3702b8ee006b",
   "metadata": {},
   "outputs": [],
   "source": [
    "import torch\n",
    "import gudhi as gh\n",
    "import gudhi.representations as gh_repr\n",
    "import numpy as np\n",
    "import ot"
   ]
  },
  {
   "cell_type": "code",
   "execution_count": null,
   "id": "1c008b31-fa2d-4d7b-a10c-b5b9babfe98f",
   "metadata": {},
   "outputs": [],
   "source": []
  },
  {
   "cell_type": "code",
   "execution_count": 229,
   "id": "37d6f071-dafd-44a1-b23d-dea902bff43e",
   "metadata": {},
   "outputs": [],
   "source": [
    "A = torch.randn((40, 768), requires_grad=True)"
   ]
  },
  {
   "cell_type": "code",
   "execution_count": null,
   "id": "ccac515d-441a-4e7d-b218-b1e53f004eb5",
   "metadata": {},
   "outputs": [],
   "source": []
  },
  {
   "cell_type": "code",
   "execution_count": 328,
   "id": "9e668e82-e436-49f4-a025-68228823e695",
   "metadata": {},
   "outputs": [],
   "source": [
    "def entropy_loss(points: torch.TensorType, max_dim: int = 2):\n",
    "\n",
    "    # Note: may consider using log1p with \\frac{\\sum_{i!=j} p_i}{\\sum_i p_i}\n",
    "    \n",
    "    # default value\n",
    "    ent = 0\n",
    "    # compute persistence\n",
    "    vr = gh.RipsComplex(points=points).create_simplex_tree(max_dimension=max_dim)\n",
    "    vr.compute_persistence()\n",
    "    # get critical simplices\n",
    "    ind0, ind1 = vr.flag_persistence_generators()[:-2]\n",
    "    \n",
    "    res0 = torch.norm(points[ind0[:, 1]] - points[ind0[:, 2]], dim=-1)\n",
    "    ent0 = -torch.sum((res0/torch.sum(res0))*torch.log(res0/torch.sum(res0)))\n",
    "    \n",
    "    # compute entropy for higher dimensional simplices \n",
    "    for i in ind1:\n",
    "        res = torch.norm(points[i[:, (0, 2)]] - points[i[:, (1, 3)]], dim=-1)\n",
    "        lens = res[:, 1] - res[:, 0]\n",
    "        ent += -torch.sum((lens/torch.sum(lens))*torch.log(lens/torch.sum(lens)))\n",
    "        \n",
    "    return ent + ent0"
   ]
  },
  {
   "cell_type": "code",
   "execution_count": null,
   "id": "f103d64e-038a-4473-9b19-00507b02c5ca",
   "metadata": {},
   "outputs": [],
   "source": []
  },
  {
   "cell_type": "code",
   "execution_count": 334,
   "id": "8dbd7178-d242-490e-afd6-d69be5d9c745",
   "metadata": {},
   "outputs": [],
   "source": [
    "def diagram_divergence_loss(ref: torch.Tensor, cur: torch.Tensor, max_dim: int = 2):\n",
    "\n",
    "    was_dist = .0\n",
    "    \n",
    "    vr_ref = gh.RipsComplex(points=ref).create_simplex_tree(max_dimension=max_dim)\n",
    "    vr_ref.compute_persistence()\n",
    "    vr_cur = gh.RipsComplex(points=cur).create_simplex_tree(max_dimension=max_dim)\n",
    "    vr_cur.compute_persistence()\n",
    "\n",
    "    ind0_ref, ind1_ref = vr_ref.flag_persistence_generators()[:-2]\n",
    "    ind0_cur, ind1_cur = vr_ref.flag_persistence_generators()[:-2]\n",
    "\n",
    "    crit_ref0 = torch.norm(ref[ind0_ref[:, (0, 1)]] - ref[ind0_ref[:,(0, 2)]], dim=-1)\n",
    "    crit_cur0 = torch.norm(cur[ind0_cur[:, (0, 1)]] - cur[ind0_cur[:,(0, 2)]], dim=-1)\n",
    "\n",
    "    zero_ord_dist = ot.sliced_wasserstein_distance(crit_ref0, crit_cur0)\n",
    "\n",
    "    for i in range(len(ind1_cur)):\n",
    "        \n",
    "        crit_ref = torch.norm(ref[ind1_ref[i][:, (0, 2)]] - ref[ind1_ref[i][:,(1, 3)]], dim=-1)\n",
    "        crit_cur = torch.norm(cur[ind1_cur[i][:, (0, 2)]] - cur[ind1_cur[i][:,(1, 3)]], dim=-1)\n",
    "\n",
    "        was_dist += ot.sliced_wasserstein_distance(crit_ref, crit_cur)\n",
    "\n",
    "    return was_dist\n",
    "    "
   ]
  },
  {
   "cell_type": "code",
   "execution_count": 313,
   "id": "538cee35-461e-46dc-8b4d-cd371f623b87",
   "metadata": {},
   "outputs": [
    {
     "data": {
      "text/plain": [
       "0.0"
      ]
     },
     "execution_count": 313,
     "metadata": {},
     "output_type": "execute_result"
    }
   ],
   "source": [
    "ot.sliced_wasserstein_distance(np.array([[5], [4], [3]]), np.array([[6], [1]]))"
   ]
  },
  {
   "cell_type": "code",
   "execution_count": 230,
   "id": "4d8281f8-f12f-4858-b604-a93d3eb5a193",
   "metadata": {},
   "outputs": [],
   "source": [
    "vr = gh.RipsComplex(points=A).create_simplex_tree(max_dimension=2, )"
   ]
  },
  {
   "cell_type": "code",
   "execution_count": null,
   "id": "2107767a-b557-490a-bfdc-a7103543c458",
   "metadata": {},
   "outputs": [],
   "source": []
  },
  {
   "cell_type": "code",
   "execution_count": 317,
   "id": "6051788b-3977-4d0d-b768-acacd929c4ba",
   "metadata": {},
   "outputs": [
    {
     "data": {
      "text/plain": [
       "array([[39, 39,  6],\n",
       "       [32, 32, 17],\n",
       "       [14, 14,  2],\n",
       "       [ 6,  6,  2],\n",
       "       [30, 30, 24],\n",
       "       [22, 22,  2],\n",
       "       [20, 20, 17],\n",
       "       [24, 30,  8],\n",
       "       [ 2, 39, 17],\n",
       "       [17, 39, 30],\n",
       "       [ 9,  9,  2],\n",
       "       [34, 34, 12],\n",
       "       [25, 25, 17],\n",
       "       [10, 10,  3],\n",
       "       [31, 31, 14],\n",
       "       [ 8, 30, 27],\n",
       "       [29, 29, 22],\n",
       "       [27, 39, 34],\n",
       "       [ 3, 10,  2],\n",
       "       [16, 16,  5],\n",
       "       [37, 37, 16],\n",
       "       [35, 35,  3],\n",
       "       [12, 35,  0],\n",
       "       [33, 33,  2],\n",
       "       [ 0, 35, 26],\n",
       "       [11, 11,  4],\n",
       "       [ 4, 11,  9],\n",
       "       [26, 30, 21],\n",
       "       [15, 15,  6],\n",
       "       [21, 14,  5],\n",
       "       [18, 18, 11],\n",
       "       [ 5, 39, 19],\n",
       "       [28, 28, 19],\n",
       "       [19, 19, 13],\n",
       "       [23, 23, 16],\n",
       "       [38, 38,  0],\n",
       "       [13, 34,  1],\n",
       "       [ 1, 35,  7],\n",
       "       [36, 36, 10]])"
      ]
     },
     "execution_count": 317,
     "metadata": {},
     "output_type": "execute_result"
    }
   ],
   "source": [
    "vr.flag_persistence_generators()[0]"
   ]
  },
  {
   "cell_type": "code",
   "execution_count": 257,
   "id": "3410bd60-b3c0-4ea5-bd07-6cf473fd4372",
   "metadata": {},
   "outputs": [],
   "source": [
    "vr.compute_persistence(persistence_dim_max=True)"
   ]
  },
  {
   "cell_type": "code",
   "execution_count": 137,
   "id": "b8e27cbe-7b6e-4eba-b481-cde7768ec5a5",
   "metadata": {},
   "outputs": [],
   "source": [
    "zero_dim = vr.persistence_intervals_in_dimension(0)\n",
    "one_dim = vr.persistence_intervals_in_dimension(1)"
   ]
  },
  {
   "cell_type": "code",
   "execution_count": 253,
   "id": "c4b5d693-efef-4db7-b6e7-a3ac75d717e5",
   "metadata": {},
   "outputs": [
    {
     "data": {
      "text/plain": [
       "array([], shape=(0, 2), dtype=float64)"
      ]
     },
     "execution_count": 253,
     "metadata": {},
     "output_type": "execute_result"
    }
   ],
   "source": [
    "vr.persistence_intervals_in_dimension()"
   ]
  },
  {
   "cell_type": "code",
   "execution_count": 325,
   "id": "2a3312ea-457c-4fc9-a1d7-1199c4264cc0",
   "metadata": {},
   "outputs": [
    {
     "data": {
      "text/plain": [
       "<Axes: title={'center': 'Persistence diagram'}, xlabel='Birth', ylabel='Death'>"
      ]
     },
     "execution_count": 325,
     "metadata": {},
     "output_type": "execute_result"
    },
    {
     "data": {
      "image/png": "[encoded data removed]",
      "text/plain": [
       "<Figure size 640x480 with 1 Axes>"
      ]
     },
     "metadata": {},
     "output_type": "display_data"
    }
   ],
   "source": [
    "gh.plot_persistence_diagram(vr.persistence())"
   ]
  },
  {
   "cell_type": "code",
   "execution_count": null,
   "id": "97b0187a-fb8e-4308-aa9c-a800174f9e9c",
   "metadata": {},
   "outputs": [],
   "source": []
  },
  {
   "cell_type": "code",
   "execution_count": 138,
   "id": "821250e9-89aa-47c8-adf6-ffbe113bb82a",
   "metadata": {},
   "outputs": [],
   "source": [
    "zero_dim = zero_dim[zero_dim[:, 1] != np.inf]\n",
    "one_dim = one_dim[one_dim[:, 1] != np.inf]"
   ]
  },
  {
   "cell_type": "code",
   "execution_count": 139,
   "id": "408b54a2-e609-4f94-a43b-52d2068209ad",
   "metadata": {},
   "outputs": [
    {
     "data": {
      "text/plain": [
       "array([[3.66348797],\n",
       "       [3.15461728]])"
      ]
     },
     "execution_count": 139,
     "metadata": {},
     "output_type": "execute_result"
    }
   ],
   "source": [
    "ent = gh_repr.Entropy()\n",
    "ent.transform([zero_dim, one_dim])"
   ]
  },
  {
   "cell_type": "code",
   "execution_count": 86,
   "id": "09e903f1-c68a-43a6-8857-764bc1ef8934",
   "metadata": {},
   "outputs": [
    {
     "data": {
      "text/plain": [
       "-3.1546172828567416"
      ]
     },
     "execution_count": 86,
     "metadata": {},
     "output_type": "execute_result"
    }
   ],
   "source": [
    "p = tr[1][:, 1]\n",
    "\n",
    "np.sum((p/np.sum(p))*np.log((p/np.sum(p))))"
   ]
  },
  {
   "cell_type": "code",
   "execution_count": 63,
   "id": "a6bca618-a5de-486c-8f02-4c158fb615be",
   "metadata": {},
   "outputs": [],
   "source": [
    "tr = gh_repr.BirthPersistenceTransform().fit_transform([zero_dim, one_dim])"
   ]
  },
  {
   "cell_type": "code",
   "execution_count": 93,
   "id": "68db8ee4-c045-47a3-8106-15b7c447942c",
   "metadata": {},
   "outputs": [
    {
     "data": {
      "text/plain": [
       "4"
      ]
     },
     "execution_count": 93,
     "metadata": {},
     "output_type": "execute_result"
    }
   ],
   "source": [
    "len(vr.flag_persistence_generators())"
   ]
  },
  {
   "cell_type": "code",
   "execution_count": 318,
   "id": "78fc5060-a97c-4be2-92c3-14d6cf9d1cf1",
   "metadata": {},
   "outputs": [],
   "source": [
    "i0 = vr.flag_persistence_generators()[0]"
   ]
  },
  {
   "cell_type": "code",
   "execution_count": 248,
   "id": "5dac93a2-3fe2-40d9-8683-266f58c073ae",
   "metadata": {},
   "outputs": [],
   "source": [
    "i1 = vr.flag_persistence_generators()[1][0]"
   ]
  },
  {
   "cell_type": "code",
   "execution_count": 249,
   "id": "a4275e3d-1b7a-43e3-9a95-8bda5df531ca",
   "metadata": {},
   "outputs": [],
   "source": [
    "res = torch.norm(A[i1[:, (0, 2)]] - A[i1[:, (1, 3)]], dim=-1)"
   ]
  },
  {
   "cell_type": "code",
   "execution_count": null,
   "id": "c9ed5e48-4570-463e-9f51-6ab462d93fd3",
   "metadata": {},
   "outputs": [],
   "source": []
  },
  {
   "cell_type": "code",
   "execution_count": 324,
   "id": "987850db-d706-4f1f-8c72-58f93042f6d3",
   "metadata": {},
   "outputs": [
    {
     "data": {
      "text/plain": [
       "tensor([[ 0.0000, 36.3361],\n",
       "        [ 0.0000, 36.5635],\n",
       "        [ 0.0000, 36.6219],\n",
       "        [ 0.0000, 36.8048],\n",
       "        [ 0.0000, 36.9430],\n",
       "        [ 0.0000, 36.9468],\n",
       "        [ 0.0000, 37.0035],\n",
       "        [ 0.0000, 37.0254],\n",
       "        [ 0.0000, 37.0318],\n",
       "        [ 0.0000, 37.0555],\n",
       "        [ 0.0000, 37.1376],\n",
       "        [ 0.0000, 37.1737],\n",
       "        [ 0.0000, 37.1748],\n",
       "        [ 0.0000, 37.2485],\n",
       "        [ 0.0000, 37.2842],\n",
       "        [ 0.0000, 37.2971],\n",
       "        [ 0.0000, 37.2987],\n",
       "        [ 0.0000, 37.3600],\n",
       "        [ 0.0000, 37.4175],\n",
       "        [ 0.0000, 37.4299],\n",
       "        [ 0.0000, 37.4382],\n",
       "        [ 0.0000, 37.4836],\n",
       "        [ 0.0000, 37.5010],\n",
       "        [ 0.0000, 37.5230],\n",
       "        [ 0.0000, 37.5511],\n",
       "        [ 0.0000, 37.5938],\n",
       "        [ 0.0000, 37.6178],\n",
       "        [ 0.0000, 37.7347],\n",
       "        [ 0.0000, 37.7510],\n",
       "        [ 0.0000, 37.7573],\n",
       "        [ 0.0000, 37.8148],\n",
       "        [ 0.0000, 37.8435],\n",
       "        [ 0.0000, 37.9109],\n",
       "        [ 0.0000, 37.9147],\n",
       "        [ 0.0000, 37.9927],\n",
       "        [ 0.0000, 38.0504],\n",
       "        [ 0.0000, 38.0754],\n",
       "        [ 0.0000, 38.3237],\n",
       "        [ 0.0000, 39.4464]], grad_fn=<LinalgVectorNormBackward0>)"
      ]
     },
     "execution_count": 324,
     "metadata": {},
     "output_type": "execute_result"
    }
   ],
   "source": [
    "torch.norm(A[i0[:, (0, 1)]] - A[i0[:, (0, 2)]], dim=-1)"
   ]
  },
  {
   "cell_type": "code",
   "execution_count": 175,
   "id": "46e9ea68-f994-49f2-8e6c-79c587b0acb5",
   "metadata": {},
   "outputs": [
    {
     "data": {
      "text/plain": [
       "tensor([36.4753, 36.6432, 36.8254, 36.9166, 36.9209, 36.9509, 36.9787, 37.0179,\n",
       "        37.0220, 37.0468, 37.1641, 37.1898, 37.2384, 37.2393, 37.2418, 37.2484,\n",
       "        37.2527, 37.2550, 37.2928, 37.3845, 37.3949, 37.4241, 37.4256, 37.4778,\n",
       "        37.4824, 37.4966, 37.5154, 37.5723, 37.6162, 37.6698, 37.6909, 37.7282,\n",
       "        37.8065, 37.9632, 37.9753, 38.2040, 38.2807, 38.4080, 38.4779],\n",
       "       grad_fn=<LinalgVectorNormBackward0>)"
      ]
     },
     "execution_count": 175,
     "metadata": {},
     "output_type": "execute_result"
    }
   ],
   "source": [
    "res0"
   ]
  },
  {
   "cell_type": "code",
   "execution_count": 171,
   "id": "799ec0ef-def4-4d17-9f27-d85604276cb0",
   "metadata": {},
   "outputs": [],
   "source": [
    "tr = res[:, 1] - res[:, 0]"
   ]
  },
  {
   "cell_type": "code",
   "execution_count": 172,
   "id": "7e0e41f2-c465-4e68-9bb1-0b21d4187dda",
   "metadata": {},
   "outputs": [
    {
     "data": {
      "text/plain": [
       "tensor(3.1546, grad_fn=<NegBackward0>)"
      ]
     },
     "execution_count": 172,
     "metadata": {},
     "output_type": "execute_result"
    }
   ],
   "source": [
    "-torch.sum((tr/torch.sum(tr))*torch.log(tr/torch.sum(tr)))"
   ]
  },
  {
   "cell_type": "code",
   "execution_count": 176,
   "id": "4aa35150-1b69-4379-b6fd-ea0ab68964d0",
   "metadata": {},
   "outputs": [],
   "source": [
    "tr = res0"
   ]
  },
  {
   "cell_type": "code",
   "execution_count": 177,
   "id": "b1bf66f7-1ae0-4109-bd65-8729b59ab06b",
   "metadata": {},
   "outputs": [
    {
     "data": {
      "text/plain": [
       "tensor(3.6635, grad_fn=<NegBackward0>)"
      ]
     },
     "execution_count": 177,
     "metadata": {},
     "output_type": "execute_result"
    }
   ],
   "source": [
    "tr = res0\n",
    "\n",
    "-torch.sum((tr/torch.sum(tr))*torch.log(tr/torch.sum(tr)))"
   ]
  },
  {
   "cell_type": "code",
   "execution_count": null,
   "id": "0d24e706-729a-4a36-a358-bccea4236dbe",
   "metadata": {},
   "outputs": [],
   "source": []
  },
  {
   "cell_type": "code",
   "execution_count": null,
   "id": "e8fe3390-81ab-4e21-a1e5-44bf03818368",
   "metadata": {},
   "outputs": [],
   "source": []
  },
  {
   "cell_type": "code",
   "execution_count": 191,
   "id": "3cbd8e56-478d-4cc4-882e-dffcd917cd86",
   "metadata": {},
   "outputs": [
    {
     "data": {
      "text/plain": [
       "tensor([[-0.9218, -1.7972, -1.3280,  ..., -0.6402,  0.5085, -1.8781],\n",
       "        [ 0.2180,  1.1355,  0.2463,  ..., -0.3221,  0.4792, -0.3515],\n",
       "        [-0.8792, -0.6742,  0.9407,  ...,  0.9079,  1.4243, -0.1764],\n",
       "        ...,\n",
       "        [-1.4017, -1.2443, -0.2590,  ..., -0.5215,  1.1337,  0.5495],\n",
       "        [-0.7889,  1.7631,  0.5900,  ...,  0.4103,  0.0181,  0.4155],\n",
       "        [-0.0673, -0.8204, -1.2915,  ..., -1.1716,  0.0454, -2.4388]],\n",
       "       requires_grad=True)"
      ]
     },
     "execution_count": 191,
     "metadata": {},
     "output_type": "execute_result"
    }
   ],
   "source": [
    "A"
   ]
  },
  {
   "cell_type": "code",
   "execution_count": 192,
   "id": "f278dd38-92f3-4b3f-bc23-e1bdc3147c48",
   "metadata": {},
   "outputs": [],
   "source": [
    "B = torch.rand((40, 768), requires_grad=True)"
   ]
  },
  {
   "cell_type": "code",
   "execution_count": null,
   "id": "c6149595-c26b-4fe2-8aa5-e04d4247b11a",
   "metadata": {},
   "outputs": [],
   "source": []
  },
  {
   "cell_type": "code",
   "execution_count": 197,
   "id": "8b840f62-0966-4d46-9f94-5bce4e31c3ce",
   "metadata": {},
   "outputs": [],
   "source": [
    "vr2 = gh.RipsComplex(points=B).create_simplex_tree(max_dimension=2)\n",
    "vr2.compute_persistence()"
   ]
  },
  {
   "cell_type": "code",
   "execution_count": 202,
   "id": "a8d92bef-786a-4b5c-b8c6-1c73a50e4f5a",
   "metadata": {},
   "outputs": [],
   "source": [
    "pers1 = vr.persistence_intervals_in_dimension(1)"
   ]
  },
  {
   "cell_type": "code",
   "execution_count": 203,
   "id": "50cda296-63d3-46ad-be43-d0888d763cc0",
   "metadata": {},
   "outputs": [],
   "source": [
    "pers2 = vr2.persistence_intervals_in_dimension(1)"
   ]
  },
  {
   "cell_type": "code",
   "execution_count": 213,
   "id": "6988df83-be82-46ea-ad24-59987757f5bc",
   "metadata": {},
   "outputs": [],
   "source": [
    "sl = gh_repr.metrics.SlicedWassersteinDistance()"
   ]
  },
  {
   "cell_type": "code",
   "execution_count": null,
   "id": "f8e53be0-977c-470c-a709-c15278490be0",
   "metadata": {},
   "outputs": [],
   "source": []
  },
  {
   "cell_type": "code",
   "execution_count": 314,
   "id": "4dd2c1aa-85f6-4126-99cc-40687d3afbde",
   "metadata": {},
   "outputs": [
    {
     "data": {
      "text/plain": [
       "tensor(27.3447, dtype=torch.float64, grad_fn=<PowBackward0>)"
      ]
     },
     "execution_count": 314,
     "metadata": {},
     "output_type": "execute_result"
    }
   ],
   "source": [
    "ot.sliced_wasserstein_distance(torch.tensor(pers1, requires_grad=True), torch.tensor(pers2, requires_grad=True), p=2)"
   ]
  },
  {
   "cell_type": "code",
   "execution_count": 294,
   "id": "5c3a3bad-90ae-4745-865b-33e3f42a520f",
   "metadata": {},
   "outputs": [
    {
     "data": {
      "text/plain": [
       "(34, 2)"
      ]
     },
     "execution_count": 294,
     "metadata": {},
     "output_type": "execute_result"
    }
   ],
   "source": [
    "pers1.shape"
   ]
  },
  {
   "cell_type": "code",
   "execution_count": 295,
   "id": "8680c1d8-3a97-4c92-91e7-6bca101b08b8",
   "metadata": {},
   "outputs": [
    {
     "data": {
      "text/plain": [
       "(40, 2)"
      ]
     },
     "execution_count": 295,
     "metadata": {},
     "output_type": "execute_result"
    }
   ],
   "source": [
    "pers2.shape"
   ]
  },
  {
   "cell_type": "code",
   "execution_count": 251,
   "id": "1ace3912-e3ea-496f-b2af-90123b47be32",
   "metadata": {},
   "outputs": [
    {
     "data": {
      "text/plain": [
       "741"
      ]
     },
     "execution_count": 251,
     "metadata": {},
     "output_type": "execute_result"
    }
   ],
   "source": [
    "len(vr.flag_persistence_generators()[1][0])"
   ]
  },
  {
   "cell_type": "code",
   "execution_count": 252,
   "id": "f09452c5-d82e-4ec8-bf13-5ad68c4b0d0f",
   "metadata": {},
   "outputs": [
    {
     "data": {
      "text/plain": [
       "torch.Size([741, 2])"
      ]
     },
     "execution_count": 252,
     "metadata": {},
     "output_type": "execute_result"
    }
   ],
   "source": [
    "res.shape"
   ]
  },
  {
   "cell_type": "code",
   "execution_count": null,
   "id": "8e24a5bb-b750-46ca-b096-ab3f2084aaf4",
   "metadata": {},
   "outputs": [],
   "source": []
  },
  {
   "cell_type": "code",
   "execution_count": 224,
   "id": "43f439f8-6e3c-47f6-bae9-c48fcd2bbe97",
   "metadata": {},
   "outputs": [],
   "source": [
    "i2 = vr2.flag_persistence_generators()[1][0]"
   ]
  },
  {
   "cell_type": "code",
   "execution_count": 225,
   "id": "3d400f3f-fe86-4a34-8cb4-9205170abf3c",
   "metadata": {},
   "outputs": [],
   "source": [
    "res2 = torch.norm(B[i2[:, (0, 2)]] - B[i2[:, (1, 3)]], dim=-1)"
   ]
  },
  {
   "cell_type": "code",
   "execution_count": 226,
   "id": "ab6cf39d-fcd3-4a85-8b4d-a73dde624824",
   "metadata": {},
   "outputs": [
    {
     "data": {
      "text/plain": [
       "torch.Size([40, 2])"
      ]
     },
     "execution_count": 226,
     "metadata": {},
     "output_type": "execute_result"
    }
   ],
   "source": [
    "res2.shape"
   ]
  }
 ],
 "metadata": {
  "kernelspec": {
   "display_name": "Python 3 (ipykernel)",
   "language": "python",
   "name": "python3"
  },
  "language_info": {
   "codemirror_mode": {
    "name": "ipython",
    "version": 3
   },
   "file_extension": ".py",
   "mimetype": "text/x-python",
   "name": "python",
   "nbconvert_exporter": "python",
   "pygments_lexer": "ipython3",
   "version": "3.10.12"
  }
 },
 "nbformat": 4,
 "nbformat_minor": 5
}
