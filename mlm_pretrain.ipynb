{
 "cells": [
  {
   "cell_type": "code",
   "execution_count": 1,
   "id": "9e24773c-b515-4c6b-bf22-aa5a076b243f",
   "metadata": {
    "scrolled": true
   },
   "outputs": [
    {
     "name": "stderr",
     "output_type": "stream",
     "text": [
      "2024-04-03 19:22:19.634440: I tensorflow/core/platform/cpu_feature_guard.cc:210] This TensorFlow binary is optimized to use available CPU instructions in performance-critical operations.\n",
      "To enable the following instructions: AVX2 FMA, in other operations, rebuild TensorFlow with the appropriate compiler flags.\n",
      "2024-04-03 19:22:20.417948: W tensorflow/compiler/tf2tensorrt/utils/py_utils.cc:38] TF-TRT Warning: Could not find TensorRT\n"
     ]
    }
   ],
   "source": [
    "from transformers import (\n",
    "    AutoTokenizer,\n",
    "    DataCollatorForLanguageModeling,\n",
    "    BertForMaskedLM,\n",
    "    get_scheduler,\n",
    "    TrainingArguments,\n",
    "    Trainer,\n",
    "    TrainerCallback\n",
    ")\n",
    "import io\n",
    "from datasets import load_dataset\n",
    "import numpy as np\n",
    "import torch\n",
    "from torch import nn\n",
    "from torch.optim import Adam\n",
    "import wandb"
   ]
  },
  {
   "cell_type": "code",
   "execution_count": 2,
   "id": "fea03d9f-1ce5-442b-be15-8cfd46aef8a6",
   "metadata": {},
   "outputs": [],
   "source": [
    "from MinioHandler import MinioHandler\n",
    "\n",
    "minio = MinioHandler()"
   ]
  },
  {
   "cell_type": "code",
   "execution_count": 3,
   "id": "b3dd15c6-13e8-438a-8ceb-ce3355e7bf37",
   "metadata": {},
   "outputs": [
    {
     "name": "stderr",
     "output_type": "stream",
     "text": [
      "\u001b[34m\u001b[1mwandb\u001b[0m: Currently logged in as: \u001b[33mxenomirant\u001b[0m. Use \u001b[1m`wandb login --relogin`\u001b[0m to force relogin\n",
      "\u001b[34m\u001b[1mwandb\u001b[0m: Currently logged in as: \u001b[33mxenomirant\u001b[0m (\u001b[33mgrammar-bert\u001b[0m). Use \u001b[1m`wandb login --relogin`\u001b[0m to force relogin\n"
     ]
    },
    {
     "data": {
      "text/html": [
       "wandb version 0.16.5 is available!  To upgrade, please run:\n",
       " $ pip install wandb --upgrade"
      ],
      "text/plain": [
       "<IPython.core.display.HTML object>"
      ]
     },
     "metadata": {},
     "output_type": "display_data"
    },
    {
     "data": {
      "text/html": [
       "Tracking run with wandb version 0.16.4"
      ],
      "text/plain": [
       "<IPython.core.display.HTML object>"
      ]
     },
     "metadata": {},
     "output_type": "display_data"
    },
    {
     "data": {
      "text/html": [
       "Run data is saved locally in <code>/app/ModularLM/wandb/run-20240403_192223-wv7vkqyc</code>"
      ],
      "text/plain": [
       "<IPython.core.display.HTML object>"
      ]
     },
     "metadata": {},
     "output_type": "display_data"
    },
    {
     "data": {
      "text/html": [
       "Syncing run <strong><a href='https://wandb.ai/grammar-bert/pretrain-bert/runs/wv7vkqyc' target=\"_blank\">fallen-energy-18</a></strong> to <a href='https://wandb.ai/grammar-bert/pretrain-bert' target=\"_blank\">Weights & Biases</a> (<a href='https://wandb.me/run' target=\"_blank\">docs</a>)<br/>"
      ],
      "text/plain": [
       "<IPython.core.display.HTML object>"
      ]
     },
     "metadata": {},
     "output_type": "display_data"
    },
    {
     "data": {
      "text/html": [
       " View project at <a href='https://wandb.ai/grammar-bert/pretrain-bert' target=\"_blank\">https://wandb.ai/grammar-bert/pretrain-bert</a>"
      ],
      "text/plain": [
       "<IPython.core.display.HTML object>"
      ]
     },
     "metadata": {},
     "output_type": "display_data"
    },
    {
     "data": {
      "text/html": [
       " View run at <a href='https://wandb.ai/grammar-bert/pretrain-bert/runs/wv7vkqyc' target=\"_blank\">https://wandb.ai/grammar-bert/pretrain-bert/runs/wv7vkqyc</a>"
      ],
      "text/plain": [
       "<IPython.core.display.HTML object>"
      ]
     },
     "metadata": {},
     "output_type": "display_data"
    },
    {
     "data": {
      "text/html": [
       "<button onClick=\"this.nextSibling.style.display='block';this.style.display='none';\">Display W&B run</button><iframe src='https://wandb.ai/grammar-bert/pretrain-bert/runs/wv7vkqyc?jupyter=true' style='border:none;width:100%;height:420px;display:none;'></iframe>"
      ],
      "text/plain": [
       "<wandb.sdk.wandb_run.Run at 0x7365e268cb20>"
      ]
     },
     "execution_count": 3,
     "metadata": {},
     "output_type": "execute_result"
    }
   ],
   "source": [
    "wandb.login()\n",
    "\n",
    "wandb.init(\n",
    "    project='pretrain-bert',\n",
    "    entity='grammar-bert'\n",
    ")"
   ]
  },
  {
   "cell_type": "code",
   "execution_count": 4,
   "id": "cbb6a601-9503-4773-a4a9-67ff67f3488c",
   "metadata": {},
   "outputs": [
    {
     "data": {
      "text/plain": [
       "device(type='cuda')"
      ]
     },
     "execution_count": 4,
     "metadata": {},
     "output_type": "execute_result"
    }
   ],
   "source": [
    "device = torch.device(\"cuda\") if torch.cuda.is_available() else torch.device(\"cpu\")\n",
    "device"
   ]
  },
  {
   "cell_type": "code",
   "execution_count": 5,
   "id": "4b4cf068-544d-4572-9b83-6022f4d99cb1",
   "metadata": {},
   "outputs": [],
   "source": [
    "TRAIN_PATH = 'data/train_dataset.csv'\n",
    "TEST_PATH = 'data/test_dataset.csv'\n",
    "MODEL_NAME = 'DeepPavlov/rubert-base-cased'\n",
    "SEQ_LEN = 64\n",
    "BATCH_SIZE = 16\n",
    "MLM_PROB = 0.15"
   ]
  },
  {
   "cell_type": "code",
   "execution_count": 6,
   "id": "7d8e8664-43d1-4bf8-a0de-345a38628007",
   "metadata": {
    "id": "V06Z3lby7xme"
   },
   "outputs": [],
   "source": [
    "def collate_func(batch):\n",
    "    batch = [data_collator.torch_call(item) for item in zip(*batch)]\n",
    "    return batch"
   ]
  },
  {
   "cell_type": "code",
   "execution_count": 7,
   "id": "7737d08f-1c9f-4a0b-9bb0-3f33289dbf96",
   "metadata": {
    "colab": {
     "base_uri": "https://localhost:8080/"
    },
    "id": "f7JP-0xw72PH",
    "outputId": "2f1ca2ee-6378-4dae-cd1e-3eac9d6235a9"
   },
   "outputs": [],
   "source": [
    "tokenizer = AutoTokenizer.from_pretrained(MODEL_NAME)\n",
    "tokenizer.deprecation_warnings[\"Asking-to-pad-a-fast-tokenizer\"] = True\n",
    "\n",
    "tokenizer.pad_token = '[SEP]'\n",
    "tokenizer.eos_token = '[SEP]'\n",
    "data_collator = DataCollatorForLanguageModeling(tokenizer=tokenizer, mlm_probability=MLM_PROB)"
   ]
  },
  {
   "cell_type": "code",
   "execution_count": 8,
   "id": "def20330-58a2-49ed-9d14-3bcaba3b1c43",
   "metadata": {},
   "outputs": [],
   "source": [
    "dt = load_dataset(\"csv\", \n",
    "                  data_files={\"train\": \"data/train_dataset.csv\",\n",
    "                                \"test\": \"data/test_dataset.csv\"},)"
   ]
  },
  {
   "cell_type": "code",
   "execution_count": 9,
   "id": "59ef092f-cd53-4b9d-a9c9-036d704d178d",
   "metadata": {},
   "outputs": [],
   "source": [
    "def tokenize_function(examples):\n",
    "    return tokenizer(examples[\"base\"])"
   ]
  },
  {
   "cell_type": "code",
   "execution_count": 10,
   "id": "b319270f-113e-450b-9134-41fad7f0ff84",
   "metadata": {},
   "outputs": [],
   "source": [
    "tokenized_dt = dt.map(tokenize_function, batched=True, remove_columns=[\"Unnamed: 0\", \"polypers\", \"was_changed\"])"
   ]
  },
  {
   "cell_type": "code",
   "execution_count": 11,
   "id": "5de443a1-aa40-4052-bd46-60bb8359c30c",
   "metadata": {},
   "outputs": [],
   "source": [
    "model = BertForMaskedLM.from_pretrained(MODEL_NAME)\n",
    "model.to(device)\n",
    "pass"
   ]
  },
  {
   "cell_type": "code",
   "execution_count": null,
   "id": "9d8eef40-1460-47bb-b7bf-4d3c463991fd",
   "metadata": {},
   "outputs": [],
   "source": []
  },
  {
   "cell_type": "code",
   "execution_count": 12,
   "id": "867d930e-3fd1-4e83-ba99-e5e66db0df8b",
   "metadata": {},
   "outputs": [],
   "source": [
    "class SaveCallback(TrainerCallback):\n",
    "\n",
    "\n",
    "    def on_train_begin(self, args, state, control, **kwargs):\n",
    "        '''\n",
    "        A callback that prints a message at the beginning of training\n",
    "        '''\n",
    "        print(\"Starting training\")\n",
    "\n",
    "    def on_epoch_end(self, args, state, control, **kwargs):\n",
    "        '''\n",
    "        Saves to S3 at the end of epoch\n",
    "        '''\n",
    "        print(\"Saving model checkpoint...\")\n",
    "        buffer = io.BytesIO()\n",
    "        torch.save({\n",
    "                    'epoch': state.epoch,\n",
    "                    'model_state_dict': kwargs[\"model\"].state_dict(),\n",
    "                    'optimizer_state_dict': kwargs[\"optimizer\"].state_dict(),\n",
    "                    }, \n",
    "                   f=buffer)\n",
    "                # TODO -- add custom hash to model instead of value\n",
    "        minio.put_object(buffer.getvalue(), \n",
    "                             save_name=f\"ckpt/pretrained_bert_epoch_{state.epoch}.pt\")"
   ]
  },
  {
   "cell_type": "code",
   "execution_count": 13,
   "id": "a7b61792-62b5-4be6-a8f1-678cf2b7e683",
   "metadata": {},
   "outputs": [],
   "source": [
    "import sys, os\n",
    "from transformers.trainer_callback import ProgressCallback\n",
    "# Disable\n",
    "def blockPrint():\n",
    "    sys.stdout = open(os.devnull, 'w')\n",
    "\n",
    "# Restore\n",
    "def enablePrint():\n",
    "    sys.stdout = sys.__stdout__\n",
    "\n",
    "\n",
    "def on_log(self, args, state, control, logs=None, **kwargs):\n",
    "    if state.is_local_process_zero and self.training_bar is not None:\n",
    "        _ = logs.pop(\"total_flos\", None)\n",
    "ProgressCallback.on_log = on_log"
   ]
  },
  {
   "cell_type": "code",
   "execution_count": 19,
   "id": "11aaa7f8-3bfc-4039-a764-2ecce3083a16",
   "metadata": {},
   "outputs": [
    {
     "name": "stderr",
     "output_type": "stream",
     "text": [
      "/usr/local/lib/python3.10/dist-packages/transformers/training_args.py:1477: FutureWarning: `--adafactor` is deprecated and will be removed in version 5 of 🤗 Transformers. Use `--optim adafactor` instead\n",
      "  warnings.warn(\n",
      "/usr/local/lib/python3.10/dist-packages/accelerate/accelerator.py:432: FutureWarning: Passing the following arguments to `Accelerator` is deprecated and will be removed in version 1.0 of Accelerate: dict_keys(['dispatch_batches', 'split_batches']). Please pass an `accelerate.DataLoaderConfiguration` instead: \n",
      "dataloader_config = DataLoaderConfiguration(dispatch_batches=None, split_batches=False)\n",
      "  warnings.warn(\n"
     ]
    }
   ],
   "source": [
    "training_args = TrainingArguments(\n",
    "    output_dir=\"ckpt/pretrained_bert\",\n",
    "    dataloader_drop_last=True,\n",
    "    dataloader_num_workers=6, \n",
    "    learning_rate=2e-5,\n",
    "    num_train_epochs=10,\n",
    "    weight_decay=0.001, \n",
    "    per_device_train_batch_size=6,\n",
    "    gradient_accumulation_steps=4,\n",
    "    gradient_checkpointing=True,\n",
    "    gradient_checkpointing_kwargs={'use_reentrant': True}, \n",
    "    adafactor=True,\n",
    "    optim=\"adafactor\",\n",
    "    warmup_steps=1000,\n",
    "    report_to=\"wandb\", \n",
    "    logging_steps=2000,\n",
    "    save_steps=5000,\n",
    "    save_total_limit=10,\n",
    "    fp16=True,\n",
    ")\n",
    "\n",
    "trainer = Trainer(\n",
    "    model=model,\n",
    "    args=training_args,\n",
    "    train_dataset=tokenized_dt[\"train\"],\n",
    "    eval_dataset=tokenized_dt[\"test\"],\n",
    "    data_collator=data_collator,\n",
    "    callbacks=[SaveCallback, ProgressCallback]\n",
    ")"
   ]
  },
  {
   "cell_type": "code",
   "execution_count": 15,
   "id": "f10215a7-e698-455e-b73d-7c5c200f04e7",
   "metadata": {},
   "outputs": [],
   "source": [
    "import os\n",
    "\n",
    "os.environ[\"PYTORCH_CUDA_ALLOC_CONF\"] = \"max_split_size_mb:512\"\n",
    "os.environ[\"TOKENIZERS_PARALLELISM\"] = \"false\""
   ]
  },
  {
   "cell_type": "markdown",
   "id": "f84e5cac-550d-4424-b97a-b41cef1cb252",
   "metadata": {},
   "source": [
    "#### Infinite tries to disable logging to stdout"
   ]
  },
  {
   "cell_type": "code",
   "execution_count": 16,
   "id": "7fc5b9f1-aed3-41f0-9e7d-98a7aa4c8668",
   "metadata": {},
   "outputs": [
    {
     "name": "stdout",
     "output_type": "stream",
     "text": [
      "ModularLM/ckpt/pretrained_bert_epoch_9.999976796259556.pt: |####################| 681.16 MB/681.16 MB 100% [elapsed: 00:08 left: 00:00, 83.88 MB/sec] "
     ]
    }
   ],
   "source": [
    "blockPrint()"
   ]
  },
  {
   "cell_type": "code",
   "execution_count": 20,
   "id": "272c5dd9-e9f3-496a-964f-3af28487b5b7",
   "metadata": {},
   "outputs": [
    {
     "name": "stderr",
     "output_type": "stream",
     "text": [
      "There were missing keys in the checkpoint model loaded: ['cls.predictions.decoder.weight', 'cls.predictions.decoder.bias'].\n"
     ]
    },
    {
     "data": {
      "application/vnd.jupyter.widget-view+json": {
       "model_id": "64d171eef74f4311acc85c8e371ae6b1",
       "version_major": 2,
       "version_minor": 0
      },
      "text/plain": [
       "  0%|          | 0/646440 [00:00<?, ?it/s]"
      ]
     },
     "metadata": {},
     "output_type": "display_data"
    },
    {
     "data": {
      "text/html": [
       "\n",
       "    <div>\n",
       "      \n",
       "      <progress value='646440' max='646440' style='width:300px; height:20px; vertical-align: middle;'></progress>\n",
       "      [646440/646440 9:10:56, Epoch 9/10]\n",
       "    </div>\n",
       "    <table border=\"1\" class=\"dataframe\">\n",
       "  <thead>\n",
       " <tr style=\"text-align: left;\">\n",
       "      <th>Step</th>\n",
       "      <th>Training Loss</th>\n",
       "    </tr>\n",
       "  </thead>\n",
       "  <tbody>\n",
       "    <tr>\n",
       "      <td>536000</td>\n",
       "      <td>1.778100</td>\n",
       "    </tr>\n",
       "    <tr>\n",
       "      <td>538000</td>\n",
       "      <td>1.755300</td>\n",
       "    </tr>\n",
       "    <tr>\n",
       "      <td>540000</td>\n",
       "      <td>1.763500</td>\n",
       "    </tr>\n",
       "    <tr>\n",
       "      <td>542000</td>\n",
       "      <td>1.752500</td>\n",
       "    </tr>\n",
       "    <tr>\n",
       "      <td>544000</td>\n",
       "      <td>1.757700</td>\n",
       "    </tr>\n",
       "    <tr>\n",
       "      <td>546000</td>\n",
       "      <td>1.766400</td>\n",
       "    </tr>\n",
       "    <tr>\n",
       "      <td>548000</td>\n",
       "      <td>1.758600</td>\n",
       "    </tr>\n",
       "    <tr>\n",
       "      <td>550000</td>\n",
       "      <td>1.753600</td>\n",
       "    </tr>\n",
       "    <tr>\n",
       "      <td>552000</td>\n",
       "      <td>1.749300</td>\n",
       "    </tr>\n",
       "    <tr>\n",
       "      <td>554000</td>\n",
       "      <td>1.754900</td>\n",
       "    </tr>\n",
       "    <tr>\n",
       "      <td>556000</td>\n",
       "      <td>1.739900</td>\n",
       "    </tr>\n",
       "    <tr>\n",
       "      <td>558000</td>\n",
       "      <td>1.738600</td>\n",
       "    </tr>\n",
       "    <tr>\n",
       "      <td>560000</td>\n",
       "      <td>1.734000</td>\n",
       "    </tr>\n",
       "    <tr>\n",
       "      <td>562000</td>\n",
       "      <td>1.744900</td>\n",
       "    </tr>\n",
       "    <tr>\n",
       "      <td>564000</td>\n",
       "      <td>1.741200</td>\n",
       "    </tr>\n",
       "    <tr>\n",
       "      <td>566000</td>\n",
       "      <td>1.734300</td>\n",
       "    </tr>\n",
       "    <tr>\n",
       "      <td>568000</td>\n",
       "      <td>1.748300</td>\n",
       "    </tr>\n",
       "    <tr>\n",
       "      <td>570000</td>\n",
       "      <td>1.753000</td>\n",
       "    </tr>\n",
       "    <tr>\n",
       "      <td>572000</td>\n",
       "      <td>1.737500</td>\n",
       "    </tr>\n",
       "    <tr>\n",
       "      <td>574000</td>\n",
       "      <td>1.742500</td>\n",
       "    </tr>\n",
       "    <tr>\n",
       "      <td>576000</td>\n",
       "      <td>1.727900</td>\n",
       "    </tr>\n",
       "    <tr>\n",
       "      <td>578000</td>\n",
       "      <td>1.728800</td>\n",
       "    </tr>\n",
       "    <tr>\n",
       "      <td>580000</td>\n",
       "      <td>1.739800</td>\n",
       "    </tr>\n",
       "    <tr>\n",
       "      <td>582000</td>\n",
       "      <td>1.731200</td>\n",
       "    </tr>\n",
       "    <tr>\n",
       "      <td>584000</td>\n",
       "      <td>1.719600</td>\n",
       "    </tr>\n",
       "    <tr>\n",
       "      <td>586000</td>\n",
       "      <td>1.720100</td>\n",
       "    </tr>\n",
       "    <tr>\n",
       "      <td>588000</td>\n",
       "      <td>1.708300</td>\n",
       "    </tr>\n",
       "    <tr>\n",
       "      <td>590000</td>\n",
       "      <td>1.688700</td>\n",
       "    </tr>\n",
       "    <tr>\n",
       "      <td>592000</td>\n",
       "      <td>1.700700</td>\n",
       "    </tr>\n",
       "    <tr>\n",
       "      <td>594000</td>\n",
       "      <td>1.692800</td>\n",
       "    </tr>\n",
       "    <tr>\n",
       "      <td>596000</td>\n",
       "      <td>1.705800</td>\n",
       "    </tr>\n",
       "    <tr>\n",
       "      <td>598000</td>\n",
       "      <td>1.691600</td>\n",
       "    </tr>\n",
       "    <tr>\n",
       "      <td>600000</td>\n",
       "      <td>1.695800</td>\n",
       "    </tr>\n",
       "    <tr>\n",
       "      <td>602000</td>\n",
       "      <td>1.698700</td>\n",
       "    </tr>\n",
       "    <tr>\n",
       "      <td>604000</td>\n",
       "      <td>1.698900</td>\n",
       "    </tr>\n",
       "    <tr>\n",
       "      <td>606000</td>\n",
       "      <td>1.695900</td>\n",
       "    </tr>\n",
       "    <tr>\n",
       "      <td>608000</td>\n",
       "      <td>1.680200</td>\n",
       "    </tr>\n",
       "    <tr>\n",
       "      <td>610000</td>\n",
       "      <td>1.703500</td>\n",
       "    </tr>\n",
       "    <tr>\n",
       "      <td>612000</td>\n",
       "      <td>1.686200</td>\n",
       "    </tr>\n",
       "    <tr>\n",
       "      <td>614000</td>\n",
       "      <td>1.694700</td>\n",
       "    </tr>\n",
       "    <tr>\n",
       "      <td>616000</td>\n",
       "      <td>1.695900</td>\n",
       "    </tr>\n",
       "    <tr>\n",
       "      <td>618000</td>\n",
       "      <td>1.689100</td>\n",
       "    </tr>\n",
       "    <tr>\n",
       "      <td>620000</td>\n",
       "      <td>1.686100</td>\n",
       "    </tr>\n",
       "    <tr>\n",
       "      <td>622000</td>\n",
       "      <td>1.691200</td>\n",
       "    </tr>\n",
       "    <tr>\n",
       "      <td>624000</td>\n",
       "      <td>1.661200</td>\n",
       "    </tr>\n",
       "    <tr>\n",
       "      <td>626000</td>\n",
       "      <td>1.692100</td>\n",
       "    </tr>\n",
       "    <tr>\n",
       "      <td>628000</td>\n",
       "      <td>1.670800</td>\n",
       "    </tr>\n",
       "    <tr>\n",
       "      <td>630000</td>\n",
       "      <td>1.678500</td>\n",
       "    </tr>\n",
       "    <tr>\n",
       "      <td>632000</td>\n",
       "      <td>1.678300</td>\n",
       "    </tr>\n",
       "    <tr>\n",
       "      <td>634000</td>\n",
       "      <td>1.683100</td>\n",
       "    </tr>\n",
       "    <tr>\n",
       "      <td>636000</td>\n",
       "      <td>1.683800</td>\n",
       "    </tr>\n",
       "    <tr>\n",
       "      <td>638000</td>\n",
       "      <td>1.669400</td>\n",
       "    </tr>\n",
       "    <tr>\n",
       "      <td>640000</td>\n",
       "      <td>1.674100</td>\n",
       "    </tr>\n",
       "    <tr>\n",
       "      <td>642000</td>\n",
       "      <td>1.669300</td>\n",
       "    </tr>\n",
       "    <tr>\n",
       "      <td>644000</td>\n",
       "      <td>1.682100</td>\n",
       "    </tr>\n",
       "    <tr>\n",
       "      <td>646000</td>\n",
       "      <td>1.670300</td>\n",
       "    </tr>\n",
       "  </tbody>\n",
       "</table><p>"
      ],
      "text/plain": [
       "<IPython.core.display.HTML object>"
      ]
     },
     "metadata": {},
     "output_type": "display_data"
    }
   ],
   "source": [
    "trainer.train(resume_from_checkpoint=True);"
   ]
  }
 ],
 "metadata": {
  "kernelspec": {
   "display_name": "Python 3 (ipykernel)",
   "language": "python",
   "name": "python3"
  },
  "language_info": {
   "codemirror_mode": {
    "name": "ipython",
    "version": 3
   },
   "file_extension": ".py",
   "mimetype": "text/x-python",
   "name": "python",
   "nbconvert_exporter": "python",
   "pygments_lexer": "ipython3",
   "version": "3.10.12"
  }
 },
 "nbformat": 4,
 "nbformat_minor": 5
}
