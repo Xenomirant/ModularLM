{
  "nbformat": 4,
  "nbformat_minor": 0,
  "metadata": {
    "colab": {
      "provenance": []
    },
    "kernelspec": {
      "name": "python3",
      "display_name": "Python 3"
    },
    "language_info": {
      "name": "python"
    }
  },
  "cells": [
    {
      "cell_type": "code",
      "source": [
        "import torch\n",
        "from transformers import BertModel\n",
        "import torch.nn as nn\n",
        "import torch.nn.functional as F\n",
        "import torch.optim as optim"
      ],
      "metadata": {
        "id": "ms0HPMs3BsTk"
      },
      "execution_count": null,
      "outputs": []
    },
    {
      "cell_type": "code",
      "source": [
        "# custom distloss\n",
        "class DistLoss(nn.Module):\n",
        "    def __init__(self):\n",
        "        super(DistLoss, self).__init__()\n",
        "\n",
        "    def forward(self, vector1, vector2):\n",
        "        cos_sim = F.cosine_similarity(vector1, vector2, dim=1)\n",
        "        divided = cos_sim / (torch.norm(vector1, dim=1) + 1)\n",
        "        loss = torch.mean(divided)\n",
        "        return loss"
      ],
      "metadata": {
        "id": "OxVpSQngCA2H"
      },
      "execution_count": null,
      "outputs": []
    },
    {
      "cell_type": "code",
      "source": [
        "model = BertModel.from_pretrained('bert-base-uncased')\n",
        "\n",
        "loss_fn_first_layers = DistLoss()\n",
        "loss_fn_last_layers = nn.CrossEntropyLoss()"
      ],
      "metadata": {
        "id": "FyK0LfurdW5F"
      },
      "execution_count": null,
      "outputs": []
    },
    {
      "cell_type": "code",
      "source": [
        "device = torch.device(\"cuda\" if torch.cuda.is_available() else \"cpu\")"
      ],
      "metadata": {
        "id": "B4WSw6BiCNGv"
      },
      "execution_count": null,
      "outputs": []
    },
    {
      "cell_type": "code",
      "source": [
        "# accuracy metric for our classififcation\n",
        "# скорее рыба\n",
        "def accuracy(model_labels, labels):\n",
        "  return torch.mean((model_labels == labels).float())"
      ],
      "metadata": {
        "id": "hARippuVVF54"
      },
      "execution_count": null,
      "outputs": []
    },
    {
      "cell_type": "code",
      "source": [
        "# Training loop\n",
        "# пока считаю, что уже есть вектора маскированных предложений\n",
        "def train(train_loader, model = BertModel.from_pretrained('bert-base-uncased'), num_epochs = 5, lr=2e-5, loss_fn_first_layers = loss_fn_first_layers, loss_fn_last_layers = loss_fn_last_layers, device = device):\n",
        "  model = model\n",
        "  train_loader = train_loader\n",
        "  num_epochs = num_epochs\n",
        "  optimizer = optim.Adam(model.parameters(), lr=lr)\n",
        "  for epoch in range(num_epochs):\n",
        "      model.train()\n",
        "      total_loss = 0\n",
        "\n",
        "      for batch in train_loader:\n",
        "          input_neu, input_erg, target_neu, target_erg = batch\n",
        "\n",
        "          # TO DO: transfer to device, get outputs\n",
        "\n",
        "          optimizer.zero_grad()\n",
        "\n",
        "          outputs = \"sth\"\n",
        "          # Extract outputs from the first and last layers\n",
        "          first_layers_output = model(inputs, output_hidden_states=True).hidden_states[:3]  # first three layers\n",
        "          last_layers_output = model(inputs, output_hidden_states=True).hidden_states[3:]  # the rest of the layers\n",
        "\n",
        "          # Calculate the loss for each group\n",
        "          loss_first_layers = loss_fn_first_layers(first_layers_output, target)\n",
        "          loss_last_layers = loss_fn_last_layers(last_layers_output, target)\n",
        "\n",
        "          # Total loss\n",
        "          # коэффициенты, нормировать arctg? динамично менять коэффициент,\n",
        "          total_loss = loss_first_layers + loss_last_layers\n",
        "          accuracy = accuracy(outputs, target)\n",
        "\n",
        "          total_loss.backward()\n",
        "          optimizer.step()\n",
        "\n",
        "          total_loss += total_loss.item()\n",
        "\n",
        "      print(f\"Epoch {epoch + 1}, /n/n Total loss: {total_loss / len(train_loader)}, /n/n accuracy: {accuracy}\")"
      ],
      "metadata": {
        "id": "YN74ihZBCqHW"
      },
      "execution_count": null,
      "outputs": []
    }
  ]
}