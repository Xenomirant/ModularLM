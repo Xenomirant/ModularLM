{
  "cells": [
    {
      "cell_type": "markdown",
      "metadata": {
        "id": "SkRjTgTvHt0C"
      },
      "source": [
        "# Bert Partition"
      ]
    },
    {
      "cell_type": "markdown",
      "metadata": {
        "id": "jESjuwfQHw8c"
      },
      "source": [
        "## Imports"
      ]
    },
    {
      "cell_type": "code",
      "execution_count": 1,
      "metadata": {
        "id": "SSzfVu-SnBOl",
        "scrolled": true
      },
      "outputs": [],
      "source": [
        "!pip install transformers[torch] datasets evaluate wandb -q"
      ]
    },
    {
      "cell_type": "code",
      "execution_count": 2,
      "metadata": {
        "id": "K8_hHVCNnBOq"
      },
      "outputs": [],
      "source": [
        "import datasets\n",
        "import pickle as pkl\n",
        "\n",
        "from transformers import (\n",
        "    AutoTokenizer,\n",
        "    DataCollatorForLanguageModeling,\n",
        "    BertForMaskedLM,\n",
        "    get_scheduler,\n",
        "    TrainingArguments,\n",
        "    Trainer\n",
        ")\n",
        "import evaluate\n",
        "import numpy as np\n",
        "import torch\n",
        "from torch import nn\n",
        "from torch.utils.data import Dataset, DataLoader\n",
        "from torch.optim import Adam, SGD\n",
        "\n",
        "from tqdm.auto import trange, tqdm\n",
        "import pandas as pd\n",
        "\n",
        "import wandb"
      ]
    },
    {
      "cell_type": "code",
      "execution_count": 3,
      "metadata": {
        "colab": {
          "base_uri": "https://localhost:8080/"
        },
        "id": "MMZUfmdLEBnR",
        "outputId": "75c4dd46-dd6c-4f31-ad83-74a0a565b17c"
      },
      "outputs": [
        {
          "output_type": "stream",
          "name": "stdout",
          "text": [
            "Drive already mounted at /content/drive; to attempt to forcibly remount, call drive.mount(\"/content/drive\", force_remount=True).\n"
          ]
        }
      ],
      "source": [
        "from google.colab import drive\n",
        "drive.mount('/content/drive')"
      ]
    },
    {
      "cell_type": "markdown",
      "metadata": {
        "id": "fF-ss42aIADq"
      },
      "source": [
        "### Parameters"
      ]
    },
    {
      "cell_type": "code",
      "execution_count": 4,
      "metadata": {
        "colab": {
          "base_uri": "https://localhost:8080/"
        },
        "id": "TZ1tRDh5RvDP",
        "outputId": "93a64300-36f2-4450-dded-ede6b6454b44"
      },
      "outputs": [
        {
          "output_type": "stream",
          "name": "stderr",
          "text": [
            "\u001b[34m\u001b[1mwandb\u001b[0m: Currently logged in as: \u001b[33mtokubetsu01\u001b[0m. Use \u001b[1m`wandb login --relogin`\u001b[0m to force relogin\n"
          ]
        },
        {
          "output_type": "execute_result",
          "data": {
            "text/plain": [
              "True"
            ]
          },
          "metadata": {},
          "execution_count": 4
        }
      ],
      "source": [
        "wandb.login()"
      ]
    },
    {
      "cell_type": "code",
      "execution_count": 5,
      "metadata": {
        "colab": {
          "base_uri": "https://localhost:8080/",
          "height": 143
        },
        "id": "_XaOQ4gtSauA",
        "outputId": "94169790-8c91-4460-aaf1-56ab846703ed"
      },
      "outputs": [
        {
          "output_type": "stream",
          "name": "stderr",
          "text": [
            "\u001b[34m\u001b[1mwandb\u001b[0m: Currently logged in as: \u001b[33mtokubetsu01\u001b[0m (\u001b[33mgrammar-bert\u001b[0m). Use \u001b[1m`wandb login --relogin`\u001b[0m to force relogin\n"
          ]
        },
        {
          "output_type": "display_data",
          "data": {
            "text/plain": [
              "<IPython.core.display.HTML object>"
            ],
            "text/html": [
              "Tracking run with wandb version 0.16.4"
            ]
          },
          "metadata": {}
        },
        {
          "output_type": "display_data",
          "data": {
            "text/plain": [
              "<IPython.core.display.HTML object>"
            ],
            "text/html": [
              "Run data is saved locally in <code>/content/wandb/run-20240313_193128-sm9cohl4</code>"
            ]
          },
          "metadata": {}
        },
        {
          "output_type": "display_data",
          "data": {
            "text/plain": [
              "<IPython.core.display.HTML object>"
            ],
            "text/html": [
              "Syncing run <strong><a href='https://wandb.ai/grammar-bert/grammar-bert-model1/runs/sm9cohl4' target=\"_blank\">spring-cosmos-32</a></strong> to <a href='https://wandb.ai/grammar-bert/grammar-bert-model1' target=\"_blank\">Weights & Biases</a> (<a href='https://wandb.me/run' target=\"_blank\">docs</a>)<br/>"
            ]
          },
          "metadata": {}
        },
        {
          "output_type": "display_data",
          "data": {
            "text/plain": [
              "<IPython.core.display.HTML object>"
            ],
            "text/html": [
              " View project at <a href='https://wandb.ai/grammar-bert/grammar-bert-model1' target=\"_blank\">https://wandb.ai/grammar-bert/grammar-bert-model1</a>"
            ]
          },
          "metadata": {}
        },
        {
          "output_type": "display_data",
          "data": {
            "text/plain": [
              "<IPython.core.display.HTML object>"
            ],
            "text/html": [
              " View run at <a href='https://wandb.ai/grammar-bert/grammar-bert-model1/runs/sm9cohl4' target=\"_blank\">https://wandb.ai/grammar-bert/grammar-bert-model1/runs/sm9cohl4</a>"
            ]
          },
          "metadata": {}
        },
        {
          "output_type": "execute_result",
          "data": {
            "text/html": [
              "<button onClick=\"this.nextSibling.style.display='block';this.style.display='none';\">Display W&B run</button><iframe src='https://wandb.ai/grammar-bert/grammar-bert-model1/runs/sm9cohl4?jupyter=true' style='border:none;width:100%;height:420px;display:none;'></iframe>"
            ],
            "text/plain": [
              "<wandb.sdk.wandb_run.Run at 0x7f9c2ea15a20>"
            ]
          },
          "metadata": {},
          "execution_count": 5
        }
      ],
      "source": [
        "wandb.init(\n",
        "    project='grammar-bert-model1',\n",
        "    entity='grammar-bert',\n",
        "    group='nika'\n",
        ")"
      ]
    },
    {
      "cell_type": "code",
      "execution_count": 6,
      "metadata": {
        "colab": {
          "base_uri": "https://localhost:8080/"
        },
        "id": "zi_u2NiL0mgC",
        "outputId": "cbeb7da4-03ef-40c1-a015-90ec071ab357"
      },
      "outputs": [
        {
          "output_type": "execute_result",
          "data": {
            "text/plain": [
              "device(type='cuda')"
            ]
          },
          "metadata": {},
          "execution_count": 6
        }
      ],
      "source": [
        "device = torch.device(\"cuda\") if torch.cuda.is_available() else torch.device(\"cpu\")\n",
        "device"
      ]
    },
    {
      "cell_type": "code",
      "execution_count": 7,
      "metadata": {
        "id": "KTpeEhBwIBdl"
      },
      "outputs": [],
      "source": [
        "SEQ_LEN = 64\n",
        "BATCH_SIZE = 16\n",
        "TEST_SIZE = 0.3\n",
        "MLM_PROB = 0.15\n",
        "\n",
        "DATA_PATH = '/content/drive/MyDrive/nnlp/bert/biblioteka_prikluchenij_both_agr.csv'\n",
        "# DATA_PATH = \"data/biblioteka_prikluchenij_both_agr.csv\"\n",
        "MODEL_NAME = 'DeepPavlov/rubert-base-cased'"
      ]
    },
    {
      "cell_type": "markdown",
      "metadata": {
        "id": "Zdbf_sj8Hy_9"
      },
      "source": [
        "### Data Preparation"
      ]
    },
    {
      "cell_type": "code",
      "execution_count": 8,
      "metadata": {
        "id": "TQrOptuKvk4A"
      },
      "outputs": [],
      "source": [
        "# df = pd.read_csv(DATA_PATH)\n",
        "# df = df.drop(columns=['Unnamed: 0'])"
      ]
    },
    {
      "cell_type": "code",
      "source": [
        "# tqdm.pandas()\n",
        "\n",
        "# idx_init = df.initial.progress_apply(lambda x: x.replace(' ', ''))\n",
        "# idx_pol = df.polypers.progress_apply(lambda x: x.replace(' ', ''))\n",
        "# idx = -(idx_init == idx_pol)\n",
        "# df['was_changed'] = idx"
      ],
      "metadata": {
        "id": "GB-e4FABxy8y"
      },
      "execution_count": 9,
      "outputs": []
    },
    {
      "cell_type": "code",
      "source": [
        "# df.to_csv(DATA_PATH, index=False)"
      ],
      "metadata": {
        "id": "yrQu60MLz9cT"
      },
      "execution_count": 10,
      "outputs": []
    },
    {
      "cell_type": "markdown",
      "source": [
        "## Dataset and collator"
      ],
      "metadata": {
        "id": "bDe7I4QR4gVY"
      }
    },
    {
      "cell_type": "code",
      "source": [
        "class PairsDataset(Dataset):\n",
        "    def __init__(self,\n",
        "                 tokenizer,\n",
        "                 path=None,\n",
        "                 data=None,\n",
        "                 filter_same=True):\n",
        "        if data is None:\n",
        "            data = pd.read_csv(path)\n",
        "        self.dataset = data[(data.was_changed) | (not filter_same)].reset_index(drop=True)\n",
        "        self.tokenizer = tokenizer\n",
        "\n",
        "    def __len__(self):\n",
        "        return len(self.dataset)\n",
        "\n",
        "    def __getitem__(self, idx):\n",
        "        text1 = self.tokenizer(self.dataset.loc[idx]['initial'],\n",
        "                     padding='max_length',\n",
        "                     truncation=True,\n",
        "                     max_length=SEQ_LEN)\n",
        "\n",
        "        text2 = self.tokenizer(self.dataset.loc[idx]['polypers'],\n",
        "                     padding='max_length',\n",
        "                     truncation=True,\n",
        "                     max_length=SEQ_LEN)\n",
        "\n",
        "        return text1, text2"
      ],
      "metadata": {
        "id": "t3Nbo5uP4e1W"
      },
      "execution_count": 11,
      "outputs": []
    },
    {
      "cell_type": "code",
      "source": [
        "def collate_func(batch):\n",
        "    batch = [data_collator.torch_call(item) for item in zip(*batch)]\n",
        "    return batch"
      ],
      "metadata": {
        "id": "V06Z3lby7xme"
      },
      "execution_count": 12,
      "outputs": []
    },
    {
      "cell_type": "code",
      "source": [
        "tokenizer = AutoTokenizer.from_pretrained(MODEL_NAME)\n",
        "\n",
        "tokenizer.pad_token = '[SEP]'\n",
        "tokenizer.eos_token = '[SEP]'\n",
        "data_collator = DataCollatorForLanguageModeling(tokenizer=tokenizer, mlm_probability=MLM_PROB)"
      ],
      "metadata": {
        "colab": {
          "base_uri": "https://localhost:8080/"
        },
        "id": "f7JP-0xw72PH",
        "outputId": "2f1ca2ee-6378-4dae-cd1e-3eac9d6235a9"
      },
      "execution_count": 13,
      "outputs": [
        {
          "output_type": "stream",
          "name": "stderr",
          "text": [
            "/usr/local/lib/python3.10/dist-packages/huggingface_hub/utils/_token.py:88: UserWarning: \n",
            "The secret `HF_TOKEN` does not exist in your Colab secrets.\n",
            "To authenticate with the Hugging Face Hub, create a token in your settings tab (https://huggingface.co/settings/tokens), set it as secret in your Google Colab and restart your session.\n",
            "You will be able to reuse this secret in all of your notebooks.\n",
            "Please note that authentication is recommended but still optional to access public models or datasets.\n",
            "  warnings.warn(\n"
          ]
        }
      ]
    },
    {
      "cell_type": "markdown",
      "source": [
        "## MLM Train"
      ],
      "metadata": {
        "id": "Fh94UBHqxuSA"
      }
    },
    {
      "cell_type": "code",
      "source": [
        "# dt = datasets.Dataset.from_csv(DATA_PATH)\n",
        "# dt = dt.remove_columns(['polypers', 'was_changed']).rename_column('initial', 'text')"
      ],
      "metadata": {
        "id": "Mb9N8GAh_9Te"
      },
      "execution_count": 14,
      "outputs": []
    },
    {
      "cell_type": "code",
      "source": [
        "# N_samples = 10**5"
      ],
      "metadata": {
        "id": "d84hj1c4IQwT"
      },
      "execution_count": 15,
      "outputs": []
    },
    {
      "cell_type": "code",
      "source": [
        "# def tokenize_function(example):\n",
        "#     return tokenizer(example['text'], truncation=True)\n",
        "\n",
        "# tok_dt = dt.select(range(N_samples)).map(tokenize_function, batched=True)\n",
        "# tok_dt = tok_dt.train_test_split(test_size=100,\n",
        "#                          shuffle=True,\n",
        "#                          seed=42)"
      ],
      "metadata": {
        "id": "6ZHrIWiQA_rn"
      },
      "execution_count": 16,
      "outputs": []
    },
    {
      "cell_type": "code",
      "source": [
        "# training_args = TrainingArguments(\n",
        "#     report_to = 'wandb',\n",
        "#     output_dir='part1-model',\n",
        "#     learning_rate=1e-3,\n",
        "#     per_device_train_batch_size=16,\n",
        "#     num_train_epochs=1,\n",
        "#     # evaluation_strategy='steps',\n",
        "#     # eval_steps=20,\n",
        "#     logging_steps=20,\n",
        "#     logging_first_step=True\n",
        "# )"
      ],
      "metadata": {
        "id": "AKDqk2mzBQz-"
      },
      "execution_count": 17,
      "outputs": []
    },
    {
      "cell_type": "code",
      "source": [
        "# model = BertForMaskedLM.from_pretrained(MODEL_NAME)\n",
        "# model.to(device)\n",
        "# pass"
      ],
      "metadata": {
        "id": "F3MYlLtm76uJ"
      },
      "execution_count": 18,
      "outputs": []
    },
    {
      "cell_type": "code",
      "source": [
        "# trainer = Trainer(\n",
        "#     model=model,\n",
        "#     args=training_args,\n",
        "#     train_dataset=tok_dt['train'],\n",
        "#     # eval_dataset=tok_dt['test'],\n",
        "#     tokenizer=tokenizer,\n",
        "#     data_collator=data_collator\n",
        "# )"
      ],
      "metadata": {
        "id": "LC0KZCwqA50q"
      },
      "execution_count": 19,
      "outputs": []
    },
    {
      "cell_type": "code",
      "source": [
        "# trainer.train()"
      ],
      "metadata": {
        "id": "7vEzJTIREz0k"
      },
      "execution_count": 20,
      "outputs": []
    },
    {
      "cell_type": "markdown",
      "metadata": {
        "id": "P8nu5cYyIxDd"
      },
      "source": [
        "## Model"
      ]
    },
    {
      "cell_type": "code",
      "execution_count": 21,
      "metadata": {
        "id": "4RB10XU9bMbH"
      },
      "outputs": [],
      "source": [
        "def save_gradients(model, division_layer):\n",
        "    layers = {}\n",
        "\n",
        "    for name, param in model.named_parameters():\n",
        "        if name.startswith(f'bert.encoder.layer.{division_layer}'):\n",
        "            break\n",
        "        if (param.requires_grad) and param.grad is not None:\n",
        "            layers[name] = param.grad.detach()\n",
        "\n",
        "    return layers"
      ]
    },
    {
      "cell_type": "code",
      "execution_count": 22,
      "metadata": {
        "id": "qHcpG4G8cclV"
      },
      "outputs": [],
      "source": [
        "def change_gradients(model, layers, weight_mlm = 0.5, weight_cos = 1):\n",
        "    for name, param in model.named_parameters():\n",
        "        if name in layers:\n",
        "            param.grad = weight_cos * param.grad + weight_mlm * layers[name]\n",
        "        else:\n",
        "            break"
      ]
    },
    {
      "cell_type": "code",
      "source": [
        "class CosWeight:\n",
        "    def __init__(self, init_state=1, step=0.5):\n",
        "        self.cur_state = init_state\n",
        "        self.step = step\n",
        "\n",
        "    def __mul__(self, other):\n",
        "        res = self.cur_state * other\n",
        "        self.cur_state = self.cur_state * self.step\n",
        "        return res\n",
        "\n",
        "    def __repr__(self):\n",
        "        return str(self.cur_state)"
      ],
      "metadata": {
        "id": "H9vdmHBsLAXg"
      },
      "execution_count": 23,
      "outputs": []
    },
    {
      "cell_type": "code",
      "source": [
        "class CosLoss:\n",
        "    def __init__(self, vector=None, alpha=0):\n",
        "        self.loss = nn.CosineEmbeddingLoss()\n",
        "        self.target = torch.ones(BATCH_SIZE).to(model.device)\n",
        "        self.alpha = alpha\n",
        "        self.vector = vector\n",
        "\n",
        "    def __call__(self, hid_ref, hid_cur, target):\n",
        "        cos_loss = self.loss(hid_ref, hid_cur, target)\n",
        "        if self.vector is not None:\n",
        "            cos_loss += self.alpha * self.loss(self.vector, hid_ref - hid_cur, self.target)\n",
        "        return cos_loss"
      ],
      "metadata": {
        "id": "RsNP-PPvQayL"
      },
      "execution_count": 24,
      "outputs": []
    },
    {
      "cell_type": "code",
      "execution_count": 25,
      "metadata": {
        "id": "74aJSuBCtRcI"
      },
      "outputs": [],
      "source": [
        "def train(model, criteria, optimizer, lr_scheduler, data, n_epochs=1,\n",
        "          n_cosine=10, division_layer=4, weight_mlm=1,\n",
        "          weight_cos=1):\n",
        "\n",
        "    global cosine_losses\n",
        "\n",
        "    model.train()\n",
        "\n",
        "    tq_epoch = trange(n_epochs, desc='Epochs: ')\n",
        "    tq_batch = tqdm(total=len(data))\n",
        "\n",
        "    target = -torch.ones(BATCH_SIZE).to(model.device)\n",
        "    grads = None\n",
        "\n",
        "    for epoch in tq_epoch:\n",
        "        tq_batch.reset()\n",
        "        for i, batch in enumerate(data):\n",
        "            pred = model(**{k: v.to(model.device) for k, v in batch[0].items()},\n",
        "                         output_hidden_states=True)\n",
        "\n",
        "            if i % n_cosine == 0:\n",
        "                pred.loss.backward()\n",
        "                grads = save_gradients(model, division_layer)\n",
        "                optimizer.zero_grad()\n",
        "\n",
        "            else:\n",
        "                pred_new = model(**{k: v.to(model.device) for k, v in batch[1].items()},\n",
        "                        output_hidden_states=True)\n",
        "\n",
        "                hid_ref = torch.mean(pred.hidden_states[division_layer], dim=1)\n",
        "                hid_cur = torch.mean(pred_new.hidden_states[division_layer], dim=1)\n",
        "\n",
        "                cos_loss = criteria(hid_ref, hid_cur, target)\n",
        "                cos_loss.backward()\n",
        "\n",
        "                change_gradients(model, grads, weight_mlm=weight_mlm,\n",
        "                                 weight_cos=weight_cos)\n",
        "\n",
        "                optimizer.step()\n",
        "                optimizer.zero_grad()\n",
        "\n",
        "                cosine_losses.append(cos_loss.detach().cpu())\n",
        "\n",
        "                cos_loss = (sum(cosine_losses[-100:]) / len(cosine_losses[-100:])).item()\n",
        "\n",
        "                wandb.log({\"Cosine loss\": cos_loss})\n",
        "                tq_batch.set_postfix({\n",
        "                        'Cosine loss': cos_loss\n",
        "                    })\n",
        "\n",
        "            tq_batch.update(1)\n",
        "\n",
        "    model.eval()"
      ]
    },
    {
      "cell_type": "code",
      "source": [
        "dt = PairsDataset(tokenizer, path=DATA_PATH)\n",
        "dl = DataLoader(dt, batch_size=BATCH_SIZE, shuffle=True, collate_fn=collate_func)"
      ],
      "metadata": {
        "id": "SPNBA0emMpWr"
      },
      "execution_count": 26,
      "outputs": []
    },
    {
      "cell_type": "code",
      "execution_count": 27,
      "metadata": {
        "id": "3I3B8JUjnBOs"
      },
      "outputs": [],
      "source": [
        "model = BertForMaskedLM.from_pretrained(MODEL_NAME)\n",
        "model.to(device)\n",
        "pass"
      ]
    },
    {
      "cell_type": "code",
      "source": [
        "n_mlm = 2\n",
        "n_cosine = 8\n",
        "division_layer = 3\n",
        "weight_mlm = 1\n",
        "weight_cos = CosWeight(0.5)"
      ],
      "metadata": {
        "id": "CAq3W2Qd3c3y"
      },
      "execution_count": 28,
      "outputs": []
    },
    {
      "cell_type": "code",
      "execution_count": 29,
      "metadata": {
        "id": "vncR8UNMvk4C"
      },
      "outputs": [],
      "source": [
        "for name, param in model.named_parameters():\n",
        "    param.requires_grad = name.startswith(f\"bert.encoder.layer.{division_layer}\")"
      ]
    },
    {
      "cell_type": "code",
      "source": [
        "vec = torch.normal(0.5,\n",
        "                   0.1,\n",
        "                   size=(768, ),\n",
        "                   requires_grad=False).repeat(BATCH_SIZE, 1)"
      ],
      "metadata": {
        "id": "mSRwfobbRsQY"
      },
      "execution_count": 33,
      "outputs": []
    },
    {
      "cell_type": "code",
      "execution_count": 34,
      "metadata": {
        "id": "O48t9N1K8XCF"
      },
      "outputs": [],
      "source": [
        "optimizer = SGD(model.parameters(), lr=5e-4)\n",
        "criterion = CosLoss(vector=vec.to(model.device), alpha=0.5)\n",
        "\n",
        "num_epochs = 1\n",
        "num_training_steps = num_epochs * len(dl)\n",
        "lr_scheduler = get_scheduler(\n",
        "    name=\"linear\", optimizer=optimizer, num_warmup_steps=0,\n",
        "    num_training_steps=num_training_steps\n",
        ")"
      ]
    },
    {
      "cell_type": "code",
      "execution_count": 35,
      "metadata": {
        "colab": {
          "base_uri": "https://localhost:8080/",
          "height": 396,
          "referenced_widgets": [
            "001cfa81c7354e93be3df3a5cf1b1058",
            "1957ad156733493da7a1d98af4e41f75",
            "b09cac7f786d41508fc087bfdc5967b7",
            "3adea4ff86b3452ea61fa306820297e6",
            "644be7a3004544af89d53d40dfad2f2b",
            "ab1566b360054b28942a3037cf3b746a",
            "36d21aa4eb7245f7918062cea3ea7a1b",
            "99f7527310794081b4b6adf4b6f3d4eb",
            "02c75806a08d4fd48c35b5a1dcdea1fb",
            "4064efa851f842cdb64b85b7498e2072",
            "9cd5f89775324214b3bcf755a575bf56",
            "7145096b67ab4dc69573e9047570c587",
            "e465332bfe814a2485071916e79d6ec0",
            "f468a1aab83f440a9a49912cb2cf901e",
            "cf17fde9c27f40a4b4e8ee7a83918f96",
            "e60d7f63aedf4b52982c846515cbc703",
            "991f151a7fe041e39275a97cdc1d2838",
            "edf64befa1a3437f82ca7886bb27b9af",
            "4c82641162ed4e569484ba69cbc255c6",
            "e1441e83a1f84e448f7a4b19dc1e6527",
            "99f562bfbd5c4f25a847a01add5d776a",
            "f76d3bb75a774ce9a538561618ca09cf"
          ]
        },
        "id": "F762mn4J1t5F",
        "outputId": "51fddd23-30ec-446f-fcde-ae5f7db8f13e"
      },
      "outputs": [
        {
          "output_type": "display_data",
          "data": {
            "text/plain": [
              "Epochs:   0%|          | 0/1 [00:00<?, ?it/s]"
            ],
            "application/vnd.jupyter.widget-view+json": {
              "version_major": 2,
              "version_minor": 0,
              "model_id": "001cfa81c7354e93be3df3a5cf1b1058"
            }
          },
          "metadata": {}
        },
        {
          "output_type": "display_data",
          "data": {
            "text/plain": [
              "  0%|          | 0/37379 [00:00<?, ?it/s]"
            ],
            "application/vnd.jupyter.widget-view+json": {
              "version_major": 2,
              "version_minor": 0,
              "model_id": "7145096b67ab4dc69573e9047570c587"
            }
          },
          "metadata": {}
        },
        {
          "output_type": "error",
          "ename": "KeyboardInterrupt",
          "evalue": "",
          "traceback": [
            "\u001b[0;31m---------------------------------------------------------------------------\u001b[0m",
            "\u001b[0;31mKeyboardInterrupt\u001b[0m                         Traceback (most recent call last)",
            "\u001b[0;32m<ipython-input-35-b024ea40f47d>\u001b[0m in \u001b[0;36m<cell line: 3>\u001b[0;34m()\u001b[0m\n\u001b[1;32m      1\u001b[0m \u001b[0mcosine_losses\u001b[0m \u001b[0;34m=\u001b[0m \u001b[0;34m[\u001b[0m\u001b[0;34m]\u001b[0m\u001b[0;34m\u001b[0m\u001b[0;34m\u001b[0m\u001b[0m\n\u001b[1;32m      2\u001b[0m \u001b[0;34m\u001b[0m\u001b[0m\n\u001b[0;32m----> 3\u001b[0;31m train(model, criterion, optimizer, lr_scheduler, dl,\n\u001b[0m\u001b[1;32m      4\u001b[0m       \u001b[0mn_epochs\u001b[0m\u001b[0;34m=\u001b[0m\u001b[0mnum_epochs\u001b[0m\u001b[0;34m,\u001b[0m\u001b[0;34m\u001b[0m\u001b[0;34m\u001b[0m\u001b[0m\n\u001b[1;32m      5\u001b[0m       \u001b[0mn_cosine\u001b[0m\u001b[0;34m=\u001b[0m\u001b[0mn_cosine\u001b[0m\u001b[0;34m,\u001b[0m \u001b[0mdivision_layer\u001b[0m\u001b[0;34m=\u001b[0m\u001b[0mdivision_layer\u001b[0m \u001b[0;34m+\u001b[0m \u001b[0;36m1\u001b[0m\u001b[0;34m,\u001b[0m\u001b[0;34m\u001b[0m\u001b[0;34m\u001b[0m\u001b[0m\n",
            "\u001b[0;32m<ipython-input-25-3dc9f3c6dd3a>\u001b[0m in \u001b[0;36mtrain\u001b[0;34m(model, criteria, optimizer, lr_scheduler, data, n_epochs, n_cosine, division_layer, weight_mlm, weight_cos)\u001b[0m\n\u001b[1;32m     40\u001b[0m                 \u001b[0moptimizer\u001b[0m\u001b[0;34m.\u001b[0m\u001b[0mzero_grad\u001b[0m\u001b[0;34m(\u001b[0m\u001b[0;34m)\u001b[0m\u001b[0;34m\u001b[0m\u001b[0;34m\u001b[0m\u001b[0m\n\u001b[1;32m     41\u001b[0m \u001b[0;34m\u001b[0m\u001b[0m\n\u001b[0;32m---> 42\u001b[0;31m                 \u001b[0mcosine_losses\u001b[0m\u001b[0;34m.\u001b[0m\u001b[0mappend\u001b[0m\u001b[0;34m(\u001b[0m\u001b[0mcos_loss\u001b[0m\u001b[0;34m.\u001b[0m\u001b[0mdetach\u001b[0m\u001b[0;34m(\u001b[0m\u001b[0;34m)\u001b[0m\u001b[0;34m.\u001b[0m\u001b[0mcpu\u001b[0m\u001b[0;34m(\u001b[0m\u001b[0;34m)\u001b[0m\u001b[0;34m)\u001b[0m\u001b[0;34m\u001b[0m\u001b[0;34m\u001b[0m\u001b[0m\n\u001b[0m\u001b[1;32m     43\u001b[0m \u001b[0;34m\u001b[0m\u001b[0m\n\u001b[1;32m     44\u001b[0m                 \u001b[0mcos_loss\u001b[0m \u001b[0;34m=\u001b[0m \u001b[0;34m(\u001b[0m\u001b[0msum\u001b[0m\u001b[0;34m(\u001b[0m\u001b[0mcosine_losses\u001b[0m\u001b[0;34m[\u001b[0m\u001b[0;34m-\u001b[0m\u001b[0;36m100\u001b[0m\u001b[0;34m:\u001b[0m\u001b[0;34m]\u001b[0m\u001b[0;34m)\u001b[0m \u001b[0;34m/\u001b[0m \u001b[0mlen\u001b[0m\u001b[0;34m(\u001b[0m\u001b[0mcosine_losses\u001b[0m\u001b[0;34m[\u001b[0m\u001b[0;34m-\u001b[0m\u001b[0;36m100\u001b[0m\u001b[0;34m:\u001b[0m\u001b[0;34m]\u001b[0m\u001b[0;34m)\u001b[0m\u001b[0;34m)\u001b[0m\u001b[0;34m.\u001b[0m\u001b[0mitem\u001b[0m\u001b[0;34m(\u001b[0m\u001b[0;34m)\u001b[0m\u001b[0;34m\u001b[0m\u001b[0;34m\u001b[0m\u001b[0m\n",
            "\u001b[0;31mKeyboardInterrupt\u001b[0m: "
          ]
        }
      ],
      "source": [
        "cosine_losses = []\n",
        "\n",
        "train(model, criterion, optimizer, lr_scheduler, dl,\n",
        "      n_epochs=num_epochs,\n",
        "      n_cosine=n_cosine, division_layer=division_layer + 1,\n",
        "      weight_mlm=weight_mlm, weight_cos=weight_cos)"
      ]
    },
    {
      "cell_type": "code",
      "source": [],
      "metadata": {
        "id": "pVA2Y1LrNDIf"
      },
      "execution_count": null,
      "outputs": []
    }
  ],
  "metadata": {
    "accelerator": "GPU",
    "colab": {
      "gpuType": "T4",
      "provenance": []
    },
    "kernelspec": {
      "display_name": "Python 3 (ipykernel)",
      "language": "python",
      "name": "python3"
    },
    "language_info": {
      "codemirror_mode": {
        "name": "ipython",
        "version": 3
      },
      "file_extension": ".py",
      "mimetype": "text/x-python",
      "name": "python",
      "nbconvert_exporter": "python",
      "pygments_lexer": "ipython3",
      "version": "3.10.12"
    },
    "widgets": {
      "application/vnd.jupyter.widget-state+json": {
        "001cfa81c7354e93be3df3a5cf1b1058": {
          "model_module": "@jupyter-widgets/controls",
          "model_name": "HBoxModel",
          "model_module_version": "1.5.0",
          "state": {
            "_dom_classes": [],
            "_model_module": "@jupyter-widgets/controls",
            "_model_module_version": "1.5.0",
            "_model_name": "HBoxModel",
            "_view_count": null,
            "_view_module": "@jupyter-widgets/controls",
            "_view_module_version": "1.5.0",
            "_view_name": "HBoxView",
            "box_style": "",
            "children": [
              "IPY_MODEL_1957ad156733493da7a1d98af4e41f75",
              "IPY_MODEL_b09cac7f786d41508fc087bfdc5967b7",
              "IPY_MODEL_3adea4ff86b3452ea61fa306820297e6"
            ],
            "layout": "IPY_MODEL_644be7a3004544af89d53d40dfad2f2b"
          }
        },
        "1957ad156733493da7a1d98af4e41f75": {
          "model_module": "@jupyter-widgets/controls",
          "model_name": "HTMLModel",
          "model_module_version": "1.5.0",
          "state": {
            "_dom_classes": [],
            "_model_module": "@jupyter-widgets/controls",
            "_model_module_version": "1.5.0",
            "_model_name": "HTMLModel",
            "_view_count": null,
            "_view_module": "@jupyter-widgets/controls",
            "_view_module_version": "1.5.0",
            "_view_name": "HTMLView",
            "description": "",
            "description_tooltip": null,
            "layout": "IPY_MODEL_ab1566b360054b28942a3037cf3b746a",
            "placeholder": "​",
            "style": "IPY_MODEL_36d21aa4eb7245f7918062cea3ea7a1b",
            "value": "Epochs:   0%"
          }
        },
        "b09cac7f786d41508fc087bfdc5967b7": {
          "model_module": "@jupyter-widgets/controls",
          "model_name": "FloatProgressModel",
          "model_module_version": "1.5.0",
          "state": {
            "_dom_classes": [],
            "_model_module": "@jupyter-widgets/controls",
            "_model_module_version": "1.5.0",
            "_model_name": "FloatProgressModel",
            "_view_count": null,
            "_view_module": "@jupyter-widgets/controls",
            "_view_module_version": "1.5.0",
            "_view_name": "ProgressView",
            "bar_style": "danger",
            "description": "",
            "description_tooltip": null,
            "layout": "IPY_MODEL_99f7527310794081b4b6adf4b6f3d4eb",
            "max": 1,
            "min": 0,
            "orientation": "horizontal",
            "style": "IPY_MODEL_02c75806a08d4fd48c35b5a1dcdea1fb",
            "value": 0
          }
        },
        "3adea4ff86b3452ea61fa306820297e6": {
          "model_module": "@jupyter-widgets/controls",
          "model_name": "HTMLModel",
          "model_module_version": "1.5.0",
          "state": {
            "_dom_classes": [],
            "_model_module": "@jupyter-widgets/controls",
            "_model_module_version": "1.5.0",
            "_model_name": "HTMLModel",
            "_view_count": null,
            "_view_module": "@jupyter-widgets/controls",
            "_view_module_version": "1.5.0",
            "_view_name": "HTMLView",
            "description": "",
            "description_tooltip": null,
            "layout": "IPY_MODEL_4064efa851f842cdb64b85b7498e2072",
            "placeholder": "​",
            "style": "IPY_MODEL_9cd5f89775324214b3bcf755a575bf56",
            "value": " 0/1 [00:56&lt;?, ?it/s]"
          }
        },
        "644be7a3004544af89d53d40dfad2f2b": {
          "model_module": "@jupyter-widgets/base",
          "model_name": "LayoutModel",
          "model_module_version": "1.2.0",
          "state": {
            "_model_module": "@jupyter-widgets/base",
            "_model_module_version": "1.2.0",
            "_model_name": "LayoutModel",
            "_view_count": null,
            "_view_module": "@jupyter-widgets/base",
            "_view_module_version": "1.2.0",
            "_view_name": "LayoutView",
            "align_content": null,
            "align_items": null,
            "align_self": null,
            "border": null,
            "bottom": null,
            "display": null,
            "flex": null,
            "flex_flow": null,
            "grid_area": null,
            "grid_auto_columns": null,
            "grid_auto_flow": null,
            "grid_auto_rows": null,
            "grid_column": null,
            "grid_gap": null,
            "grid_row": null,
            "grid_template_areas": null,
            "grid_template_columns": null,
            "grid_template_rows": null,
            "height": null,
            "justify_content": null,
            "justify_items": null,
            "left": null,
            "margin": null,
            "max_height": null,
            "max_width": null,
            "min_height": null,
            "min_width": null,
            "object_fit": null,
            "object_position": null,
            "order": null,
            "overflow": null,
            "overflow_x": null,
            "overflow_y": null,
            "padding": null,
            "right": null,
            "top": null,
            "visibility": null,
            "width": null
          }
        },
        "ab1566b360054b28942a3037cf3b746a": {
          "model_module": "@jupyter-widgets/base",
          "model_name": "LayoutModel",
          "model_module_version": "1.2.0",
          "state": {
            "_model_module": "@jupyter-widgets/base",
            "_model_module_version": "1.2.0",
            "_model_name": "LayoutModel",
            "_view_count": null,
            "_view_module": "@jupyter-widgets/base",
            "_view_module_version": "1.2.0",
            "_view_name": "LayoutView",
            "align_content": null,
            "align_items": null,
            "align_self": null,
            "border": null,
            "bottom": null,
            "display": null,
            "flex": null,
            "flex_flow": null,
            "grid_area": null,
            "grid_auto_columns": null,
            "grid_auto_flow": null,
            "grid_auto_rows": null,
            "grid_column": null,
            "grid_gap": null,
            "grid_row": null,
            "grid_template_areas": null,
            "grid_template_columns": null,
            "grid_template_rows": null,
            "height": null,
            "justify_content": null,
            "justify_items": null,
            "left": null,
            "margin": null,
            "max_height": null,
            "max_width": null,
            "min_height": null,
            "min_width": null,
            "object_fit": null,
            "object_position": null,
            "order": null,
            "overflow": null,
            "overflow_x": null,
            "overflow_y": null,
            "padding": null,
            "right": null,
            "top": null,
            "visibility": null,
            "width": null
          }
        },
        "36d21aa4eb7245f7918062cea3ea7a1b": {
          "model_module": "@jupyter-widgets/controls",
          "model_name": "DescriptionStyleModel",
          "model_module_version": "1.5.0",
          "state": {
            "_model_module": "@jupyter-widgets/controls",
            "_model_module_version": "1.5.0",
            "_model_name": "DescriptionStyleModel",
            "_view_count": null,
            "_view_module": "@jupyter-widgets/base",
            "_view_module_version": "1.2.0",
            "_view_name": "StyleView",
            "description_width": ""
          }
        },
        "99f7527310794081b4b6adf4b6f3d4eb": {
          "model_module": "@jupyter-widgets/base",
          "model_name": "LayoutModel",
          "model_module_version": "1.2.0",
          "state": {
            "_model_module": "@jupyter-widgets/base",
            "_model_module_version": "1.2.0",
            "_model_name": "LayoutModel",
            "_view_count": null,
            "_view_module": "@jupyter-widgets/base",
            "_view_module_version": "1.2.0",
            "_view_name": "LayoutView",
            "align_content": null,
            "align_items": null,
            "align_self": null,
            "border": null,
            "bottom": null,
            "display": null,
            "flex": null,
            "flex_flow": null,
            "grid_area": null,
            "grid_auto_columns": null,
            "grid_auto_flow": null,
            "grid_auto_rows": null,
            "grid_column": null,
            "grid_gap": null,
            "grid_row": null,
            "grid_template_areas": null,
            "grid_template_columns": null,
            "grid_template_rows": null,
            "height": null,
            "justify_content": null,
            "justify_items": null,
            "left": null,
            "margin": null,
            "max_height": null,
            "max_width": null,
            "min_height": null,
            "min_width": null,
            "object_fit": null,
            "object_position": null,
            "order": null,
            "overflow": null,
            "overflow_x": null,
            "overflow_y": null,
            "padding": null,
            "right": null,
            "top": null,
            "visibility": null,
            "width": null
          }
        },
        "02c75806a08d4fd48c35b5a1dcdea1fb": {
          "model_module": "@jupyter-widgets/controls",
          "model_name": "ProgressStyleModel",
          "model_module_version": "1.5.0",
          "state": {
            "_model_module": "@jupyter-widgets/controls",
            "_model_module_version": "1.5.0",
            "_model_name": "ProgressStyleModel",
            "_view_count": null,
            "_view_module": "@jupyter-widgets/base",
            "_view_module_version": "1.2.0",
            "_view_name": "StyleView",
            "bar_color": null,
            "description_width": ""
          }
        },
        "4064efa851f842cdb64b85b7498e2072": {
          "model_module": "@jupyter-widgets/base",
          "model_name": "LayoutModel",
          "model_module_version": "1.2.0",
          "state": {
            "_model_module": "@jupyter-widgets/base",
            "_model_module_version": "1.2.0",
            "_model_name": "LayoutModel",
            "_view_count": null,
            "_view_module": "@jupyter-widgets/base",
            "_view_module_version": "1.2.0",
            "_view_name": "LayoutView",
            "align_content": null,
            "align_items": null,
            "align_self": null,
            "border": null,
            "bottom": null,
            "display": null,
            "flex": null,
            "flex_flow": null,
            "grid_area": null,
            "grid_auto_columns": null,
            "grid_auto_flow": null,
            "grid_auto_rows": null,
            "grid_column": null,
            "grid_gap": null,
            "grid_row": null,
            "grid_template_areas": null,
            "grid_template_columns": null,
            "grid_template_rows": null,
            "height": null,
            "justify_content": null,
            "justify_items": null,
            "left": null,
            "margin": null,
            "max_height": null,
            "max_width": null,
            "min_height": null,
            "min_width": null,
            "object_fit": null,
            "object_position": null,
            "order": null,
            "overflow": null,
            "overflow_x": null,
            "overflow_y": null,
            "padding": null,
            "right": null,
            "top": null,
            "visibility": null,
            "width": null
          }
        },
        "9cd5f89775324214b3bcf755a575bf56": {
          "model_module": "@jupyter-widgets/controls",
          "model_name": "DescriptionStyleModel",
          "model_module_version": "1.5.0",
          "state": {
            "_model_module": "@jupyter-widgets/controls",
            "_model_module_version": "1.5.0",
            "_model_name": "DescriptionStyleModel",
            "_view_count": null,
            "_view_module": "@jupyter-widgets/base",
            "_view_module_version": "1.2.0",
            "_view_name": "StyleView",
            "description_width": ""
          }
        },
        "7145096b67ab4dc69573e9047570c587": {
          "model_module": "@jupyter-widgets/controls",
          "model_name": "HBoxModel",
          "model_module_version": "1.5.0",
          "state": {
            "_dom_classes": [],
            "_model_module": "@jupyter-widgets/controls",
            "_model_module_version": "1.5.0",
            "_model_name": "HBoxModel",
            "_view_count": null,
            "_view_module": "@jupyter-widgets/controls",
            "_view_module_version": "1.5.0",
            "_view_name": "HBoxView",
            "box_style": "",
            "children": [
              "IPY_MODEL_e465332bfe814a2485071916e79d6ec0",
              "IPY_MODEL_f468a1aab83f440a9a49912cb2cf901e",
              "IPY_MODEL_cf17fde9c27f40a4b4e8ee7a83918f96"
            ],
            "layout": "IPY_MODEL_e60d7f63aedf4b52982c846515cbc703"
          }
        },
        "e465332bfe814a2485071916e79d6ec0": {
          "model_module": "@jupyter-widgets/controls",
          "model_name": "HTMLModel",
          "model_module_version": "1.5.0",
          "state": {
            "_dom_classes": [],
            "_model_module": "@jupyter-widgets/controls",
            "_model_module_version": "1.5.0",
            "_model_name": "HTMLModel",
            "_view_count": null,
            "_view_module": "@jupyter-widgets/controls",
            "_view_module_version": "1.5.0",
            "_view_name": "HTMLView",
            "description": "",
            "description_tooltip": null,
            "layout": "IPY_MODEL_991f151a7fe041e39275a97cdc1d2838",
            "placeholder": "​",
            "style": "IPY_MODEL_edf64befa1a3437f82ca7886bb27b9af",
            "value": "  0%"
          }
        },
        "f468a1aab83f440a9a49912cb2cf901e": {
          "model_module": "@jupyter-widgets/controls",
          "model_name": "FloatProgressModel",
          "model_module_version": "1.5.0",
          "state": {
            "_dom_classes": [],
            "_model_module": "@jupyter-widgets/controls",
            "_model_module_version": "1.5.0",
            "_model_name": "FloatProgressModel",
            "_view_count": null,
            "_view_module": "@jupyter-widgets/controls",
            "_view_module_version": "1.5.0",
            "_view_name": "ProgressView",
            "bar_style": "",
            "description": "",
            "description_tooltip": null,
            "layout": "IPY_MODEL_4c82641162ed4e569484ba69cbc255c6",
            "max": 37379,
            "min": 0,
            "orientation": "horizontal",
            "style": "IPY_MODEL_e1441e83a1f84e448f7a4b19dc1e6527",
            "value": 166
          }
        },
        "cf17fde9c27f40a4b4e8ee7a83918f96": {
          "model_module": "@jupyter-widgets/controls",
          "model_name": "HTMLModel",
          "model_module_version": "1.5.0",
          "state": {
            "_dom_classes": [],
            "_model_module": "@jupyter-widgets/controls",
            "_model_module_version": "1.5.0",
            "_model_name": "HTMLModel",
            "_view_count": null,
            "_view_module": "@jupyter-widgets/controls",
            "_view_module_version": "1.5.0",
            "_view_name": "HTMLView",
            "description": "",
            "description_tooltip": null,
            "layout": "IPY_MODEL_99f562bfbd5c4f25a847a01add5d776a",
            "placeholder": "​",
            "style": "IPY_MODEL_f76d3bb75a774ce9a538561618ca09cf",
            "value": " 166/37379 [00:55&lt;2:56:01,  3.52it/s, Cosine loss=1.46]"
          }
        },
        "e60d7f63aedf4b52982c846515cbc703": {
          "model_module": "@jupyter-widgets/base",
          "model_name": "LayoutModel",
          "model_module_version": "1.2.0",
          "state": {
            "_model_module": "@jupyter-widgets/base",
            "_model_module_version": "1.2.0",
            "_model_name": "LayoutModel",
            "_view_count": null,
            "_view_module": "@jupyter-widgets/base",
            "_view_module_version": "1.2.0",
            "_view_name": "LayoutView",
            "align_content": null,
            "align_items": null,
            "align_self": null,
            "border": null,
            "bottom": null,
            "display": null,
            "flex": null,
            "flex_flow": null,
            "grid_area": null,
            "grid_auto_columns": null,
            "grid_auto_flow": null,
            "grid_auto_rows": null,
            "grid_column": null,
            "grid_gap": null,
            "grid_row": null,
            "grid_template_areas": null,
            "grid_template_columns": null,
            "grid_template_rows": null,
            "height": null,
            "justify_content": null,
            "justify_items": null,
            "left": null,
            "margin": null,
            "max_height": null,
            "max_width": null,
            "min_height": null,
            "min_width": null,
            "object_fit": null,
            "object_position": null,
            "order": null,
            "overflow": null,
            "overflow_x": null,
            "overflow_y": null,
            "padding": null,
            "right": null,
            "top": null,
            "visibility": null,
            "width": null
          }
        },
        "991f151a7fe041e39275a97cdc1d2838": {
          "model_module": "@jupyter-widgets/base",
          "model_name": "LayoutModel",
          "model_module_version": "1.2.0",
          "state": {
            "_model_module": "@jupyter-widgets/base",
            "_model_module_version": "1.2.0",
            "_model_name": "LayoutModel",
            "_view_count": null,
            "_view_module": "@jupyter-widgets/base",
            "_view_module_version": "1.2.0",
            "_view_name": "LayoutView",
            "align_content": null,
            "align_items": null,
            "align_self": null,
            "border": null,
            "bottom": null,
            "display": null,
            "flex": null,
            "flex_flow": null,
            "grid_area": null,
            "grid_auto_columns": null,
            "grid_auto_flow": null,
            "grid_auto_rows": null,
            "grid_column": null,
            "grid_gap": null,
            "grid_row": null,
            "grid_template_areas": null,
            "grid_template_columns": null,
            "grid_template_rows": null,
            "height": null,
            "justify_content": null,
            "justify_items": null,
            "left": null,
            "margin": null,
            "max_height": null,
            "max_width": null,
            "min_height": null,
            "min_width": null,
            "object_fit": null,
            "object_position": null,
            "order": null,
            "overflow": null,
            "overflow_x": null,
            "overflow_y": null,
            "padding": null,
            "right": null,
            "top": null,
            "visibility": null,
            "width": null
          }
        },
        "edf64befa1a3437f82ca7886bb27b9af": {
          "model_module": "@jupyter-widgets/controls",
          "model_name": "DescriptionStyleModel",
          "model_module_version": "1.5.0",
          "state": {
            "_model_module": "@jupyter-widgets/controls",
            "_model_module_version": "1.5.0",
            "_model_name": "DescriptionStyleModel",
            "_view_count": null,
            "_view_module": "@jupyter-widgets/base",
            "_view_module_version": "1.2.0",
            "_view_name": "StyleView",
            "description_width": ""
          }
        },
        "4c82641162ed4e569484ba69cbc255c6": {
          "model_module": "@jupyter-widgets/base",
          "model_name": "LayoutModel",
          "model_module_version": "1.2.0",
          "state": {
            "_model_module": "@jupyter-widgets/base",
            "_model_module_version": "1.2.0",
            "_model_name": "LayoutModel",
            "_view_count": null,
            "_view_module": "@jupyter-widgets/base",
            "_view_module_version": "1.2.0",
            "_view_name": "LayoutView",
            "align_content": null,
            "align_items": null,
            "align_self": null,
            "border": null,
            "bottom": null,
            "display": null,
            "flex": null,
            "flex_flow": null,
            "grid_area": null,
            "grid_auto_columns": null,
            "grid_auto_flow": null,
            "grid_auto_rows": null,
            "grid_column": null,
            "grid_gap": null,
            "grid_row": null,
            "grid_template_areas": null,
            "grid_template_columns": null,
            "grid_template_rows": null,
            "height": null,
            "justify_content": null,
            "justify_items": null,
            "left": null,
            "margin": null,
            "max_height": null,
            "max_width": null,
            "min_height": null,
            "min_width": null,
            "object_fit": null,
            "object_position": null,
            "order": null,
            "overflow": null,
            "overflow_x": null,
            "overflow_y": null,
            "padding": null,
            "right": null,
            "top": null,
            "visibility": null,
            "width": null
          }
        },
        "e1441e83a1f84e448f7a4b19dc1e6527": {
          "model_module": "@jupyter-widgets/controls",
          "model_name": "ProgressStyleModel",
          "model_module_version": "1.5.0",
          "state": {
            "_model_module": "@jupyter-widgets/controls",
            "_model_module_version": "1.5.0",
            "_model_name": "ProgressStyleModel",
            "_view_count": null,
            "_view_module": "@jupyter-widgets/base",
            "_view_module_version": "1.2.0",
            "_view_name": "StyleView",
            "bar_color": null,
            "description_width": ""
          }
        },
        "99f562bfbd5c4f25a847a01add5d776a": {
          "model_module": "@jupyter-widgets/base",
          "model_name": "LayoutModel",
          "model_module_version": "1.2.0",
          "state": {
            "_model_module": "@jupyter-widgets/base",
            "_model_module_version": "1.2.0",
            "_model_name": "LayoutModel",
            "_view_count": null,
            "_view_module": "@jupyter-widgets/base",
            "_view_module_version": "1.2.0",
            "_view_name": "LayoutView",
            "align_content": null,
            "align_items": null,
            "align_self": null,
            "border": null,
            "bottom": null,
            "display": null,
            "flex": null,
            "flex_flow": null,
            "grid_area": null,
            "grid_auto_columns": null,
            "grid_auto_flow": null,
            "grid_auto_rows": null,
            "grid_column": null,
            "grid_gap": null,
            "grid_row": null,
            "grid_template_areas": null,
            "grid_template_columns": null,
            "grid_template_rows": null,
            "height": null,
            "justify_content": null,
            "justify_items": null,
            "left": null,
            "margin": null,
            "max_height": null,
            "max_width": null,
            "min_height": null,
            "min_width": null,
            "object_fit": null,
            "object_position": null,
            "order": null,
            "overflow": null,
            "overflow_x": null,
            "overflow_y": null,
            "padding": null,
            "right": null,
            "top": null,
            "visibility": null,
            "width": null
          }
        },
        "f76d3bb75a774ce9a538561618ca09cf": {
          "model_module": "@jupyter-widgets/controls",
          "model_name": "DescriptionStyleModel",
          "model_module_version": "1.5.0",
          "state": {
            "_model_module": "@jupyter-widgets/controls",
            "_model_module_version": "1.5.0",
            "_model_name": "DescriptionStyleModel",
            "_view_count": null,
            "_view_module": "@jupyter-widgets/base",
            "_view_module_version": "1.2.0",
            "_view_name": "StyleView",
            "description_width": ""
          }
        }
      }
    }
  },
  "nbformat": 4,
  "nbformat_minor": 0
}